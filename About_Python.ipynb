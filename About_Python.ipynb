{
  "nbformat": 4,
  "nbformat_minor": 0,
  "metadata": {
    "colab": {
      "name": "About Python.ipynb",
      "provenance": [],
      "collapsed_sections": [],
      "authorship_tag": "ABX9TyPkQMf08iC10NtvQGBWZNcb",
      "include_colab_link": true
    },
    "kernelspec": {
      "name": "python3",
      "display_name": "Python 3"
    },
    "language_info": {
      "name": "python"
    }
  },
  "cells": [
    {
      "cell_type": "markdown",
      "metadata": {
        "id": "view-in-github",
        "colab_type": "text"
      },
      "source": [
        "<a href=\"https://colab.research.google.com/github/soujanya-vattikolla/Python_for_Everybody/blob/main/About_Python.ipynb\" target=\"_parent\"><img src=\"https://colab.research.google.com/assets/colab-badge.svg\" alt=\"Open In Colab\"/></a>"
      ]
    },
    {
      "cell_type": "markdown",
      "source": [
        "To know the **version** of python"
      ],
      "metadata": {
        "id": "0oIbX_sMxe78"
      }
    },
    {
      "cell_type": "code",
      "source": [
        "!python --version"
      ],
      "metadata": {
        "colab": {
          "base_uri": "https://localhost:8080/"
        },
        "id": "hu8MjtL39UF7",
        "outputId": "3c87d7dc-7c48-4397-e26b-8d977971c374"
      },
      "execution_count": 1,
      "outputs": [
        {
          "output_type": "stream",
          "name": "stdout",
          "text": [
            "Python 3.7.12\n"
          ]
        }
      ]
    },
    {
      "cell_type": "markdown",
      "source": [
        "### What is a Code?<br>\n",
        "Stored set of instructions."
      ],
      "metadata": {
        "id": "0Yn9kuEH-R6u"
      }
    },
    {
      "cell_type": "markdown",
      "source": [
        "**Features of Python:**\n",
        "\n",
        "Simple and easy to learn.<br>\n",
        "Free and open source.<br>\n",
        "General Purpose and high level programming language.<br>\n",
        "Platform independent.<br>\n",
        "Case Sensitive.<br>\n",
        "Interpreted Language.<br>\n",
        "Dynamically typed."
      ],
      "metadata": {
        "id": "AWs5_J4oEMwf"
      }
    },
    {
      "cell_type": "markdown",
      "source": [
        "**Reserved words** <br>\n",
        "You cannot use reserved words as variable names / identifiers"
      ],
      "metadata": {
        "id": "rFKSi5CXgJi-"
      }
    },
    {
      "cell_type": "markdown",
      "source": [
        "**Constants** <br>\n",
        "Fixed values such as numbers, letters, their value does not change.<br>\n",
        "Nummeric constants and String constants"
      ],
      "metadata": {
        "id": "RjSnFp622C-5"
      }
    },
    {
      "cell_type": "markdown",
      "source": [
        "**Variable** <br>\n",
        "A variable is a container to store data values.<br>\n",
        "**Rules**: <br>\n",
        "Variable should start with a letter or _ <br>\n",
        "Must consist of letters, numbers, underscores <br>\n",
        "Case sensitive"
      ],
      "metadata": {
        "id": "onRgfFeJ2xN2"
      }
    },
    {
      "cell_type": "markdown",
      "source": [
        "**Expressions**<br>\n",
        "Numeric Expressions <br>\n",
        "**Operator Precedence**<br>\n",
        "Parentheses, <br>\n",
        "Exponentiation, <br>\n",
        "Multiplication, <br>\n",
        "Addition and <br>\n",
        "Left to Right"
      ],
      "metadata": {
        "id": "jn6k-aVc3ehD"
      }
    },
    {
      "cell_type": "markdown",
      "source": [
        "**Integer division**<br>\n",
        "It produces a floating point result."
      ],
      "metadata": {
        "id": "AGV8FB85DwYL"
      }
    },
    {
      "cell_type": "markdown",
      "source": [
        "**String conversions**"
      ],
      "metadata": {
        "id": "0UFAyll5_GHl"
      }
    },
    {
      "cell_type": "code",
      "source": [
        "sval = '123'\n",
        "print(type(sval))\n",
        "print(sval+1) # we get a string concantenation error"
      ],
      "metadata": {
        "colab": {
          "base_uri": "https://localhost:8080/",
          "height": 224
        },
        "id": "BBtBk3Ac_TGy",
        "outputId": "a92820b3-801f-4f6a-bb04-49abacc5ae25"
      },
      "execution_count": 7,
      "outputs": [
        {
          "output_type": "stream",
          "name": "stdout",
          "text": [
            "<class 'str'>\n"
          ]
        },
        {
          "output_type": "error",
          "ename": "TypeError",
          "evalue": "ignored",
          "traceback": [
            "\u001b[0;31m---------------------------------------------------------------------------\u001b[0m",
            "\u001b[0;31mTypeError\u001b[0m                                 Traceback (most recent call last)",
            "\u001b[0;32m<ipython-input-7-3a261531c981>\u001b[0m in \u001b[0;36m<module>\u001b[0;34m()\u001b[0m\n\u001b[1;32m      1\u001b[0m \u001b[0msval\u001b[0m \u001b[0;34m=\u001b[0m \u001b[0;34m'123'\u001b[0m\u001b[0;34m\u001b[0m\u001b[0;34m\u001b[0m\u001b[0m\n\u001b[1;32m      2\u001b[0m \u001b[0mprint\u001b[0m\u001b[0;34m(\u001b[0m\u001b[0mtype\u001b[0m\u001b[0;34m(\u001b[0m\u001b[0msval\u001b[0m\u001b[0;34m)\u001b[0m\u001b[0;34m)\u001b[0m\u001b[0;34m\u001b[0m\u001b[0;34m\u001b[0m\u001b[0m\n\u001b[0;32m----> 3\u001b[0;31m \u001b[0mprint\u001b[0m\u001b[0;34m(\u001b[0m\u001b[0msval\u001b[0m\u001b[0;34m+\u001b[0m\u001b[0;36m1\u001b[0m\u001b[0;34m)\u001b[0m \u001b[0;31m## we get a string concantenation error\u001b[0m\u001b[0;34m\u001b[0m\u001b[0;34m\u001b[0m\u001b[0m\n\u001b[0m",
            "\u001b[0;31mTypeError\u001b[0m: can only concatenate str (not \"int\") to str"
          ]
        }
      ]
    },
    {
      "cell_type": "code",
      "source": [
        "ival = int(sval)\n",
        "print(type(ival))\n",
        "print(ival+1)"
      ],
      "metadata": {
        "colab": {
          "base_uri": "https://localhost:8080/"
        },
        "id": "zITC1Y9C_YNb",
        "outputId": "ae6680fd-ebe5-4af1-99cf-5db2e8464dec"
      },
      "execution_count": 6,
      "outputs": [
        {
          "output_type": "stream",
          "name": "stdout",
          "text": [
            "<class 'int'>\n",
            "124\n"
          ]
        }
      ]
    },
    {
      "cell_type": "markdown",
      "source": [
        "**User Input**"
      ],
      "metadata": {
        "id": "ojZntnz1_1Qt"
      }
    },
    {
      "cell_type": "code",
      "source": [
        "nam = input(\"Enter your name:\")\n",
        "print('Welcome',nam)"
      ],
      "metadata": {
        "colab": {
          "base_uri": "https://localhost:8080/"
        },
        "id": "JpPp1tME_3X9",
        "outputId": "ddf94396-01dc-4756-ee0b-8ecabdd72e7d"
      },
      "execution_count": 9,
      "outputs": [
        {
          "output_type": "stream",
          "name": "stdout",
          "text": [
            "Enter your name:Soujanya\n",
            "Welcome Soujanya\n"
          ]
        }
      ]
    },
    {
      "cell_type": "markdown",
      "source": [
        "**Converting user input**"
      ],
      "metadata": {
        "id": "ENv-lD_BAA90"
      }
    },
    {
      "cell_type": "code",
      "source": [
        "inp = input(\"Enter floor \")\n",
        "flr = int(inp)+1\n",
        "print(\"Floor\",flr)"
      ],
      "metadata": {
        "colab": {
          "base_uri": "https://localhost:8080/"
        },
        "id": "mlXi0_96AIX1",
        "outputId": "b74450fd-fc7a-4856-c0de-62858523c570"
      },
      "execution_count": 11,
      "outputs": [
        {
          "output_type": "stream",
          "name": "stdout",
          "text": [
            "Enter floor 5\n",
            "Floor 6\n"
          ]
        }
      ]
    },
    {
      "cell_type": "markdown",
      "source": [
        "**Comments**<br>\n",
        "To add description to the code."
      ],
      "metadata": {
        "id": "57yZTfdeAN_k"
      }
    },
    {
      "cell_type": "markdown",
      "source": [
        "**Conditional Execution**<br>\n",
        "Comparison operators look at variables but do not change the variables <br>\n",
        "Boolean expressions using comparison operators evaluate to True/False or Yes/No"
      ],
      "metadata": {
        "id": "pRxrtkHDATgJ"
      }
    },
    {
      "cell_type": "markdown",
      "source": [
        "**Indentation**<br>\n",
        "Indentation in Python refers to the (spaces and tabs) that are used at the beginning of a statement. "
      ],
      "metadata": {
        "id": "s_doRN9uAZX8"
      }
    },
    {
      "cell_type": "markdown",
      "source": [
        "**Conditional Structures**<br>\n",
        "One way decision <br>\n",
        "Two way decision: <br>\n",
        "   If and else   <br>\n",
        "Nested Decisions   <br>\n",
        "Multi way decision using elif"
      ],
      "metadata": {
        "id": "AapTV3WJAeVC"
      }
    },
    {
      "cell_type": "code",
      "source": [
        "x = 1\n",
        "if x<2:\n",
        "    print(\"Below 2\")\n",
        "elif x >= 2:\n",
        "    print(\"Two or more\")\n",
        "else:\n",
        "    print(\"else\")"
      ],
      "metadata": {
        "colab": {
          "base_uri": "https://localhost:8080/"
        },
        "id": "CDM4S578A3dc",
        "outputId": "8a60d604-7872-459d-8439-a94c0a00fdb1"
      },
      "execution_count": 13,
      "outputs": [
        {
          "output_type": "stream",
          "name": "stdout",
          "text": [
            "Below 2\n"
          ]
        }
      ]
    },
    {
      "cell_type": "markdown",
      "source": [
        "**if...elif..else Statement**"
      ],
      "metadata": {
        "id": "wywU6qgDF4Zd"
      }
    },
    {
      "cell_type": "code",
      "source": [
        "marks = int(input(\"Enter the marks:\"))\n",
        "if marks >=90 and marks<=100:\n",
        "  print(\"A grade\")\n",
        "elif marks >=80:\n",
        "  print(\"B grade\")\n",
        "elif marks >=70:\n",
        "  print(\"C grade\")\n",
        "elif marks >=60:\n",
        "  print(\"D grade\")\n",
        "else:\n",
        "  print(\"Fail\")\n"
      ],
      "metadata": {
        "colab": {
          "base_uri": "https://localhost:8080/"
        },
        "id": "cUBgG9WKFpP1",
        "outputId": "bf4ecf12-a3c9-4096-e72e-75826e11acde"
      },
      "execution_count": 19,
      "outputs": [
        {
          "output_type": "stream",
          "name": "stdout",
          "text": [
            "Enter the marks:85\n",
            "B grade\n"
          ]
        }
      ]
    },
    {
      "cell_type": "markdown",
      "source": [
        "**Nested if - else Statements**"
      ],
      "metadata": {
        "id": "cqP5-V7fG1Zv"
      }
    },
    {
      "cell_type": "code",
      "source": [
        "marks = int(input(\"Enter marks: \"))\n",
        "if marks >= 75:\n",
        "  print(\"Grade: \",end=' ')\n",
        "  if marks >=90:\n",
        "      print(\"A\")\n",
        "  elif marks >=80:\n",
        "      print(\"B\")\n",
        "  elif marks >=70:\n",
        "      print(\"C\")\n",
        "else:\n",
        "  print(\"D\")"
      ],
      "metadata": {
        "colab": {
          "base_uri": "https://localhost:8080/"
        },
        "id": "N2oGwT9dG2ib",
        "outputId": "322fccaf-be80-4f0a-869e-c7d14b010d94"
      },
      "execution_count": 20,
      "outputs": [
        {
          "output_type": "stream",
          "name": "stdout",
          "text": [
            "Enter marks:80\n",
            "Grade:  B\n"
          ]
        }
      ]
    },
    {
      "cell_type": "markdown",
      "source": [
        "**Try and except Structure**<br>\n",
        "If the code in try works, then except is skipped <br>\n",
        "If the code in try fails, then except is executed"
      ],
      "metadata": {
        "id": "goZjRcNRAmPD"
      }
    },
    {
      "cell_type": "markdown",
      "source": [
        "**Functions** <br>\n",
        "Reusability of Code.<br>\n",
        "There are two kinds of functions: Built-in functions and Functions that we define ourselves and then use <br>\n",
        "We define a function using the def reserved word"
      ],
      "metadata": {
        "id": "-XFqHyy2BFnQ"
      }
    },
    {
      "cell_type": "code",
      "source": [
        "def myFirstFunction():\n",
        "  print(\"FirstFunction\")\n",
        "myFirstFunction()"
      ],
      "metadata": {
        "colab": {
          "base_uri": "https://localhost:8080/"
        },
        "id": "stAPWcFhL2CF",
        "outputId": "491a5ad4-ae77-4201-ae10-e7443bd33a37"
      },
      "execution_count": 22,
      "outputs": [
        {
          "output_type": "stream",
          "name": "stdout",
          "text": [
            "FirstFunction\n"
          ]
        }
      ]
    },
    {
      "cell_type": "markdown",
      "source": [
        "**Arguments** <br>\n",
        "An argument is a value we pass into the function as its input when we call the function."
      ],
      "metadata": {
        "id": "6pB3SWiQBeI8"
      }
    },
    {
      "cell_type": "code",
      "source": [
        "def square(num):\n",
        "  print(\"The square of {} is {} \" .format(num, num**2))\n",
        "\n",
        "square(5)\n",
        "square(10)"
      ],
      "metadata": {
        "colab": {
          "base_uri": "https://localhost:8080/"
        },
        "id": "7sIt5rlPMNSw",
        "outputId": "73dd6cb4-4249-4448-9529-d4d29a84010e"
      },
      "execution_count": 30,
      "outputs": [
        {
          "output_type": "stream",
          "name": "stdout",
          "text": [
            "The square of 5 is 25 \n",
            "The square of 10 is 100 \n"
          ]
        }
      ]
    },
    {
      "cell_type": "markdown",
      "source": [
        "**Return value**<br>\n",
        "The return statement ends the function execution and send back the result of the function."
      ],
      "metadata": {
        "id": "2eRnQ9mFBvJl"
      }
    },
    {
      "cell_type": "code",
      "source": [
        "def add_sub(a,b):\n",
        "    add = a+b\n",
        "    sub = a-b\n",
        "    return add,sub\n",
        "numbers = add_sub(10,5)\n",
        "print(\"addition and subtraction is: \", numbers)"
      ],
      "metadata": {
        "colab": {
          "base_uri": "https://localhost:8080/"
        },
        "id": "kyheUEZmNNf6",
        "outputId": "de52a828-eea1-4b4c-c0a4-ea86ef0d9653"
      },
      "execution_count": 32,
      "outputs": [
        {
          "output_type": "stream",
          "name": "stdout",
          "text": [
            "addition and subtraction is:  (15, 5)\n"
          ]
        }
      ]
    },
    {
      "cell_type": "markdown",
      "source": [
        "**Multiple Parameters/Arguments**"
      ],
      "metadata": {
        "id": "Ox1OdZ-zByRr"
      }
    },
    {
      "cell_type": "code",
      "source": [
        "def printInfo(marks,name,age,message):\n",
        "    print(\"Name: \", name)\n",
        "    print(\"Age: \",age)\n",
        "    print(\"Marks: \",marks)\n",
        "    print(\"Message: \",message)\n",
        "printInfo(100,\"abc\",16,\"GoodMorning\")"
      ],
      "metadata": {
        "colab": {
          "base_uri": "https://localhost:8080/"
        },
        "id": "l7TlfjlMN1po",
        "outputId": "f26d29cb-51f7-40a2-815a-2b4da94ee694"
      },
      "execution_count": 33,
      "outputs": [
        {
          "output_type": "stream",
          "name": "stdout",
          "text": [
            "Name:  abc\n",
            "Age:  16\n",
            "Marks:  100\n",
            "Message:  GoodMorning\n"
          ]
        }
      ]
    },
    {
      "cell_type": "markdown",
      "source": [
        "**Void Function**<br>\n",
        "When the function does not return a value, we call it a void function"
      ],
      "metadata": {
        "id": "IdFU24lOB2me"
      }
    },
    {
      "cell_type": "markdown",
      "source": [
        "**Loops and Iterations**<br>\n"
      ],
      "metadata": {
        "id": "dYYLhIXaB7Qd"
      }
    },
    {
      "cell_type": "code",
      "source": [
        "# Break statement\n",
        "while True:\n",
        "    line = input(\"Enter your name:\")\n",
        "    if line == 'done':\n",
        "        break\n",
        "    print(line)\n",
        "print('Done!')"
      ],
      "metadata": {
        "colab": {
          "base_uri": "https://localhost:8080/"
        },
        "id": "gnAJPJ3_CBkV",
        "outputId": "653cd187-7808-4318-ef28-cd9b4c1f49cf"
      },
      "execution_count": 14,
      "outputs": [
        {
          "output_type": "stream",
          "name": "stdout",
          "text": [
            "Enter your name:Soujanya\n",
            "Soujanya\n",
            "Enter your name:Done\n",
            "Done\n",
            "Enter your name:done\n",
            "Done!\n"
          ]
        }
      ]
    },
    {
      "cell_type": "markdown",
      "source": [
        "**Definite loops:**<br>\n",
        "For loop "
      ],
      "metadata": {
        "id": "HOYCp3kzCK5p"
      }
    },
    {
      "cell_type": "code",
      "source": [
        "friends = ['Jo','Joey','Sally']\n",
        "for friend in friends:\n",
        "    print(\"Hello\",friend)\n",
        "print(\"Done\")"
      ],
      "metadata": {
        "colab": {
          "base_uri": "https://localhost:8080/"
        },
        "id": "pGYZg9sKCN1H",
        "outputId": "f2da49ce-23f8-41fa-f629-e1b60ee2edf0"
      },
      "execution_count": 15,
      "outputs": [
        {
          "output_type": "stream",
          "name": "stdout",
          "text": [
            "Hello Jo\n",
            "Hello Joey\n",
            "Hello Sally\n",
            "Done\n"
          ]
        }
      ]
    },
    {
      "cell_type": "code",
      "source": [
        ""
      ],
      "metadata": {
        "id": "YQvgDN-uI0ZM"
      },
      "execution_count": null,
      "outputs": []
    },
    {
      "cell_type": "code",
      "source": [
        "for count in range(10):\n",
        "  if count == 5:\n",
        "    break\n",
        "  print(\"The count is : \", count)\n",
        "print(\"END\")"
      ],
      "metadata": {
        "colab": {
          "base_uri": "https://localhost:8080/"
        },
        "id": "VqEqUiCBI2UF",
        "outputId": "2f7d79bc-8195-4876-d0cb-4227f97230fa"
      },
      "execution_count": 21,
      "outputs": [
        {
          "output_type": "stream",
          "name": "stdout",
          "text": [
            "The count is :  0\n",
            "The count is :  1\n",
            "The count is :  2\n",
            "The count is :  3\n",
            "The count is :  4\n",
            "END\n"
          ]
        }
      ]
    },
    {
      "cell_type": "markdown",
      "source": [
        "**What is the largest number:**"
      ],
      "metadata": {
        "id": "WxtL3cvSCR36"
      }
    },
    {
      "cell_type": "code",
      "source": [
        "largest_num = -1\n",
        "for num in [9,3,21,85,6,55]:\n",
        "    if num > largest_num:\n",
        "        largest_num = num\n",
        "    print(largest_num, num)\n",
        "print(\"largest num is \",largest_num)"
      ],
      "metadata": {
        "colab": {
          "base_uri": "https://localhost:8080/"
        },
        "id": "7Au1jbC4CS-a",
        "outputId": "e07d806d-ec64-4773-a13d-f75e608a1593"
      },
      "execution_count": 16,
      "outputs": [
        {
          "output_type": "stream",
          "name": "stdout",
          "text": [
            "9 9\n",
            "9 3\n",
            "21 21\n",
            "85 85\n",
            "85 6\n",
            "85 55\n",
            "largest num is  85\n"
          ]
        }
      ]
    },
    {
      "cell_type": "markdown",
      "source": [
        "We can use loop in many ways:<br>\n",
        "Count and sum the loop <br>\n",
        "Filtering the loop <br>\n",
        "Searching using a Boolean Variable "
      ],
      "metadata": {
        "id": "WfGMZcVECX9c"
      }
    },
    {
      "cell_type": "markdown",
      "source": [
        "**What is the smallest number:**"
      ],
      "metadata": {
        "id": "C8LCbkiiCmAp"
      }
    },
    {
      "cell_type": "code",
      "source": [
        "small_num = None\n",
        "for num in [9,19,21,3,21,85,6,55]:\n",
        "    if small_num is None:\n",
        "        small_num = num\n",
        "    elif num < small_num:\n",
        "        small_num = num\n",
        "    print(small_num,num)\n",
        "print(small_num)"
      ],
      "metadata": {
        "colab": {
          "base_uri": "https://localhost:8080/"
        },
        "id": "7OB-LY75Cnzc",
        "outputId": "f5d74de8-1316-4d13-d463-f19bda0c3629"
      },
      "execution_count": 17,
      "outputs": [
        {
          "output_type": "stream",
          "name": "stdout",
          "text": [
            "9 9\n",
            "9 19\n",
            "9 21\n",
            "3 3\n",
            "3 21\n",
            "3 85\n",
            "3 6\n",
            "3 55\n",
            "3\n"
          ]
        }
      ]
    },
    {
      "cell_type": "markdown",
      "source": [
        "**The \"is\" and \"is not\" Operators** <br>\n",
        "**\"is\"** operator can be used in logical expressions <br>\n",
        "**\"is not\"** is a logical operator"
      ],
      "metadata": {
        "id": "0VNqWrE9Cro7"
      }
    }
  ]
}