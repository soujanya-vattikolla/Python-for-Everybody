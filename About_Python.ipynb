{
  "nbformat": 4,
  "nbformat_minor": 0,
  "metadata": {
    "colab": {
      "name": "About Python.ipynb",
      "provenance": [],
      "collapsed_sections": [],
      "authorship_tag": "ABX9TyMp60C74SfPnRXEtKm9Bxyv",
      "include_colab_link": true
    },
    "kernelspec": {
      "name": "python3",
      "display_name": "Python 3"
    },
    "language_info": {
      "name": "python"
    }
  },
  "cells": [
    {
      "cell_type": "markdown",
      "metadata": {
        "id": "view-in-github",
        "colab_type": "text"
      },
      "source": [
        "<a href=\"https://colab.research.google.com/github/soujanya-vattikolla/Python_for_Everybody/blob/main/About_Python.ipynb\" target=\"_parent\"><img src=\"https://colab.research.google.com/assets/colab-badge.svg\" alt=\"Open In Colab\"/></a>"
      ]
    },
    {
      "cell_type": "markdown",
      "source": [
        "To know the **version** of python"
      ],
      "metadata": {
        "id": "0oIbX_sMxe78"
      }
    },
    {
      "cell_type": "code",
      "source": [
        "!python --version"
      ],
      "metadata": {
        "colab": {
          "base_uri": "https://localhost:8080/"
        },
        "id": "hu8MjtL39UF7",
        "outputId": "3c87d7dc-7c48-4397-e26b-8d977971c374"
      },
      "execution_count": null,
      "outputs": [
        {
          "output_type": "stream",
          "name": "stdout",
          "text": [
            "Python 3.7.12\n"
          ]
        }
      ]
    },
    {
      "cell_type": "markdown",
      "source": [
        "### What is a Code?<br>\n",
        "Stored set of instructions."
      ],
      "metadata": {
        "id": "0Yn9kuEH-R6u"
      }
    },
    {
      "cell_type": "markdown",
      "source": [
        "**Features of Python:**\n",
        "\n",
        "Simple and easy to learn.<br>\n",
        "Free and open source.<br>\n",
        "General Purpose and high level programming language.<br>\n",
        "Platform independent.<br>\n",
        "Case Sensitive.<br>\n",
        "Interpreted Language.<br>\n",
        "Dynamically typed."
      ],
      "metadata": {
        "id": "AWs5_J4oEMwf"
      }
    },
    {
      "cell_type": "markdown",
      "source": [
        "**Reserved words** <br>\n",
        "You cannot use reserved words as variable names / identifiers"
      ],
      "metadata": {
        "id": "rFKSi5CXgJi-"
      }
    },
    {
      "cell_type": "markdown",
      "source": [
        "**Constants** <br>\n",
        "Fixed values such as numbers, letters, their value does not change.<br>\n",
        "Nummeric constants and String constants"
      ],
      "metadata": {
        "id": "RjSnFp622C-5"
      }
    },
    {
      "cell_type": "markdown",
      "source": [
        "**Variable** <br>\n",
        "A variable is a container to store data values.<br>\n",
        "**Rules**: <br>\n",
        "Variable should start with a letter or _ <br>\n",
        "Must consist of letters, numbers, underscores <br>\n",
        "Case sensitive"
      ],
      "metadata": {
        "id": "onRgfFeJ2xN2"
      }
    },
    {
      "cell_type": "markdown",
      "source": [
        "**Expressions**<br>\n",
        "Numeric Expressions <br>\n",
        "**Operator Precedence**<br>\n",
        "Parentheses, <br>\n",
        "Exponentiation, <br>\n",
        "Multiplication, <br>\n",
        "Addition and <br>\n",
        "Left to Right"
      ],
      "metadata": {
        "id": "jn6k-aVc3ehD"
      }
    },
    {
      "cell_type": "markdown",
      "source": [
        "**Integer division**<br>\n",
        "It produces a floating point result."
      ],
      "metadata": {
        "id": "AGV8FB85DwYL"
      }
    },
    {
      "cell_type": "markdown",
      "source": [
        "**String conversions**"
      ],
      "metadata": {
        "id": "0UFAyll5_GHl"
      }
    },
    {
      "cell_type": "code",
      "source": [
        "sval = '123'\n",
        "print(type(sval))\n",
        "print(sval+1) # we get a string concantenation error"
      ],
      "metadata": {
        "colab": {
          "base_uri": "https://localhost:8080/",
          "height": 224
        },
        "id": "BBtBk3Ac_TGy",
        "outputId": "a92820b3-801f-4f6a-bb04-49abacc5ae25"
      },
      "execution_count": null,
      "outputs": [
        {
          "output_type": "stream",
          "name": "stdout",
          "text": [
            "<class 'str'>\n"
          ]
        },
        {
          "output_type": "error",
          "ename": "TypeError",
          "evalue": "ignored",
          "traceback": [
            "\u001b[0;31m---------------------------------------------------------------------------\u001b[0m",
            "\u001b[0;31mTypeError\u001b[0m                                 Traceback (most recent call last)",
            "\u001b[0;32m<ipython-input-7-3a261531c981>\u001b[0m in \u001b[0;36m<module>\u001b[0;34m()\u001b[0m\n\u001b[1;32m      1\u001b[0m \u001b[0msval\u001b[0m \u001b[0;34m=\u001b[0m \u001b[0;34m'123'\u001b[0m\u001b[0;34m\u001b[0m\u001b[0;34m\u001b[0m\u001b[0m\n\u001b[1;32m      2\u001b[0m \u001b[0mprint\u001b[0m\u001b[0;34m(\u001b[0m\u001b[0mtype\u001b[0m\u001b[0;34m(\u001b[0m\u001b[0msval\u001b[0m\u001b[0;34m)\u001b[0m\u001b[0;34m)\u001b[0m\u001b[0;34m\u001b[0m\u001b[0;34m\u001b[0m\u001b[0m\n\u001b[0;32m----> 3\u001b[0;31m \u001b[0mprint\u001b[0m\u001b[0;34m(\u001b[0m\u001b[0msval\u001b[0m\u001b[0;34m+\u001b[0m\u001b[0;36m1\u001b[0m\u001b[0;34m)\u001b[0m \u001b[0;31m## we get a string concantenation error\u001b[0m\u001b[0;34m\u001b[0m\u001b[0;34m\u001b[0m\u001b[0m\n\u001b[0m",
            "\u001b[0;31mTypeError\u001b[0m: can only concatenate str (not \"int\") to str"
          ]
        }
      ]
    },
    {
      "cell_type": "code",
      "source": [
        "ival = int(sval)\n",
        "print(type(ival))\n",
        "print(ival+1)"
      ],
      "metadata": {
        "colab": {
          "base_uri": "https://localhost:8080/"
        },
        "id": "zITC1Y9C_YNb",
        "outputId": "ae6680fd-ebe5-4af1-99cf-5db2e8464dec"
      },
      "execution_count": null,
      "outputs": [
        {
          "output_type": "stream",
          "name": "stdout",
          "text": [
            "<class 'int'>\n",
            "124\n"
          ]
        }
      ]
    },
    {
      "cell_type": "markdown",
      "source": [
        "**User Input**"
      ],
      "metadata": {
        "id": "ojZntnz1_1Qt"
      }
    },
    {
      "cell_type": "code",
      "source": [
        "nam = input(\"Enter your name:\")\n",
        "print('Welcome',nam)"
      ],
      "metadata": {
        "colab": {
          "base_uri": "https://localhost:8080/"
        },
        "id": "JpPp1tME_3X9",
        "outputId": "ddf94396-01dc-4756-ee0b-8ecabdd72e7d"
      },
      "execution_count": null,
      "outputs": [
        {
          "output_type": "stream",
          "name": "stdout",
          "text": [
            "Enter your name:Soujanya\n",
            "Welcome Soujanya\n"
          ]
        }
      ]
    },
    {
      "cell_type": "markdown",
      "source": [
        "**Converting user input**"
      ],
      "metadata": {
        "id": "ENv-lD_BAA90"
      }
    },
    {
      "cell_type": "code",
      "source": [
        "inp = input(\"Enter floor \")\n",
        "flr = int(inp)+1\n",
        "print(\"Floor\",flr)"
      ],
      "metadata": {
        "colab": {
          "base_uri": "https://localhost:8080/"
        },
        "id": "mlXi0_96AIX1",
        "outputId": "b74450fd-fc7a-4856-c0de-62858523c570"
      },
      "execution_count": null,
      "outputs": [
        {
          "output_type": "stream",
          "name": "stdout",
          "text": [
            "Enter floor 5\n",
            "Floor 6\n"
          ]
        }
      ]
    },
    {
      "cell_type": "markdown",
      "source": [
        "**Comments**<br>\n",
        "To add description to the code."
      ],
      "metadata": {
        "id": "57yZTfdeAN_k"
      }
    },
    {
      "cell_type": "markdown",
      "source": [
        "**Conditional Execution**<br>\n",
        "Comparison operators look at variables but do not change the variables <br>\n",
        "Boolean expressions using comparison operators evaluate to True/False or Yes/No"
      ],
      "metadata": {
        "id": "pRxrtkHDATgJ"
      }
    },
    {
      "cell_type": "markdown",
      "source": [
        "**Indentation**<br>\n",
        "Indentation in Python refers to the (spaces and tabs) that are used at the beginning of a statement. "
      ],
      "metadata": {
        "id": "s_doRN9uAZX8"
      }
    },
    {
      "cell_type": "markdown",
      "source": [
        "**Conditional Structures**<br>\n",
        "One way decision <br>\n",
        "Two way decision: <br>\n",
        "   If and else   <br>\n",
        "Nested Decisions   <br>\n",
        "Multi way decision using elif"
      ],
      "metadata": {
        "id": "AapTV3WJAeVC"
      }
    },
    {
      "cell_type": "code",
      "source": [
        "x = 1\n",
        "if x<2:\n",
        "    print(\"Below 2\")\n",
        "elif x >= 2:\n",
        "    print(\"Two or more\")\n",
        "else:\n",
        "    print(\"else\")"
      ],
      "metadata": {
        "colab": {
          "base_uri": "https://localhost:8080/"
        },
        "id": "CDM4S578A3dc",
        "outputId": "8a60d604-7872-459d-8439-a94c0a00fdb1"
      },
      "execution_count": null,
      "outputs": [
        {
          "output_type": "stream",
          "name": "stdout",
          "text": [
            "Below 2\n"
          ]
        }
      ]
    },
    {
      "cell_type": "markdown",
      "source": [
        "**if...elif..else Statement**"
      ],
      "metadata": {
        "id": "wywU6qgDF4Zd"
      }
    },
    {
      "cell_type": "code",
      "source": [
        "marks = int(input(\"Enter the marks:\"))\n",
        "if marks >=90 and marks<=100:\n",
        "  print(\"A grade\")\n",
        "elif marks >=80:\n",
        "  print(\"B grade\")\n",
        "elif marks >=70:\n",
        "  print(\"C grade\")\n",
        "elif marks >=60:\n",
        "  print(\"D grade\")\n",
        "else:\n",
        "  print(\"Fail\")\n"
      ],
      "metadata": {
        "colab": {
          "base_uri": "https://localhost:8080/"
        },
        "id": "cUBgG9WKFpP1",
        "outputId": "bf4ecf12-a3c9-4096-e72e-75826e11acde"
      },
      "execution_count": null,
      "outputs": [
        {
          "output_type": "stream",
          "name": "stdout",
          "text": [
            "Enter the marks:85\n",
            "B grade\n"
          ]
        }
      ]
    },
    {
      "cell_type": "markdown",
      "source": [
        "**Nested if - else Statements**"
      ],
      "metadata": {
        "id": "cqP5-V7fG1Zv"
      }
    },
    {
      "cell_type": "code",
      "source": [
        "marks = int(input(\"Enter marks: \"))\n",
        "if marks >= 75:\n",
        "  print(\"Grade: \",end=' ')\n",
        "  if marks >=90:\n",
        "      print(\"A\")\n",
        "  elif marks >=80:\n",
        "      print(\"B\")\n",
        "  elif marks >=70:\n",
        "      print(\"C\")\n",
        "else:\n",
        "  print(\"D\")"
      ],
      "metadata": {
        "colab": {
          "base_uri": "https://localhost:8080/"
        },
        "id": "N2oGwT9dG2ib",
        "outputId": "322fccaf-be80-4f0a-869e-c7d14b010d94"
      },
      "execution_count": null,
      "outputs": [
        {
          "output_type": "stream",
          "name": "stdout",
          "text": [
            "Enter marks:80\n",
            "Grade:  B\n"
          ]
        }
      ]
    },
    {
      "cell_type": "markdown",
      "source": [
        "**Try and except Structure**<br>\n",
        "If the code in try works, then except is skipped <br>\n",
        "If the code in try fails, then except is executed"
      ],
      "metadata": {
        "id": "goZjRcNRAmPD"
      }
    },
    {
      "cell_type": "markdown",
      "source": [
        "**Functions** <br>\n",
        "Reusability of Code.<br>\n",
        "There are two kinds of functions: Built-in functions and Functions that we define ourselves and then use <br>\n",
        "We define a function using the def reserved word"
      ],
      "metadata": {
        "id": "-XFqHyy2BFnQ"
      }
    },
    {
      "cell_type": "code",
      "source": [
        "def myFirstFunction():\n",
        "  print(\"FirstFunction\")\n",
        "myFirstFunction()"
      ],
      "metadata": {
        "colab": {
          "base_uri": "https://localhost:8080/"
        },
        "id": "stAPWcFhL2CF",
        "outputId": "491a5ad4-ae77-4201-ae10-e7443bd33a37"
      },
      "execution_count": null,
      "outputs": [
        {
          "output_type": "stream",
          "name": "stdout",
          "text": [
            "FirstFunction\n"
          ]
        }
      ]
    },
    {
      "cell_type": "markdown",
      "source": [
        "**Arguments** <br>\n",
        "An argument is a value we pass into the function as its input when we call the function."
      ],
      "metadata": {
        "id": "6pB3SWiQBeI8"
      }
    },
    {
      "cell_type": "code",
      "source": [
        "def square(num):\n",
        "  print(\"The square of {} is {} \" .format(num, num**2))\n",
        "\n",
        "square(5)\n",
        "square(10)"
      ],
      "metadata": {
        "colab": {
          "base_uri": "https://localhost:8080/"
        },
        "id": "7sIt5rlPMNSw",
        "outputId": "73dd6cb4-4249-4448-9529-d4d29a84010e"
      },
      "execution_count": null,
      "outputs": [
        {
          "output_type": "stream",
          "name": "stdout",
          "text": [
            "The square of 5 is 25 \n",
            "The square of 10 is 100 \n"
          ]
        }
      ]
    },
    {
      "cell_type": "markdown",
      "source": [
        "**Return value**<br>\n",
        "The return statement ends the function execution and send back the result of the function."
      ],
      "metadata": {
        "id": "2eRnQ9mFBvJl"
      }
    },
    {
      "cell_type": "code",
      "source": [
        "def add_sub(a,b):\n",
        "    add = a+b\n",
        "    sub = a-b\n",
        "    return add,sub\n",
        "numbers = add_sub(10,5)\n",
        "print(\"addition and subtraction is: \", numbers)"
      ],
      "metadata": {
        "colab": {
          "base_uri": "https://localhost:8080/"
        },
        "id": "kyheUEZmNNf6",
        "outputId": "de52a828-eea1-4b4c-c0a4-ea86ef0d9653"
      },
      "execution_count": null,
      "outputs": [
        {
          "output_type": "stream",
          "name": "stdout",
          "text": [
            "addition and subtraction is:  (15, 5)\n"
          ]
        }
      ]
    },
    {
      "cell_type": "markdown",
      "source": [
        "**Multiple Parameters/Arguments**"
      ],
      "metadata": {
        "id": "Ox1OdZ-zByRr"
      }
    },
    {
      "cell_type": "code",
      "source": [
        "def printInfo(marks,name,age,message):\n",
        "    print(\"Name: \", name)\n",
        "    print(\"Age: \",age)\n",
        "    print(\"Marks: \",marks)\n",
        "    print(\"Message: \",message)\n",
        "printInfo(100,\"abc\",16,\"GoodMorning\")"
      ],
      "metadata": {
        "colab": {
          "base_uri": "https://localhost:8080/"
        },
        "id": "l7TlfjlMN1po",
        "outputId": "f26d29cb-51f7-40a2-815a-2b4da94ee694"
      },
      "execution_count": null,
      "outputs": [
        {
          "output_type": "stream",
          "name": "stdout",
          "text": [
            "Name:  abc\n",
            "Age:  16\n",
            "Marks:  100\n",
            "Message:  GoodMorning\n"
          ]
        }
      ]
    },
    {
      "cell_type": "markdown",
      "source": [
        "**Void Function**<br>\n",
        "When the function does not return a value, we call it a void function"
      ],
      "metadata": {
        "id": "IdFU24lOB2me"
      }
    },
    {
      "cell_type": "markdown",
      "source": [
        "**Loops and Iterations**<br>\n"
      ],
      "metadata": {
        "id": "dYYLhIXaB7Qd"
      }
    },
    {
      "cell_type": "code",
      "source": [
        "# Break statement\n",
        "while True:\n",
        "    line = input(\"Enter your name:\")\n",
        "    if line == 'done':\n",
        "        break\n",
        "    print(line)\n",
        "print('Done!')"
      ],
      "metadata": {
        "colab": {
          "base_uri": "https://localhost:8080/"
        },
        "id": "gnAJPJ3_CBkV",
        "outputId": "653cd187-7808-4318-ef28-cd9b4c1f49cf"
      },
      "execution_count": null,
      "outputs": [
        {
          "output_type": "stream",
          "name": "stdout",
          "text": [
            "Enter your name:Soujanya\n",
            "Soujanya\n",
            "Enter your name:Done\n",
            "Done\n",
            "Enter your name:done\n",
            "Done!\n"
          ]
        }
      ]
    },
    {
      "cell_type": "markdown",
      "source": [
        "**Definite loops:**<br>\n",
        "For loop "
      ],
      "metadata": {
        "id": "HOYCp3kzCK5p"
      }
    },
    {
      "cell_type": "code",
      "source": [
        "friends = ['Jo','Joey','Sally']\n",
        "for friend in friends:\n",
        "    print(\"Hello\",friend)\n",
        "print(\"Done\")"
      ],
      "metadata": {
        "colab": {
          "base_uri": "https://localhost:8080/"
        },
        "id": "pGYZg9sKCN1H",
        "outputId": "f2da49ce-23f8-41fa-f629-e1b60ee2edf0"
      },
      "execution_count": null,
      "outputs": [
        {
          "output_type": "stream",
          "name": "stdout",
          "text": [
            "Hello Jo\n",
            "Hello Joey\n",
            "Hello Sally\n",
            "Done\n"
          ]
        }
      ]
    },
    {
      "cell_type": "code",
      "source": [
        ""
      ],
      "metadata": {
        "id": "YQvgDN-uI0ZM"
      },
      "execution_count": null,
      "outputs": []
    },
    {
      "cell_type": "code",
      "source": [
        "for count in range(10):\n",
        "  if count == 5:\n",
        "    break\n",
        "  print(\"The count is : \", count)\n",
        "print(\"END\")"
      ],
      "metadata": {
        "colab": {
          "base_uri": "https://localhost:8080/"
        },
        "id": "VqEqUiCBI2UF",
        "outputId": "2f7d79bc-8195-4876-d0cb-4227f97230fa"
      },
      "execution_count": null,
      "outputs": [
        {
          "output_type": "stream",
          "name": "stdout",
          "text": [
            "The count is :  0\n",
            "The count is :  1\n",
            "The count is :  2\n",
            "The count is :  3\n",
            "The count is :  4\n",
            "END\n"
          ]
        }
      ]
    },
    {
      "cell_type": "markdown",
      "source": [
        "**What is the largest number:**"
      ],
      "metadata": {
        "id": "WxtL3cvSCR36"
      }
    },
    {
      "cell_type": "code",
      "source": [
        "largest_num = -1\n",
        "for num in [9,3,21,85,6,55]:\n",
        "    if num > largest_num:\n",
        "        largest_num = num\n",
        "    print(largest_num, num)\n",
        "print(\"largest num is \",largest_num)"
      ],
      "metadata": {
        "colab": {
          "base_uri": "https://localhost:8080/"
        },
        "id": "7Au1jbC4CS-a",
        "outputId": "e07d806d-ec64-4773-a13d-f75e608a1593"
      },
      "execution_count": null,
      "outputs": [
        {
          "output_type": "stream",
          "name": "stdout",
          "text": [
            "9 9\n",
            "9 3\n",
            "21 21\n",
            "85 85\n",
            "85 6\n",
            "85 55\n",
            "largest num is  85\n"
          ]
        }
      ]
    },
    {
      "cell_type": "markdown",
      "source": [
        "We can use loop in many ways:<br>\n",
        "Count and sum the loop <br>\n",
        "Filtering the loop <br>\n",
        "Searching using a Boolean Variable "
      ],
      "metadata": {
        "id": "WfGMZcVECX9c"
      }
    },
    {
      "cell_type": "markdown",
      "source": [
        "**What is the smallest number:**"
      ],
      "metadata": {
        "id": "C8LCbkiiCmAp"
      }
    },
    {
      "cell_type": "code",
      "source": [
        "small_num = None\n",
        "for num in [9,19,21,3,21,85,6,55]:\n",
        "    if small_num is None:\n",
        "        small_num = num\n",
        "    elif num < small_num:\n",
        "        small_num = num\n",
        "    print(small_num,num)\n",
        "print(small_num)"
      ],
      "metadata": {
        "colab": {
          "base_uri": "https://localhost:8080/"
        },
        "id": "7OB-LY75Cnzc",
        "outputId": "f5d74de8-1316-4d13-d463-f19bda0c3629"
      },
      "execution_count": null,
      "outputs": [
        {
          "output_type": "stream",
          "name": "stdout",
          "text": [
            "9 9\n",
            "9 19\n",
            "9 21\n",
            "3 3\n",
            "3 21\n",
            "3 85\n",
            "3 6\n",
            "3 55\n",
            "3\n"
          ]
        }
      ]
    },
    {
      "cell_type": "markdown",
      "source": [
        "**The \"is\" and \"is not\" Operators** <br>\n",
        "**\"is\"** operator can be used in logical expressions <br>\n",
        "**\"is not\"** is a logical operator"
      ],
      "metadata": {
        "id": "0VNqWrE9Cro7"
      }
    },
    {
      "cell_type": "markdown",
      "source": [
        "**Strings**<br>\n",
        "A string is a sequence of characters.<br>\n",
        "Len: gives us length of the string<br>\n",
        "**Immutable**"
      ],
      "metadata": {
        "id": "6dWeHkiv4mbQ"
      }
    },
    {
      "cell_type": "markdown",
      "source": [
        "**Looping through strings**<br>\n",
        "Using for and while loops"
      ],
      "metadata": {
        "id": "gNSX-QWJ6K5A"
      }
    },
    {
      "cell_type": "code",
      "source": [
        "fruit = 'apple'\n",
        "index = 0\n",
        "while index < len(fruit):\n",
        "    letter = fruit[index]\n",
        "    print(index,letter)\n",
        "    index = index+1\n"
      ],
      "metadata": {
        "colab": {
          "base_uri": "https://localhost:8080/"
        },
        "id": "3XlhQJ0B6Nh5",
        "outputId": "a6ae96f1-af33-40c1-8589-82b053395d30"
      },
      "execution_count": null,
      "outputs": [
        {
          "output_type": "stream",
          "name": "stdout",
          "text": [
            "0 a\n",
            "1 p\n",
            "2 p\n",
            "3 l\n",
            "4 e\n"
          ]
        }
      ]
    },
    {
      "cell_type": "markdown",
      "source": [
        "**Looping and counting**"
      ],
      "metadata": {
        "id": "IsDZROzX9sHe"
      }
    },
    {
      "cell_type": "code",
      "source": [
        "word = 'apple'\n",
        "count = 0\n",
        "for letter in word:\n",
        "  if letter == 'p':\n",
        "     count = count+1\n",
        "print(count)"
      ],
      "metadata": {
        "colab": {
          "base_uri": "https://localhost:8080/"
        },
        "id": "nBGPZE6h9u3L",
        "outputId": "167e76b1-31aa-4419-a161-3a045dbcb035"
      },
      "execution_count": null,
      "outputs": [
        {
          "output_type": "stream",
          "name": "stdout",
          "text": [
            "2\n"
          ]
        }
      ]
    },
    {
      "cell_type": "markdown",
      "source": [
        "**Slicing Strings**<br>\n",
        "Using a colon **:** operator <br>\n",
        "**String concantenation** <br>\n",
        "Using a **+** operator <br>\n",
        "Using **in** as a logical operator <br>\n",
        "**Searching a string**<br>\n",
        "find() <br>\n",
        "**Upper case or Lower case** <br>\n",
        "upper() and lower() <br>\n",
        "**Search and Replace**<br>\n",
        "replace()\n",
        "**Stripping whitespace**<br>\n",
        "lstrip()<br>\n",
        "rstrip()<br>\n",
        "strip()<br>\n",
        "**Prefixes**<br>\n",
        "startswith"
      ],
      "metadata": {
        "id": "Xvou8zxp-lJq"
      }
    },
    {
      "cell_type": "markdown",
      "source": [
        "**Reading Files**<br>"
      ],
      "metadata": {
        "id": "pyJiqA4wEkf1"
      }
    },
    {
      "cell_type": "markdown",
      "source": [
        "\n",
        "**File Processing**<br>\n",
        "A text file is a sequence of lines.<br>\n",
        "**Opening a File**<br>\n",
        "open()<br>\n",
        "handle = open(filename,mode)<br>\n",
        "**Counting lines in a File**<br>\n",
        "Using a for loop<br>\n",
        "**Reading the complete file**<br>\n",
        "read()(newlines and lines in astring)<br>\n",
        "**Skipping the lines**<br>\n",
        "using continue<br>\n",
        "**Stop the execution of the file**<br>\n",
        "quit()"
      ],
      "metadata": {
        "id": "gOpPkja1DYGw"
      }
    },
    {
      "cell_type": "markdown",
      "source": [
        "**Lists**<br>\n"
      ],
      "metadata": {
        "id": "xGncNZoYHHdH"
      }
    },
    {
      "cell_type": "markdown",
      "source": [
        "A List is a ordered collection of data.<br>\n",
        "List is represented by [] <br>\n",
        "Lists are **mutable**: we can change an element of the list using the index operator."
      ],
      "metadata": {
        "id": "_5p9bM58wZUd"
      }
    },
    {
      "cell_type": "markdown",
      "source": [
        "**Concantenating Lists using + **<br>\n",
        "**Lists can be sliced using :**<br>\n",
        "**Adding elements**<br>\n",
        "append()\n",
        "**Sorting can be done:**<br>\n",
        "sort()"
      ],
      "metadata": {
        "id": "FJRfdbMzI6sj"
      }
    },
    {
      "cell_type": "code",
      "source": [
        "lst_one = ['one','two','three']\n",
        "lst_two = ['four','five']\n",
        "lst_one.append(lst_two)\n",
        "print(lst_one)"
      ],
      "metadata": {
        "colab": {
          "base_uri": "https://localhost:8080/"
        },
        "id": "BPcPdiKROkyr",
        "outputId": "7105cd5d-5a58-458f-dcb9-71d470a4eae1"
      },
      "execution_count": null,
      "outputs": [
        {
          "output_type": "stream",
          "name": "stdout",
          "text": [
            "['one', 'two', 'three', ['four', 'five']]\n"
          ]
        }
      ]
    },
    {
      "cell_type": "code",
      "source": [
        "lst_one.append([6,7])\n",
        "print(lst_one)"
      ],
      "metadata": {
        "colab": {
          "base_uri": "https://localhost:8080/"
        },
        "id": "AneS4pBtEMyp",
        "outputId": "870386fd-615f-4c20-c77f-8b9a48536963"
      },
      "execution_count": null,
      "outputs": [
        {
          "output_type": "stream",
          "name": "stdout",
          "text": [
            "['one', 'two', 'three', ['four', 'five'], [6, 7]]\n"
          ]
        }
      ]
    },
    {
      "cell_type": "code",
      "source": [
        "lst_one.remove([6,7])\n",
        "print(lst_one)"
      ],
      "metadata": {
        "colab": {
          "base_uri": "https://localhost:8080/"
        },
        "id": "NHzVnmJKEvuf",
        "outputId": "677bb210-ee29-4c4b-eb9c-9cd04b4a2b65"
      },
      "execution_count": null,
      "outputs": [
        {
          "output_type": "stream",
          "name": "stdout",
          "text": [
            "['one', 'two', 'three', ['four', 'five']]\n"
          ]
        }
      ]
    },
    {
      "cell_type": "code",
      "source": [
        "lst_one.pop()\n",
        "print(lst_one)"
      ],
      "metadata": {
        "colab": {
          "base_uri": "https://localhost:8080/"
        },
        "id": "5QrI3h6TFkxO",
        "outputId": "e656e294-f96b-45ff-842b-929400dfbddf"
      },
      "execution_count": null,
      "outputs": [
        {
          "output_type": "stream",
          "name": "stdout",
          "text": [
            "['one', 'two', 'three']\n"
          ]
        }
      ]
    },
    {
      "cell_type": "code",
      "source": [
        "lst_one = ['one','two','three']\n",
        "lst_two = ['four','five']\n",
        "lst_one + lst_two"
      ],
      "metadata": {
        "colab": {
          "base_uri": "https://localhost:8080/"
        },
        "id": "qk4cn_48PDdT",
        "outputId": "621cde17-3c92-4b16-90e6-783687e89315"
      },
      "execution_count": null,
      "outputs": [
        {
          "output_type": "execute_result",
          "data": {
            "text/plain": [
              "['one', 'two', 'three', 'four', 'five']"
            ]
          },
          "metadata": {},
          "execution_count": 9
        }
      ]
    },
    {
      "cell_type": "code",
      "source": [
        "myStr = 'i want to sort this string'\n",
        "words = myStr.split()\n",
        "print(words)\n",
        "words.sort()\n",
        "print(\" \".join(words))"
      ],
      "metadata": {
        "colab": {
          "base_uri": "https://localhost:8080/"
        },
        "id": "J5TTXcYRPG9R",
        "outputId": "59b51ca1-103a-4925-b812-8f146ba228ad"
      },
      "execution_count": null,
      "outputs": [
        {
          "output_type": "stream",
          "name": "stdout",
          "text": [
            "['i', 'want', 'to', 'sort', 'this', 'string']\n",
            "i sort string this to want\n"
          ]
        }
      ]
    },
    {
      "cell_type": "markdown",
      "source": [
        "**Dictionaries**"
      ],
      "metadata": {
        "id": "kDVmVfjdnLRw"
      }
    },
    {
      "cell_type": "markdown",
      "source": [
        "A unordered collection of Key-value pairs.<br>\n",
        "Dictionary is represented by {} <br>\n",
        "**Mutable**<br>\n",
        "Keys are unique, values may not be unique."
      ],
      "metadata": {
        "id": "Gy8TCXmZnSgb"
      }
    },
    {
      "cell_type": "markdown",
      "source": [
        "To check if the key is present in the dictionary or not<br>\n",
        "**get()**<br>\n",
        "We can retrieve keys,values and items(both) from dictionaries<br>\n",
        "**keys(),values()and items()**<br>\n"
      ],
      "metadata": {
        "id": "exz-vFhmwoJy"
      }
    },
    {
      "cell_type": "code",
      "source": [
        "dict1 = {'jo':1,'jame':2,'sally':3}\n",
        "for ky,val in dict1.items():\n",
        "  print(ky,val)"
      ],
      "metadata": {
        "colab": {
          "base_uri": "https://localhost:8080/"
        },
        "id": "9wTFYvnTVGa0",
        "outputId": "d7085d93-ff74-4a65-d2b9-c34d6118942e"
      },
      "execution_count": null,
      "outputs": [
        {
          "output_type": "stream",
          "name": "stdout",
          "text": [
            "jo 1\n",
            "jame 2\n",
            "sally 3\n"
          ]
        }
      ]
    },
    {
      "cell_type": "code",
      "source": [
        "# Updating a dict\n",
        "dict1['joey'] = 4\n",
        "dict1['sam'] = 5\n",
        "print(dict1)"
      ],
      "metadata": {
        "colab": {
          "base_uri": "https://localhost:8080/"
        },
        "id": "2dBrob_lXPi9",
        "outputId": "a0257479-9a5a-4bf3-9ff3-817f03cd48d4"
      },
      "execution_count": null,
      "outputs": [
        {
          "output_type": "stream",
          "name": "stdout",
          "text": [
            "{'jo': 1, 'jame': 2, 'sally': 3, 'joey': 4, 'sam': 5}\n"
          ]
        }
      ]
    },
    {
      "cell_type": "code",
      "source": [
        "# deleting elements\n",
        "del dict1['jo']\n",
        "print(dict1)"
      ],
      "metadata": {
        "colab": {
          "base_uri": "https://localhost:8080/"
        },
        "id": "cOdWOzI-XPqT",
        "outputId": "21dc4173-e0f5-4b4d-dd24-2d7c17dd4d90"
      },
      "execution_count": null,
      "outputs": [
        {
          "output_type": "stream",
          "name": "stdout",
          "text": [
            "{'jame': 2, 'sally': 3, 'joey': 4, 'sam': 5}\n"
          ]
        }
      ]
    },
    {
      "cell_type": "markdown",
      "source": [
        "**Dictionary example**"
      ],
      "metadata": {
        "id": "VqpX9vBXl0O_"
      }
    },
    {
      "cell_type": "code",
      "source": [
        "fname = input('Enter file: ')\n",
        "if len(fname) <1 : \n",
        "  fname='clown.txt'\n",
        "hand = open(fname)\n",
        "\n",
        "di = dict()\n",
        "for lin in hand:\n",
        "  lin = lin.rstrip()\n",
        "  #print(lin)\n",
        "  words = lin.split()\n",
        "  #print(words)\n",
        "  for w in words:\n",
        "    di[w] = di.get(w,0)+1\n",
        "print(di)\n",
        "\n",
        "# now we want the most common word\n",
        "largest = -1\n",
        "word = None\n",
        "for k,v in di.items():\n",
        "  #print(k,v)\n",
        "  if v > largest:\n",
        "    largest = v\n",
        "    word = k\n",
        "print(\"The most common word is {} and count of the word is {}\".format(word,largest))"
      ],
      "metadata": {
        "colab": {
          "base_uri": "https://localhost:8080/"
        },
        "id": "c83Cb3KvZX96",
        "outputId": "304cfdb1-3bbd-4b3d-9a3a-149c1b237f78"
      },
      "execution_count": null,
      "outputs": [
        {
          "output_type": "stream",
          "name": "stdout",
          "text": [
            "Enter file: intro.txt\n",
            "The most common word is the and count of the word is 226\n"
          ]
        }
      ]
    },
    {
      "cell_type": "markdown",
      "source": [
        "**Tuples**"
      ],
      "metadata": {
        "id": "TkdWmfwYl85w"
      }
    },
    {
      "cell_type": "markdown",
      "source": [
        "Tuples are **immutable**<br>\n",
        "Tuples are represented as **()**<br>\n",
        "\n"
      ],
      "metadata": {
        "id": "KPQ6E6lGl-0r"
      }
    },
    {
      "cell_type": "markdown",
      "source": [
        "**Regular Expressions**"
      ],
      "metadata": {
        "id": "FBjOnWAlCqNI"
      }
    },
    {
      "cell_type": "markdown",
      "source": [
        "We need to **import re**<br>\n",
        "re.search() is like find()<br>\n",
        "\n",
        "^  match the start of the line<br>\n",
        "$   matches the end of the line<br>\n",
        ".   match any character<br>\n",
        "'* Repeats a character zero or more times<br>\n",
        "'*? Repeats a character zero or more times (non-greedy)<br>\n",
        "'+' Repeats a character one or more times<br>\n",
        "'+?' Repeats a character one or more times(non-greedy)<br>\n",
        "\\s  Matches whitespace<br>\n",
        "\\S  Matches any non-whitespace character<br>\n",
        "[aeiou]  Matches a single character in the listed set<br>\n",
        "[^XYZ]  Matches a single character not in the listed set<br>\n",
        "[a-z0-9]  The set of characters can include a range\n",
        "(        Indicates where string extraction is to start\n",
        ")        Indicates where string extraction is to end"
      ],
      "metadata": {
        "id": "8souZkORGKbu"
      }
    },
    {
      "cell_type": "code",
      "source": [
        "import re\n",
        "line = 'From stephen.henry@uct.ac.za sat Feb 19 09:14:16 2022'\n",
        "y = re.findall('@([^ ]*)',line) \n",
        "print(y)"
      ],
      "metadata": {
        "colab": {
          "base_uri": "https://localhost:8080/"
        },
        "id": "CQvC3X1REZhR",
        "outputId": "6bc5a1c7-65de-4051-cdd6-9849572ef719"
      },
      "execution_count": null,
      "outputs": [
        {
          "output_type": "stream",
          "name": "stdout",
          "text": [
            "['uct.ac.za']\n"
          ]
        }
      ]
    },
    {
      "cell_type": "markdown",
      "source": [
        "**Networked Programs**"
      ],
      "metadata": {
        "id": "rkhWUuTPfNWH"
      }
    },
    {
      "cell_type": "markdown",
      "source": [
        "**Transport Control Protocol(TCP)**<br>\n",
        "\n",
        "*   Built on top of IP(Internet Protocol)\n",
        "*   Handles flow control using a transmit window\n",
        "*   Provides a nice reliable pipe\n",
        "\n",
        "\n",
        "\n",
        "\n",
        "\n",
        "\n",
        "\n",
        "\n"
      ],
      "metadata": {
        "id": "cL1revaHfR6z"
      }
    },
    {
      "cell_type": "markdown",
      "source": [
        "**Common TCP Ports**\n",
        "\n",
        "*  Telnet (23) - Login\n",
        "*  SSH (22) - Secure Login\n",
        "*  HTTP(80)\n",
        "*  HTTPS(443)- Secure\n",
        "*  SMTP(25) - mail\n",
        "*  IMAP(143/220/993)- Mail Retrieval\n",
        "*  POP(109/110) - Mail Retrieval\n",
        "*  DNS(53) - Domain Name\n",
        "*  FTP(21) - File Transfer\n"
      ],
      "metadata": {
        "id": "3ql_qv5kg2gi"
      }
    },
    {
      "cell_type": "markdown",
      "source": [
        "**Sockets in Python**<br>\n",
        "Python has builtin support for TCP sockets.<br>\n",
        "import socket<br>\n",
        "**Application Protocols**<br>\n",
        "*   Mail\n",
        "*   World Wide Web\n",
        "\n",
        "**HTTP**<br>\n",
        "The Hyper Text Transfer Protocol is the set of rules to allow browsers to retrieve web documents from servers over the internet.<br>\n",
        "\n",
        "**Internet Standards**<br>\n",
        "Standards are called **RFCs**- Request for Comments\n",
        "\n"
      ],
      "metadata": {
        "id": "CzgdmVsriQ8I"
      }
    },
    {
      "cell_type": "code",
      "source": [
        "import socket\n",
        "\n",
        "mysock = socket.socket(socket.AF_INET,socket.SOCK_STREAM)\n",
        "mysock.connect(('data.pr4e.org',80))\n",
        "cmd = 'GET http://data.pr4e.org/clown.txt HTTP/1.0\\n\\n'.encode()\n",
        "mysock.send(cmd)\n",
        "\n",
        "while True:\n",
        "  data = mysock.recv(512)\n",
        "  if (len(data) < 1):\n",
        "    break\n",
        "  print(data.decode())\n",
        "mysock.close()\n"
      ],
      "metadata": {
        "colab": {
          "base_uri": "https://localhost:8080/"
        },
        "id": "cVDM7Wq95A5P",
        "outputId": "02ae1fe6-e034-4801-d229-db5e3ffa1993"
      },
      "execution_count": null,
      "outputs": [
        {
          "output_type": "stream",
          "name": "stdout",
          "text": [
            "HTTP/1.1 400 Bad Request\r\n",
            "Date: Sat, 19 Feb 2022 07:55:18 GMT\r\n",
            "Server: Apache/2.4.18 (Ubuntu)\r\n",
            "Content-Length: 308\r\n",
            "Connection: close\r\n",
            "Content-Type: text/html; charset=iso-8859-1\r\n",
            "\r\n",
            "<!DOCTYPE HTML PUBLIC \"-//IETF//DTD HTML 2.0//EN\">\n",
            "<html><head>\n",
            "<title>400 Bad Request</title>\n",
            "</head><body>\n",
            "<h1>Bad Request</h1>\n",
            "<p>Your browser sent a request that this server could not understand.<br />\n",
            "</p>\n",
            "<hr>\n",
            "<address>Apache/2.4.18 (Ubuntu) Server at do1.dr-chuck.com Port 80</address>\n",
            "</body></html>\n",
            "\n"
          ]
        }
      ]
    },
    {
      "cell_type": "markdown",
      "source": [
        "**Representing Strings**<br>\n",
        "\n",
        "*  Each character is represented by a number between 0 and 256 stored in 8 bits of memory.\n",
        "*   8 bits of memory as a **byte** of memory.\n",
        "*   ord()- tell us the numeric value of ASCII character.\n",
        "\n",
        "\n",
        "\n",
        "\n"
      ],
      "metadata": {
        "id": "2fVERPKx-7wJ"
      }
    },
    {
      "cell_type": "markdown",
      "source": [
        "UTF-8 is for encoding data to be exchanged between systems."
      ],
      "metadata": {
        "id": "wY-Ws1gQCayC"
      }
    },
    {
      "cell_type": "markdown",
      "source": [
        "Using **urllib** in Python"
      ],
      "metadata": {
        "id": "_P7tdIYkEdbI"
      }
    },
    {
      "cell_type": "code",
      "source": [
        "import urllib.request,urllib.parse,urllib.error\n"
      ],
      "metadata": {
        "id": "JKMeIW_lE0cB"
      },
      "execution_count": null,
      "outputs": []
    },
    {
      "cell_type": "code",
      "source": [
        "fhand = urllib.request.urlopen('http://data.pr4e.org/clown.txt')\n",
        "for line in fhand:\n",
        "  print(line.decode().strip())"
      ],
      "metadata": {
        "colab": {
          "base_uri": "https://localhost:8080/"
        },
        "id": "9YeJGLHQGoy8",
        "outputId": "74a3c15b-eba5-4116-e1a6-c62bf3ee48eb"
      },
      "execution_count": null,
      "outputs": [
        {
          "output_type": "stream",
          "name": "stdout",
          "text": [
            "the clown ran after the car and the car ran into the tent and the tent fell down on the clown and the car\n"
          ]
        }
      ]
    },
    {
      "cell_type": "markdown",
      "source": [
        "**Reading a web page**"
      ],
      "metadata": {
        "id": "tcwbkCCkHYF1"
      }
    },
    {
      "cell_type": "code",
      "source": [
        "import urllib.request,urllib.parse,urllib.error\n",
        "\n",
        "fhand = urllib.request.urlopen('https://www.dr-chuck.com/page2.htm')\n",
        "for line in fhand:\n",
        "  print(line.decode().strip())"
      ],
      "metadata": {
        "colab": {
          "base_uri": "https://localhost:8080/"
        },
        "id": "KvStkaEMHayT",
        "outputId": "724a086f-11bd-4ac1-dad6-d2d747d10a6b"
      },
      "execution_count": null,
      "outputs": [
        {
          "output_type": "stream",
          "name": "stdout",
          "text": [
            "<h1>The Second Page</h1>\n",
            "<p>\n",
            "If you like, you can switch back to the\n",
            "<a href=\"page1.htm\">\n",
            "First Page</a>.\n",
            "</p>\n"
          ]
        }
      ]
    },
    {
      "cell_type": "markdown",
      "source": [
        "**Count the words in a webpage**"
      ],
      "metadata": {
        "id": "KwLrLtNeQ_-H"
      }
    },
    {
      "cell_type": "code",
      "source": [
        "import urllib.request,urllib.parse,urllib.error\n",
        "\n",
        "fhand = urllib.request.urlopen('http://data.pr4e.org/clown.txt')\n",
        "\n",
        "count = dict()\n",
        "for line in fhand:\n",
        "  line = line.decode().split()\n",
        "  for words in line:\n",
        "    count[words] = count.get(words,0)+1\n",
        "print(count)"
      ],
      "metadata": {
        "colab": {
          "base_uri": "https://localhost:8080/"
        },
        "id": "vNO34luaRUe5",
        "outputId": "dfd43540-715a-4847-9acb-ca0ff9984bf4"
      },
      "execution_count": null,
      "outputs": [
        {
          "output_type": "stream",
          "name": "stdout",
          "text": [
            "{'the': 7, 'clown': 2, 'ran': 2, 'after': 1, 'car': 3, 'and': 3, 'into': 1, 'tent': 2, 'fell': 1, 'down': 1, 'on': 1}\n"
          ]
        }
      ]
    },
    {
      "cell_type": "markdown",
      "source": [
        "**Web Scraping**<br>\n",
        "We use BeautifulSoup.<br>\n",
        "from bs4 import BeautifulSoup"
      ],
      "metadata": {
        "id": "SPJ6A-qATLZX"
      }
    },
    {
      "cell_type": "code",
      "source": [
        "# import requests\n",
        "# url = \"https://www.geeksforgeeks.org/data-structures/\"\n",
        "# r = requests.get(url)\n",
        "# print(r.content)"
      ],
      "metadata": {
        "id": "HWFmq0ilTbnR"
      },
      "execution_count": 1,
      "outputs": []
    },
    {
      "cell_type": "markdown",
      "source": [
        "**XML**<br>\n",
        "eXtensible Markup Language<br>\n",
        "It helps information systems to share structured data.<br>\n",
        "*   Tags\n",
        "*   Attributes\n",
        "*   Serialize/De-Serialize\n",
        "\n",
        "\n",
        "\n"
      ],
      "metadata": {
        "id": "JhoZx4SZRfhr"
      }
    },
    {
      "cell_type": "markdown",
      "source": [
        "**XML example**"
      ],
      "metadata": {
        "id": "dC17WNg2WIoS"
      }
    },
    {
      "cell_type": "code",
      "source": [
        "import xml.etree.ElementTree as ET\n",
        "\n",
        "input = '''\n",
        "<person>\n",
        "  <name>Tim</name>\n",
        "  <id>5</id>\n",
        "  <email hide='yes'/>\n",
        "</person>\n",
        "'''\n",
        "\n",
        "tree = ET.fromstring(input)\n",
        "print('Name:', tree.find('name').text)\n",
        "print('Attr:',tree.find('email').get('hide'))"
      ],
      "metadata": {
        "colab": {
          "base_uri": "https://localhost:8080/"
        },
        "id": "Xx1qzkNfX45p",
        "outputId": "f5c7e083-607a-47ef-ea22-995087d24642"
      },
      "execution_count": null,
      "outputs": [
        {
          "output_type": "stream",
          "name": "stdout",
          "text": [
            "Name: Tim\n",
            "Attr: yes\n"
          ]
        }
      ]
    },
    {
      "cell_type": "code",
      "source": [
        "import xml.etree.ElementTree as ET\n",
        "\n",
        "input = '''\n",
        "<data>\n",
        "  <users>\n",
        "    <user x ='1'>\n",
        "      <id>001</id>\n",
        "      <name>Jane</name>\n",
        "    </user>\n",
        "    <user x = '2'>\n",
        "      <id>002</id>\n",
        "      <name>James</name>\n",
        "    </user>\n",
        "  </users>\n",
        "</data>'''\n",
        "\n",
        "data = ET.fromstring(input)\n",
        "lst = data.findall('users/user')\n",
        "print(\"Count of users: \",len(lst))\n",
        "\n",
        "for item in lst:\n",
        "  print('Name:',item.find('name').text)\n",
        "  print('Id:',item.find('id').text)\n",
        "  print('Attribute:',item.get('x'))"
      ],
      "metadata": {
        "colab": {
          "base_uri": "https://localhost:8080/"
        },
        "id": "n7cdEx9UWDOq",
        "outputId": "e7370db2-ee34-4f5e-c92a-ea349519f183"
      },
      "execution_count": null,
      "outputs": [
        {
          "output_type": "stream",
          "name": "stdout",
          "text": [
            "Count of users:  2\n",
            "Name: Jane\n",
            "Id: 001\n",
            "Attribute: 1\n",
            "Name: James\n",
            "Id: 002\n",
            "Attribute: 2\n"
          ]
        }
      ]
    },
    {
      "cell_type": "markdown",
      "source": [
        "**Json example**"
      ],
      "metadata": {
        "id": "fdDwDiAbfyL9"
      }
    },
    {
      "cell_type": "code",
      "source": [
        "import json\n",
        "\n",
        "data = '''\n",
        "{\n",
        "  \"name\" : \"James\",\n",
        "  \"phone\" : {\n",
        "    \"number\": \"8465078443\"\n",
        "    },\n",
        "   \"email\" :{\n",
        "     \"hide\":\"yes\"\n",
        "   } \n",
        "}'''\n",
        "\n",
        "info = json.loads(data)\n",
        "print('Name:',info[\"name\"])\n",
        "print('Email:',info[\"email\"][\"hide\"])"
      ],
      "metadata": {
        "colab": {
          "base_uri": "https://localhost:8080/"
        },
        "id": "vVX1bt2xf2KE",
        "outputId": "18277593-c71a-4e1c-c338-601eab2796fd"
      },
      "execution_count": null,
      "outputs": [
        {
          "output_type": "stream",
          "name": "stdout",
          "text": [
            "Name: James\n",
            "Email: yes\n"
          ]
        }
      ]
    },
    {
      "cell_type": "markdown",
      "source": [
        "**Python Objects**"
      ],
      "metadata": {
        "id": "1u-Lu5LahrIa"
      }
    },
    {
      "cell_type": "markdown",
      "source": [
        "*   Class - a template\n",
        "*   Method or message - A function within a class\n",
        "*   Field or attribute - A variable within a class\n",
        "*   Object or instance - A particular instance of a class<br>\n",
        "**Constructor**<br>\n",
        "The primary purpose of the constructor is to set up some instance variables to have the proper initial values when the object is created.<br>\n",
        "The constructor in a class is a special block of statements called when an object is created. \n",
        "\n",
        "*   Inheritance - The ability to extend a class to make a new class.\n",
        "\n"
      ],
      "metadata": {
        "id": "2ciMKpjZq8Sa"
      }
    },
    {
      "cell_type": "markdown",
      "source": [
        "**Databases**"
      ],
      "metadata": {
        "id": "GTfqmcB12vuF"
      }
    },
    {
      "cell_type": "markdown",
      "source": [
        "**Databases**: contains many tables<br>\n",
        "Relation or table <br>\n",
        "Tuple or row <br>\n",
        "Attribute(column or field)<br>\n",
        "\n",
        "**SQL**<br>\n",
        "*   Create a table\n",
        "*   Retrieve data\n",
        "*   Insert data\n",
        "*   Delete data\n",
        "\n",
        "\n",
        "\n"
      ],
      "metadata": {
        "id": "yRxJP7CK4tgp"
      }
    },
    {
      "cell_type": "markdown",
      "source": [
        "**Database Model**<br>\n",
        "It is the structure or format of a database."
      ],
      "metadata": {
        "id": "oICGGbrwMQJ1"
      }
    },
    {
      "cell_type": "markdown",
      "source": [
        "**Database Normalization(3NF)**<br>\n",
        "Do not replicate data-reference data-point at data<br>\n",
        "Use integers for keys and for references.<br>\n",
        "Add a special “key” column to each table which we will make references to."
      ],
      "metadata": {
        "id": "aXP2t8ymVxdh"
      }
    },
    {
      "cell_type": "markdown",
      "source": [
        "**Kinds of keys**<br>\n",
        "Primary key - generally an integer auto-increment field<br>\n",
        "Logical key - What the outside world uses for lookup<br>\n",
        "Foreign key - generally an integer key pointing to a row in another table<br>\n",
        "**Key Rules**<br>\n",
        "Never use your logical key as the primary key<br>\n",
        "Logical keys can and do change<br>\n",
        "Relationships that are based on matching string fields are less efficient than integers.<br>\n",
        "**Foreign Key**<br>\n",
        "A foreign key is when a table has a column that contains a key which points to the primary key of another table.<br>\n",
        "When all primary keys are integers, then all foreign keys are integers."
      ],
      "metadata": {
        "id": "ejsz5eT5a51Y"
      }
    },
    {
      "cell_type": "markdown",
      "source": [
        "**Many-to-many relationships**<br>"
      ],
      "metadata": {
        "id": "QrWCPXPqnY0E"
      }
    },
    {
      "cell_type": "markdown",
      "source": [
        "**Data Visualization**\n"
      ],
      "metadata": {
        "id": "-ApTpXXdyKPL"
      }
    },
    {
      "cell_type": "markdown",
      "source": [
        "**Search Engine Architecture**<br>\n",
        "**Web Crawling**<br>\n",
        "A Web crawler is a computer program that browses the World Wide Web in a methodical, automated manner. Web crawlers are mainly used to create a copy of all the visited pages for later processing by a search engine that will index the downloaded pages to provide fast searches.<br>\n",
        "**Index Building**<br>\n",
        "**Search Indexing**"
      ],
      "metadata": {
        "id": "ryoyuEoGyRq1"
      }
    }
  ]
}