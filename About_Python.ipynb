{
  "nbformat": 4,
  "nbformat_minor": 0,
  "metadata": {
    "colab": {
      "name": "About Python.ipynb",
      "provenance": [],
      "collapsed_sections": [],
      "authorship_tag": "ABX9TyOkzsd5iL9PK7aT+fhXI8/5",
      "include_colab_link": true
    },
    "kernelspec": {
      "name": "python3",
      "display_name": "Python 3"
    },
    "language_info": {
      "name": "python"
    }
  },
  "cells": [
    {
      "cell_type": "markdown",
      "metadata": {
        "id": "view-in-github",
        "colab_type": "text"
      },
      "source": [
        "<a href=\"https://colab.research.google.com/github/soujanya-vattikolla/Python_for_Everybody/blob/main/About_Python.ipynb\" target=\"_parent\"><img src=\"https://colab.research.google.com/assets/colab-badge.svg\" alt=\"Open In Colab\"/></a>"
      ]
    },
    {
      "cell_type": "markdown",
      "source": [
        "To know the **version** of python"
      ],
      "metadata": {
        "id": "0oIbX_sMxe78"
      }
    },
    {
      "cell_type": "code",
      "source": [
        "!python --version"
      ],
      "metadata": {
        "colab": {
          "base_uri": "https://localhost:8080/"
        },
        "id": "hu8MjtL39UF7",
        "outputId": "3c87d7dc-7c48-4397-e26b-8d977971c374"
      },
      "execution_count": null,
      "outputs": [
        {
          "output_type": "stream",
          "name": "stdout",
          "text": [
            "Python 3.7.12\n"
          ]
        }
      ]
    },
    {
      "cell_type": "markdown",
      "source": [
        "### What is a Code?<br>\n",
        "Stored set of instructions."
      ],
      "metadata": {
        "id": "0Yn9kuEH-R6u"
      }
    },
    {
      "cell_type": "markdown",
      "source": [
        "**Features of Python:**\n",
        "\n",
        "Simple and easy to learn.<br>\n",
        "Free and open source.<br>\n",
        "General Purpose and high level programming language.<br>\n",
        "Platform independent.<br>\n",
        "Case Sensitive.<br>\n",
        "Interpreted Language.<br>\n",
        "Dynamically typed."
      ],
      "metadata": {
        "id": "AWs5_J4oEMwf"
      }
    },
    {
      "cell_type": "markdown",
      "source": [
        "**Reserved words** <br>\n",
        "You cannot use reserved words as variable names / identifiers"
      ],
      "metadata": {
        "id": "rFKSi5CXgJi-"
      }
    },
    {
      "cell_type": "markdown",
      "source": [
        "**Constants** <br>\n",
        "Fixed values such as numbers, letters, their value does not change.<br>\n",
        "Nummeric constants and String constants"
      ],
      "metadata": {
        "id": "RjSnFp622C-5"
      }
    },
    {
      "cell_type": "markdown",
      "source": [
        "**Variable** <br>\n",
        "A variable is a container to store data values.<br>\n",
        "**Rules**: <br>\n",
        "Variable should start with a letter or _ <br>\n",
        "Must consist of letters, numbers, underscores <br>\n",
        "Case sensitive"
      ],
      "metadata": {
        "id": "onRgfFeJ2xN2"
      }
    },
    {
      "cell_type": "markdown",
      "source": [
        "**Expressions**<br>\n",
        "Numeric Expressions <br>\n",
        "**Operator Precedence**<br>\n",
        "Parentheses, <br>\n",
        "Exponentiation, <br>\n",
        "Multiplication, <br>\n",
        "Addition and <br>\n",
        "Left to Right"
      ],
      "metadata": {
        "id": "jn6k-aVc3ehD"
      }
    },
    {
      "cell_type": "markdown",
      "source": [
        "**Integer division**<br>\n",
        "It produces a floating point result."
      ],
      "metadata": {
        "id": "AGV8FB85DwYL"
      }
    },
    {
      "cell_type": "markdown",
      "source": [
        "**String conversions**"
      ],
      "metadata": {
        "id": "0UFAyll5_GHl"
      }
    },
    {
      "cell_type": "code",
      "source": [
        "sval = '123'\n",
        "print(type(sval))\n",
        "print(sval+1) # we get a string concantenation error"
      ],
      "metadata": {
        "colab": {
          "base_uri": "https://localhost:8080/",
          "height": 224
        },
        "id": "BBtBk3Ac_TGy",
        "outputId": "a92820b3-801f-4f6a-bb04-49abacc5ae25"
      },
      "execution_count": null,
      "outputs": [
        {
          "output_type": "stream",
          "name": "stdout",
          "text": [
            "<class 'str'>\n"
          ]
        },
        {
          "output_type": "error",
          "ename": "TypeError",
          "evalue": "ignored",
          "traceback": [
            "\u001b[0;31m---------------------------------------------------------------------------\u001b[0m",
            "\u001b[0;31mTypeError\u001b[0m                                 Traceback (most recent call last)",
            "\u001b[0;32m<ipython-input-7-3a261531c981>\u001b[0m in \u001b[0;36m<module>\u001b[0;34m()\u001b[0m\n\u001b[1;32m      1\u001b[0m \u001b[0msval\u001b[0m \u001b[0;34m=\u001b[0m \u001b[0;34m'123'\u001b[0m\u001b[0;34m\u001b[0m\u001b[0;34m\u001b[0m\u001b[0m\n\u001b[1;32m      2\u001b[0m \u001b[0mprint\u001b[0m\u001b[0;34m(\u001b[0m\u001b[0mtype\u001b[0m\u001b[0;34m(\u001b[0m\u001b[0msval\u001b[0m\u001b[0;34m)\u001b[0m\u001b[0;34m)\u001b[0m\u001b[0;34m\u001b[0m\u001b[0;34m\u001b[0m\u001b[0m\n\u001b[0;32m----> 3\u001b[0;31m \u001b[0mprint\u001b[0m\u001b[0;34m(\u001b[0m\u001b[0msval\u001b[0m\u001b[0;34m+\u001b[0m\u001b[0;36m1\u001b[0m\u001b[0;34m)\u001b[0m \u001b[0;31m## we get a string concantenation error\u001b[0m\u001b[0;34m\u001b[0m\u001b[0;34m\u001b[0m\u001b[0m\n\u001b[0m",
            "\u001b[0;31mTypeError\u001b[0m: can only concatenate str (not \"int\") to str"
          ]
        }
      ]
    },
    {
      "cell_type": "code",
      "source": [
        "ival = int(sval)\n",
        "print(type(ival))\n",
        "print(ival+1)"
      ],
      "metadata": {
        "colab": {
          "base_uri": "https://localhost:8080/"
        },
        "id": "zITC1Y9C_YNb",
        "outputId": "ae6680fd-ebe5-4af1-99cf-5db2e8464dec"
      },
      "execution_count": null,
      "outputs": [
        {
          "output_type": "stream",
          "name": "stdout",
          "text": [
            "<class 'int'>\n",
            "124\n"
          ]
        }
      ]
    },
    {
      "cell_type": "markdown",
      "source": [
        "**User Input**"
      ],
      "metadata": {
        "id": "ojZntnz1_1Qt"
      }
    },
    {
      "cell_type": "code",
      "source": [
        "nam = input(\"Enter your name:\")\n",
        "print('Welcome',nam)"
      ],
      "metadata": {
        "colab": {
          "base_uri": "https://localhost:8080/"
        },
        "id": "JpPp1tME_3X9",
        "outputId": "ddf94396-01dc-4756-ee0b-8ecabdd72e7d"
      },
      "execution_count": null,
      "outputs": [
        {
          "output_type": "stream",
          "name": "stdout",
          "text": [
            "Enter your name:Soujanya\n",
            "Welcome Soujanya\n"
          ]
        }
      ]
    },
    {
      "cell_type": "markdown",
      "source": [
        "**Converting user input**"
      ],
      "metadata": {
        "id": "ENv-lD_BAA90"
      }
    },
    {
      "cell_type": "code",
      "source": [
        "inp = input(\"Enter floor \")\n",
        "flr = int(inp)+1\n",
        "print(\"Floor\",flr)"
      ],
      "metadata": {
        "colab": {
          "base_uri": "https://localhost:8080/"
        },
        "id": "mlXi0_96AIX1",
        "outputId": "b74450fd-fc7a-4856-c0de-62858523c570"
      },
      "execution_count": null,
      "outputs": [
        {
          "output_type": "stream",
          "name": "stdout",
          "text": [
            "Enter floor 5\n",
            "Floor 6\n"
          ]
        }
      ]
    },
    {
      "cell_type": "markdown",
      "source": [
        "**Comments**<br>\n",
        "To add description to the code."
      ],
      "metadata": {
        "id": "57yZTfdeAN_k"
      }
    },
    {
      "cell_type": "markdown",
      "source": [
        "**Conditional Execution**<br>\n",
        "Comparison operators look at variables but do not change the variables <br>\n",
        "Boolean expressions using comparison operators evaluate to True/False or Yes/No"
      ],
      "metadata": {
        "id": "pRxrtkHDATgJ"
      }
    },
    {
      "cell_type": "markdown",
      "source": [
        "**Indentation**<br>\n",
        "Indentation in Python refers to the (spaces and tabs) that are used at the beginning of a statement. "
      ],
      "metadata": {
        "id": "s_doRN9uAZX8"
      }
    },
    {
      "cell_type": "markdown",
      "source": [
        "**Conditional Structures**<br>\n",
        "One way decision <br>\n",
        "Two way decision: <br>\n",
        "   If and else   <br>\n",
        "Nested Decisions   <br>\n",
        "Multi way decision using elif"
      ],
      "metadata": {
        "id": "AapTV3WJAeVC"
      }
    },
    {
      "cell_type": "code",
      "source": [
        "x = 1\n",
        "if x<2:\n",
        "    print(\"Below 2\")\n",
        "elif x >= 2:\n",
        "    print(\"Two or more\")\n",
        "else:\n",
        "    print(\"else\")"
      ],
      "metadata": {
        "colab": {
          "base_uri": "https://localhost:8080/"
        },
        "id": "CDM4S578A3dc",
        "outputId": "8a60d604-7872-459d-8439-a94c0a00fdb1"
      },
      "execution_count": null,
      "outputs": [
        {
          "output_type": "stream",
          "name": "stdout",
          "text": [
            "Below 2\n"
          ]
        }
      ]
    },
    {
      "cell_type": "markdown",
      "source": [
        "**if...elif..else Statement**"
      ],
      "metadata": {
        "id": "wywU6qgDF4Zd"
      }
    },
    {
      "cell_type": "code",
      "source": [
        "marks = int(input(\"Enter the marks:\"))\n",
        "if marks >=90 and marks<=100:\n",
        "  print(\"A grade\")\n",
        "elif marks >=80:\n",
        "  print(\"B grade\")\n",
        "elif marks >=70:\n",
        "  print(\"C grade\")\n",
        "elif marks >=60:\n",
        "  print(\"D grade\")\n",
        "else:\n",
        "  print(\"Fail\")\n"
      ],
      "metadata": {
        "colab": {
          "base_uri": "https://localhost:8080/"
        },
        "id": "cUBgG9WKFpP1",
        "outputId": "bf4ecf12-a3c9-4096-e72e-75826e11acde"
      },
      "execution_count": null,
      "outputs": [
        {
          "output_type": "stream",
          "name": "stdout",
          "text": [
            "Enter the marks:85\n",
            "B grade\n"
          ]
        }
      ]
    },
    {
      "cell_type": "markdown",
      "source": [
        "**Nested if - else Statements**"
      ],
      "metadata": {
        "id": "cqP5-V7fG1Zv"
      }
    },
    {
      "cell_type": "code",
      "source": [
        "marks = int(input(\"Enter marks: \"))\n",
        "if marks >= 75:\n",
        "  print(\"Grade: \",end=' ')\n",
        "  if marks >=90:\n",
        "      print(\"A\")\n",
        "  elif marks >=80:\n",
        "      print(\"B\")\n",
        "  elif marks >=70:\n",
        "      print(\"C\")\n",
        "else:\n",
        "  print(\"D\")"
      ],
      "metadata": {
        "colab": {
          "base_uri": "https://localhost:8080/"
        },
        "id": "N2oGwT9dG2ib",
        "outputId": "322fccaf-be80-4f0a-869e-c7d14b010d94"
      },
      "execution_count": null,
      "outputs": [
        {
          "output_type": "stream",
          "name": "stdout",
          "text": [
            "Enter marks:80\n",
            "Grade:  B\n"
          ]
        }
      ]
    },
    {
      "cell_type": "markdown",
      "source": [
        "**Try and except Structure**<br>\n",
        "If the code in try works, then except is skipped <br>\n",
        "If the code in try fails, then except is executed"
      ],
      "metadata": {
        "id": "goZjRcNRAmPD"
      }
    },
    {
      "cell_type": "markdown",
      "source": [
        "**Functions** <br>\n",
        "Reusability of Code.<br>\n",
        "There are two kinds of functions: Built-in functions and Functions that we define ourselves and then use <br>\n",
        "We define a function using the def reserved word"
      ],
      "metadata": {
        "id": "-XFqHyy2BFnQ"
      }
    },
    {
      "cell_type": "code",
      "source": [
        "def myFirstFunction():\n",
        "  print(\"FirstFunction\")\n",
        "myFirstFunction()"
      ],
      "metadata": {
        "colab": {
          "base_uri": "https://localhost:8080/"
        },
        "id": "stAPWcFhL2CF",
        "outputId": "491a5ad4-ae77-4201-ae10-e7443bd33a37"
      },
      "execution_count": null,
      "outputs": [
        {
          "output_type": "stream",
          "name": "stdout",
          "text": [
            "FirstFunction\n"
          ]
        }
      ]
    },
    {
      "cell_type": "markdown",
      "source": [
        "**Arguments** <br>\n",
        "An argument is a value we pass into the function as its input when we call the function."
      ],
      "metadata": {
        "id": "6pB3SWiQBeI8"
      }
    },
    {
      "cell_type": "code",
      "source": [
        "def square(num):\n",
        "  print(\"The square of {} is {} \" .format(num, num**2))\n",
        "\n",
        "square(5)\n",
        "square(10)"
      ],
      "metadata": {
        "colab": {
          "base_uri": "https://localhost:8080/"
        },
        "id": "7sIt5rlPMNSw",
        "outputId": "73dd6cb4-4249-4448-9529-d4d29a84010e"
      },
      "execution_count": null,
      "outputs": [
        {
          "output_type": "stream",
          "name": "stdout",
          "text": [
            "The square of 5 is 25 \n",
            "The square of 10 is 100 \n"
          ]
        }
      ]
    },
    {
      "cell_type": "markdown",
      "source": [
        "**Return value**<br>\n",
        "The return statement ends the function execution and send back the result of the function."
      ],
      "metadata": {
        "id": "2eRnQ9mFBvJl"
      }
    },
    {
      "cell_type": "code",
      "source": [
        "def add_sub(a,b):\n",
        "    add = a+b\n",
        "    sub = a-b\n",
        "    return add,sub\n",
        "numbers = add_sub(10,5)\n",
        "print(\"addition and subtraction is: \", numbers)"
      ],
      "metadata": {
        "colab": {
          "base_uri": "https://localhost:8080/"
        },
        "id": "kyheUEZmNNf6",
        "outputId": "de52a828-eea1-4b4c-c0a4-ea86ef0d9653"
      },
      "execution_count": null,
      "outputs": [
        {
          "output_type": "stream",
          "name": "stdout",
          "text": [
            "addition and subtraction is:  (15, 5)\n"
          ]
        }
      ]
    },
    {
      "cell_type": "markdown",
      "source": [
        "**Multiple Parameters/Arguments**"
      ],
      "metadata": {
        "id": "Ox1OdZ-zByRr"
      }
    },
    {
      "cell_type": "code",
      "source": [
        "def printInfo(marks,name,age,message):\n",
        "    print(\"Name: \", name)\n",
        "    print(\"Age: \",age)\n",
        "    print(\"Marks: \",marks)\n",
        "    print(\"Message: \",message)\n",
        "printInfo(100,\"abc\",16,\"GoodMorning\")"
      ],
      "metadata": {
        "colab": {
          "base_uri": "https://localhost:8080/"
        },
        "id": "l7TlfjlMN1po",
        "outputId": "f26d29cb-51f7-40a2-815a-2b4da94ee694"
      },
      "execution_count": null,
      "outputs": [
        {
          "output_type": "stream",
          "name": "stdout",
          "text": [
            "Name:  abc\n",
            "Age:  16\n",
            "Marks:  100\n",
            "Message:  GoodMorning\n"
          ]
        }
      ]
    },
    {
      "cell_type": "markdown",
      "source": [
        "**Void Function**<br>\n",
        "When the function does not return a value, we call it a void function"
      ],
      "metadata": {
        "id": "IdFU24lOB2me"
      }
    },
    {
      "cell_type": "markdown",
      "source": [
        "**Loops and Iterations**<br>\n"
      ],
      "metadata": {
        "id": "dYYLhIXaB7Qd"
      }
    },
    {
      "cell_type": "code",
      "source": [
        "# Break statement\n",
        "while True:\n",
        "    line = input(\"Enter your name:\")\n",
        "    if line == 'done':\n",
        "        break\n",
        "    print(line)\n",
        "print('Done!')"
      ],
      "metadata": {
        "colab": {
          "base_uri": "https://localhost:8080/"
        },
        "id": "gnAJPJ3_CBkV",
        "outputId": "653cd187-7808-4318-ef28-cd9b4c1f49cf"
      },
      "execution_count": null,
      "outputs": [
        {
          "output_type": "stream",
          "name": "stdout",
          "text": [
            "Enter your name:Soujanya\n",
            "Soujanya\n",
            "Enter your name:Done\n",
            "Done\n",
            "Enter your name:done\n",
            "Done!\n"
          ]
        }
      ]
    },
    {
      "cell_type": "markdown",
      "source": [
        "**Definite loops:**<br>\n",
        "For loop "
      ],
      "metadata": {
        "id": "HOYCp3kzCK5p"
      }
    },
    {
      "cell_type": "code",
      "source": [
        "friends = ['Jo','Joey','Sally']\n",
        "for friend in friends:\n",
        "    print(\"Hello\",friend)\n",
        "print(\"Done\")"
      ],
      "metadata": {
        "colab": {
          "base_uri": "https://localhost:8080/"
        },
        "id": "pGYZg9sKCN1H",
        "outputId": "f2da49ce-23f8-41fa-f629-e1b60ee2edf0"
      },
      "execution_count": null,
      "outputs": [
        {
          "output_type": "stream",
          "name": "stdout",
          "text": [
            "Hello Jo\n",
            "Hello Joey\n",
            "Hello Sally\n",
            "Done\n"
          ]
        }
      ]
    },
    {
      "cell_type": "code",
      "source": [
        ""
      ],
      "metadata": {
        "id": "YQvgDN-uI0ZM"
      },
      "execution_count": null,
      "outputs": []
    },
    {
      "cell_type": "code",
      "source": [
        "for count in range(10):\n",
        "  if count == 5:\n",
        "    break\n",
        "  print(\"The count is : \", count)\n",
        "print(\"END\")"
      ],
      "metadata": {
        "colab": {
          "base_uri": "https://localhost:8080/"
        },
        "id": "VqEqUiCBI2UF",
        "outputId": "2f7d79bc-8195-4876-d0cb-4227f97230fa"
      },
      "execution_count": null,
      "outputs": [
        {
          "output_type": "stream",
          "name": "stdout",
          "text": [
            "The count is :  0\n",
            "The count is :  1\n",
            "The count is :  2\n",
            "The count is :  3\n",
            "The count is :  4\n",
            "END\n"
          ]
        }
      ]
    },
    {
      "cell_type": "markdown",
      "source": [
        "**What is the largest number:**"
      ],
      "metadata": {
        "id": "WxtL3cvSCR36"
      }
    },
    {
      "cell_type": "code",
      "source": [
        "largest_num = -1\n",
        "for num in [9,3,21,85,6,55]:\n",
        "    if num > largest_num:\n",
        "        largest_num = num\n",
        "    print(largest_num, num)\n",
        "print(\"largest num is \",largest_num)"
      ],
      "metadata": {
        "colab": {
          "base_uri": "https://localhost:8080/"
        },
        "id": "7Au1jbC4CS-a",
        "outputId": "e07d806d-ec64-4773-a13d-f75e608a1593"
      },
      "execution_count": null,
      "outputs": [
        {
          "output_type": "stream",
          "name": "stdout",
          "text": [
            "9 9\n",
            "9 3\n",
            "21 21\n",
            "85 85\n",
            "85 6\n",
            "85 55\n",
            "largest num is  85\n"
          ]
        }
      ]
    },
    {
      "cell_type": "markdown",
      "source": [
        "We can use loop in many ways:<br>\n",
        "Count and sum the loop <br>\n",
        "Filtering the loop <br>\n",
        "Searching using a Boolean Variable "
      ],
      "metadata": {
        "id": "WfGMZcVECX9c"
      }
    },
    {
      "cell_type": "markdown",
      "source": [
        "**What is the smallest number:**"
      ],
      "metadata": {
        "id": "C8LCbkiiCmAp"
      }
    },
    {
      "cell_type": "code",
      "source": [
        "small_num = None\n",
        "for num in [9,19,21,3,21,85,6,55]:\n",
        "    if small_num is None:\n",
        "        small_num = num\n",
        "    elif num < small_num:\n",
        "        small_num = num\n",
        "    print(small_num,num)\n",
        "print(small_num)"
      ],
      "metadata": {
        "colab": {
          "base_uri": "https://localhost:8080/"
        },
        "id": "7OB-LY75Cnzc",
        "outputId": "f5d74de8-1316-4d13-d463-f19bda0c3629"
      },
      "execution_count": null,
      "outputs": [
        {
          "output_type": "stream",
          "name": "stdout",
          "text": [
            "9 9\n",
            "9 19\n",
            "9 21\n",
            "3 3\n",
            "3 21\n",
            "3 85\n",
            "3 6\n",
            "3 55\n",
            "3\n"
          ]
        }
      ]
    },
    {
      "cell_type": "markdown",
      "source": [
        "**The \"is\" and \"is not\" Operators** <br>\n",
        "**\"is\"** operator can be used in logical expressions <br>\n",
        "**\"is not\"** is a logical operator"
      ],
      "metadata": {
        "id": "0VNqWrE9Cro7"
      }
    },
    {
      "cell_type": "markdown",
      "source": [
        "**Strings**<br>\n",
        "A string is a sequence of characters.<br>\n",
        "Len: gives us length of the string<br>\n",
        "**Immutable**"
      ],
      "metadata": {
        "id": "6dWeHkiv4mbQ"
      }
    },
    {
      "cell_type": "markdown",
      "source": [
        "**Looping through strings**<br>\n",
        "Using for and while loops"
      ],
      "metadata": {
        "id": "gNSX-QWJ6K5A"
      }
    },
    {
      "cell_type": "code",
      "source": [
        "fruit = 'apple'\n",
        "index = 0\n",
        "while index < len(fruit):\n",
        "    letter = fruit[index]\n",
        "    print(index,letter)\n",
        "    index = index+1\n"
      ],
      "metadata": {
        "colab": {
          "base_uri": "https://localhost:8080/"
        },
        "id": "3XlhQJ0B6Nh5",
        "outputId": "a6ae96f1-af33-40c1-8589-82b053395d30"
      },
      "execution_count": null,
      "outputs": [
        {
          "output_type": "stream",
          "name": "stdout",
          "text": [
            "0 a\n",
            "1 p\n",
            "2 p\n",
            "3 l\n",
            "4 e\n"
          ]
        }
      ]
    },
    {
      "cell_type": "markdown",
      "source": [
        "**Looping and counting**"
      ],
      "metadata": {
        "id": "IsDZROzX9sHe"
      }
    },
    {
      "cell_type": "code",
      "source": [
        "word = 'apple'\n",
        "count = 0\n",
        "for letter in word:\n",
        "  if letter == 'p':\n",
        "     count = count+1\n",
        "print(count)"
      ],
      "metadata": {
        "colab": {
          "base_uri": "https://localhost:8080/"
        },
        "id": "nBGPZE6h9u3L",
        "outputId": "167e76b1-31aa-4419-a161-3a045dbcb035"
      },
      "execution_count": null,
      "outputs": [
        {
          "output_type": "stream",
          "name": "stdout",
          "text": [
            "2\n"
          ]
        }
      ]
    },
    {
      "cell_type": "markdown",
      "source": [
        "**Slicing Strings**<br>\n",
        "Using a colon **:** operator <br>\n",
        "**String concantenation** <br>\n",
        "Using a **+** operator <br>\n",
        "Using **in** as a logical operator <br>\n",
        "**Searching a string**<br>\n",
        "find() <br>\n",
        "**Upper case or Lower case** <br>\n",
        "upper() and lower() <br>\n",
        "**Search and Replace**<br>\n",
        "replace()\n",
        "**Stripping whitespace**<br>\n",
        "lstrip()<br>\n",
        "rstrip()<br>\n",
        "strip()<br>\n",
        "**Prefixes**<br>\n",
        "startswith"
      ],
      "metadata": {
        "id": "Xvou8zxp-lJq"
      }
    },
    {
      "cell_type": "markdown",
      "source": [
        "**Reading Files**<br>"
      ],
      "metadata": {
        "id": "pyJiqA4wEkf1"
      }
    },
    {
      "cell_type": "markdown",
      "source": [
        "\n",
        "**File Processing**<br>\n",
        "A text file is a sequence of lines.<br>\n",
        "**Opening a File**<br>\n",
        "open()<br>\n",
        "handle = open(filename,mode)<br>\n",
        "**Counting lines in a File**<br>\n",
        "Using a for loop<br>\n",
        "**Reading the complete file**<br>\n",
        "read()(newlines and lines in astring)<br>\n",
        "**Skipping the lines**<br>\n",
        "using continue<br>\n",
        "**Stop the execution of the file**<br>\n",
        "quit()"
      ],
      "metadata": {
        "id": "gOpPkja1DYGw"
      }
    },
    {
      "cell_type": "markdown",
      "source": [
        "**Lists**<br>\n"
      ],
      "metadata": {
        "id": "xGncNZoYHHdH"
      }
    },
    {
      "cell_type": "markdown",
      "source": [
        "A List is a ordered collection of data.<br>\n",
        "List is represented by [] <br>\n",
        "Lists are **mutable**: we can change an element of the list using the index operator."
      ],
      "metadata": {
        "id": "_5p9bM58wZUd"
      }
    },
    {
      "cell_type": "markdown",
      "source": [
        "**Concantenating Lists using + **<br>\n",
        "**Lists can be sliced using :**<br>\n",
        "**Adding elements**<br>\n",
        "append()\n",
        "**Sorting can be done:**<br>\n",
        "sort()"
      ],
      "metadata": {
        "id": "FJRfdbMzI6sj"
      }
    },
    {
      "cell_type": "code",
      "source": [
        "lst_one = ['one','two','three']\n",
        "lst_two = ['four','five']\n",
        "lst_one.append(lst_two)\n",
        "print(lst_one)"
      ],
      "metadata": {
        "colab": {
          "base_uri": "https://localhost:8080/"
        },
        "id": "BPcPdiKROkyr",
        "outputId": "7105cd5d-5a58-458f-dcb9-71d470a4eae1"
      },
      "execution_count": null,
      "outputs": [
        {
          "output_type": "stream",
          "name": "stdout",
          "text": [
            "['one', 'two', 'three', ['four', 'five']]\n"
          ]
        }
      ]
    },
    {
      "cell_type": "code",
      "source": [
        "lst_one.append([6,7])\n",
        "print(lst_one)"
      ],
      "metadata": {
        "colab": {
          "base_uri": "https://localhost:8080/"
        },
        "id": "AneS4pBtEMyp",
        "outputId": "870386fd-615f-4c20-c77f-8b9a48536963"
      },
      "execution_count": null,
      "outputs": [
        {
          "output_type": "stream",
          "name": "stdout",
          "text": [
            "['one', 'two', 'three', ['four', 'five'], [6, 7]]\n"
          ]
        }
      ]
    },
    {
      "cell_type": "code",
      "source": [
        "lst_one.remove([6,7])\n",
        "print(lst_one)"
      ],
      "metadata": {
        "colab": {
          "base_uri": "https://localhost:8080/"
        },
        "id": "NHzVnmJKEvuf",
        "outputId": "677bb210-ee29-4c4b-eb9c-9cd04b4a2b65"
      },
      "execution_count": null,
      "outputs": [
        {
          "output_type": "stream",
          "name": "stdout",
          "text": [
            "['one', 'two', 'three', ['four', 'five']]\n"
          ]
        }
      ]
    },
    {
      "cell_type": "code",
      "source": [
        "lst_one.pop()\n",
        "print(lst_one)"
      ],
      "metadata": {
        "colab": {
          "base_uri": "https://localhost:8080/"
        },
        "id": "5QrI3h6TFkxO",
        "outputId": "e656e294-f96b-45ff-842b-929400dfbddf"
      },
      "execution_count": null,
      "outputs": [
        {
          "output_type": "stream",
          "name": "stdout",
          "text": [
            "['one', 'two', 'three']\n"
          ]
        }
      ]
    },
    {
      "cell_type": "code",
      "source": [
        "lst_one = ['one','two','three']\n",
        "lst_two = ['four','five']\n",
        "lst_one + lst_two"
      ],
      "metadata": {
        "colab": {
          "base_uri": "https://localhost:8080/"
        },
        "id": "qk4cn_48PDdT",
        "outputId": "621cde17-3c92-4b16-90e6-783687e89315"
      },
      "execution_count": null,
      "outputs": [
        {
          "output_type": "execute_result",
          "data": {
            "text/plain": [
              "['one', 'two', 'three', 'four', 'five']"
            ]
          },
          "metadata": {},
          "execution_count": 9
        }
      ]
    },
    {
      "cell_type": "code",
      "source": [
        "myStr = 'i want to sort this string'\n",
        "words = myStr.split()\n",
        "print(words)\n",
        "words.sort()\n",
        "print(\" \".join(words))"
      ],
      "metadata": {
        "colab": {
          "base_uri": "https://localhost:8080/"
        },
        "id": "J5TTXcYRPG9R",
        "outputId": "59b51ca1-103a-4925-b812-8f146ba228ad"
      },
      "execution_count": null,
      "outputs": [
        {
          "output_type": "stream",
          "name": "stdout",
          "text": [
            "['i', 'want', 'to', 'sort', 'this', 'string']\n",
            "i sort string this to want\n"
          ]
        }
      ]
    },
    {
      "cell_type": "markdown",
      "source": [
        "**Dictionaries**"
      ],
      "metadata": {
        "id": "kDVmVfjdnLRw"
      }
    },
    {
      "cell_type": "markdown",
      "source": [
        "A unordered collection of Key-value pairs.<br>\n",
        "Dictionary is represented by {} <br>\n",
        "**Mutable**<br>\n",
        "Keys are unique, values may not be unique."
      ],
      "metadata": {
        "id": "Gy8TCXmZnSgb"
      }
    },
    {
      "cell_type": "markdown",
      "source": [
        "To check if the key is present in the dictionary or not<br>\n",
        "**get()**<br>\n",
        "We can retrieve keys,values and items(both) from dictionaries<br>\n",
        "**keys(),values()and items()**<br>\n"
      ],
      "metadata": {
        "id": "exz-vFhmwoJy"
      }
    },
    {
      "cell_type": "code",
      "source": [
        "dict1 = {'jo':1,'jame':2,'sally':3}\n",
        "for ky,val in dict1.items():\n",
        "  print(ky,val)"
      ],
      "metadata": {
        "colab": {
          "base_uri": "https://localhost:8080/"
        },
        "id": "9wTFYvnTVGa0",
        "outputId": "d7085d93-ff74-4a65-d2b9-c34d6118942e"
      },
      "execution_count": null,
      "outputs": [
        {
          "output_type": "stream",
          "name": "stdout",
          "text": [
            "jo 1\n",
            "jame 2\n",
            "sally 3\n"
          ]
        }
      ]
    },
    {
      "cell_type": "code",
      "source": [
        "# Updating a dict\n",
        "dict1['joey'] = 4\n",
        "dict1['sam'] = 5\n",
        "print(dict1)"
      ],
      "metadata": {
        "colab": {
          "base_uri": "https://localhost:8080/"
        },
        "id": "2dBrob_lXPi9",
        "outputId": "a0257479-9a5a-4bf3-9ff3-817f03cd48d4"
      },
      "execution_count": null,
      "outputs": [
        {
          "output_type": "stream",
          "name": "stdout",
          "text": [
            "{'jo': 1, 'jame': 2, 'sally': 3, 'joey': 4, 'sam': 5}\n"
          ]
        }
      ]
    },
    {
      "cell_type": "code",
      "source": [
        "# deleting elements\n",
        "del dict1['jo']\n",
        "print(dict1)"
      ],
      "metadata": {
        "colab": {
          "base_uri": "https://localhost:8080/"
        },
        "id": "cOdWOzI-XPqT",
        "outputId": "21dc4173-e0f5-4b4d-dd24-2d7c17dd4d90"
      },
      "execution_count": null,
      "outputs": [
        {
          "output_type": "stream",
          "name": "stdout",
          "text": [
            "{'jame': 2, 'sally': 3, 'joey': 4, 'sam': 5}\n"
          ]
        }
      ]
    },
    {
      "cell_type": "markdown",
      "source": [
        "**Dictionary example**"
      ],
      "metadata": {
        "id": "VqpX9vBXl0O_"
      }
    },
    {
      "cell_type": "code",
      "source": [
        "fname = input('Enter file: ')\n",
        "if len(fname) <1 : \n",
        "  fname='clown.txt'\n",
        "hand = open(fname)\n",
        "\n",
        "di = dict()\n",
        "for lin in hand:\n",
        "  lin = lin.rstrip()\n",
        "  #print(lin)\n",
        "  words = lin.split()\n",
        "  #print(words)\n",
        "  for w in words:\n",
        "    di[w] = di.get(w,0)+1\n",
        "print(di)\n",
        "\n",
        "# now we want the most common word\n",
        "largest = -1\n",
        "word = None\n",
        "for k,v in di.items():\n",
        "  #print(k,v)\n",
        "  if v > largest:\n",
        "    largest = v\n",
        "    word = k\n",
        "print(\"The most common word is {} and count of the word is {}\".format(word,largest))"
      ],
      "metadata": {
        "colab": {
          "base_uri": "https://localhost:8080/"
        },
        "id": "c83Cb3KvZX96",
        "outputId": "304cfdb1-3bbd-4b3d-9a3a-149c1b237f78"
      },
      "execution_count": null,
      "outputs": [
        {
          "output_type": "stream",
          "name": "stdout",
          "text": [
            "Enter file: intro.txt\n",
            "The most common word is the and count of the word is 226\n"
          ]
        }
      ]
    },
    {
      "cell_type": "markdown",
      "source": [
        "**Tuples**"
      ],
      "metadata": {
        "id": "TkdWmfwYl85w"
      }
    },
    {
      "cell_type": "markdown",
      "source": [
        "Tuples are **immutable**<br>\n",
        "Tuples are represented as **()**<br>\n",
        "\n"
      ],
      "metadata": {
        "id": "KPQ6E6lGl-0r"
      }
    },
    {
      "cell_type": "markdown",
      "source": [
        "**Regular Expressions**"
      ],
      "metadata": {
        "id": "FBjOnWAlCqNI"
      }
    },
    {
      "cell_type": "markdown",
      "source": [
        "We need to **import re**<br>\n",
        "re.search() is like find()<br>\n",
        "\n",
        "^  match the start of the line<br>\n",
        "$   matches the end of the line<br>\n",
        ".   match any character<br>\n",
        "'* Repeats a character zero or more times<br>\n",
        "'*? Repeats a character zero or more times (non-greedy)<br>\n",
        "'+' Repeats a character one or more times<br>\n",
        "'+?' Repeats a character one or more times(non-greedy)<br>\n",
        "\\s  Matches whitespace<br>\n",
        "\\S  Matches any non-whitespace character<br>\n",
        "[aeiou]  Matches a single character in the listed set<br>\n",
        "[^XYZ]  Matches a single character not in the listed set<br>\n",
        "[a-z0-9]  The set of characters can include a range\n",
        "(        Indicates where string extraction is to start\n",
        ")        Indicates where string extraction is to end"
      ],
      "metadata": {
        "id": "8souZkORGKbu"
      }
    },
    {
      "cell_type": "code",
      "source": [
        "import re\n",
        "line = 'From stephen.henry@uct.ac.za sat Feb 19 09:14:16 2022'\n",
        "y = re.findall('@([^ ]*)',line) \n",
        "print(y)"
      ],
      "metadata": {
        "colab": {
          "base_uri": "https://localhost:8080/"
        },
        "id": "CQvC3X1REZhR",
        "outputId": "6bc5a1c7-65de-4051-cdd6-9849572ef719"
      },
      "execution_count": null,
      "outputs": [
        {
          "output_type": "stream",
          "name": "stdout",
          "text": [
            "['uct.ac.za']\n"
          ]
        }
      ]
    },
    {
      "cell_type": "markdown",
      "source": [
        "**Networked Programs**"
      ],
      "metadata": {
        "id": "rkhWUuTPfNWH"
      }
    },
    {
      "cell_type": "markdown",
      "source": [
        "**Transport Control Protocol(TCP)**<br>\n",
        "\n",
        "*   Built on top of IP(Internet Protocol)\n",
        "*   Handles flow control using a transmit window\n",
        "*   Provides a nice reliable pipe\n",
        "\n",
        "\n",
        "\n",
        "\n",
        "\n",
        "\n",
        "\n",
        "\n"
      ],
      "metadata": {
        "id": "cL1revaHfR6z"
      }
    },
    {
      "cell_type": "markdown",
      "source": [
        "**Common TCP Ports**\n",
        "\n",
        "*  Telnet (23) - Login\n",
        "*  SSH (22) - Secure Login\n",
        "*  HTTP(80)\n",
        "*  HTTPS(443)- Secure\n",
        "*  SMTP(25) - mail\n",
        "*  IMAP(143/220/993)- Mail Retrieval\n",
        "*  POP(109/110) - Mail Retrieval\n",
        "*  DNS(53) - Domain Name\n",
        "*  FTP(21) - File Transfer\n"
      ],
      "metadata": {
        "id": "3ql_qv5kg2gi"
      }
    },
    {
      "cell_type": "markdown",
      "source": [
        "**Sockets in Python**<br>\n",
        "Python has builtin support for TCP sockets.<br>\n",
        "import socket<br>\n",
        "**Application Protocols**<br>\n",
        "*   Mail\n",
        "*   World Wide Web\n",
        "\n",
        "**HTTP**<br>\n",
        "The Hyper Text Transfer Protocol is the set of rules to allow browsers to retrieve web documents from servers over the internet.<br>\n",
        "\n",
        "**Internet Standards**<br>\n",
        "Standards are called **RFCs**- Request for Comments\n",
        "\n"
      ],
      "metadata": {
        "id": "CzgdmVsriQ8I"
      }
    },
    {
      "cell_type": "code",
      "source": [
        "import socket\n",
        "\n",
        "mysock = socket.socket(socket.AF_INET,socket.SOCK_STREAM)\n",
        "mysock.connect(('data.pr4e.org',80))\n",
        "cmd = 'GET http://data.pr4e.org/clown.txt HTTP/1.0\\n\\n'.encode()\n",
        "mysock.send(cmd)\n",
        "\n",
        "while True:\n",
        "  data = mysock.recv(512)\n",
        "  if (len(data) < 1):\n",
        "    break\n",
        "  print(data.decode())\n",
        "mysock.close()\n"
      ],
      "metadata": {
        "colab": {
          "base_uri": "https://localhost:8080/"
        },
        "id": "cVDM7Wq95A5P",
        "outputId": "02ae1fe6-e034-4801-d229-db5e3ffa1993"
      },
      "execution_count": null,
      "outputs": [
        {
          "output_type": "stream",
          "name": "stdout",
          "text": [
            "HTTP/1.1 400 Bad Request\r\n",
            "Date: Sat, 19 Feb 2022 07:55:18 GMT\r\n",
            "Server: Apache/2.4.18 (Ubuntu)\r\n",
            "Content-Length: 308\r\n",
            "Connection: close\r\n",
            "Content-Type: text/html; charset=iso-8859-1\r\n",
            "\r\n",
            "<!DOCTYPE HTML PUBLIC \"-//IETF//DTD HTML 2.0//EN\">\n",
            "<html><head>\n",
            "<title>400 Bad Request</title>\n",
            "</head><body>\n",
            "<h1>Bad Request</h1>\n",
            "<p>Your browser sent a request that this server could not understand.<br />\n",
            "</p>\n",
            "<hr>\n",
            "<address>Apache/2.4.18 (Ubuntu) Server at do1.dr-chuck.com Port 80</address>\n",
            "</body></html>\n",
            "\n"
          ]
        }
      ]
    },
    {
      "cell_type": "markdown",
      "source": [
        "**Representing Strings**<br>\n",
        "\n",
        "*  Each character is represented by a number between 0 and 256 stored in 8 bits of memory.\n",
        "*   8 bits of memory as a **byte** of memory.\n",
        "*   ord()- tell us the numeric value of ASCII character.\n",
        "\n",
        "\n",
        "\n",
        "\n"
      ],
      "metadata": {
        "id": "2fVERPKx-7wJ"
      }
    },
    {
      "cell_type": "markdown",
      "source": [
        "UTF-8 is for encoding data to be exchanged between systems."
      ],
      "metadata": {
        "id": "wY-Ws1gQCayC"
      }
    },
    {
      "cell_type": "markdown",
      "source": [
        "Using **urllib** in Python"
      ],
      "metadata": {
        "id": "_P7tdIYkEdbI"
      }
    },
    {
      "cell_type": "code",
      "source": [
        "import urllib.request,urllib.parse,urllib.error\n"
      ],
      "metadata": {
        "id": "JKMeIW_lE0cB"
      },
      "execution_count": null,
      "outputs": []
    },
    {
      "cell_type": "code",
      "source": [
        "fhand = urllib.request.urlopen('http://data.pr4e.org/clown.txt')\n",
        "for line in fhand:\n",
        "  print(line.decode().strip())"
      ],
      "metadata": {
        "colab": {
          "base_uri": "https://localhost:8080/"
        },
        "id": "9YeJGLHQGoy8",
        "outputId": "74a3c15b-eba5-4116-e1a6-c62bf3ee48eb"
      },
      "execution_count": null,
      "outputs": [
        {
          "output_type": "stream",
          "name": "stdout",
          "text": [
            "the clown ran after the car and the car ran into the tent and the tent fell down on the clown and the car\n"
          ]
        }
      ]
    },
    {
      "cell_type": "markdown",
      "source": [
        "**Reading a web page**"
      ],
      "metadata": {
        "id": "tcwbkCCkHYF1"
      }
    },
    {
      "cell_type": "code",
      "source": [
        "import urllib.request,urllib.parse,urllib.error\n",
        "\n",
        "fhand = urllib.request.urlopen('https://www.dr-chuck.com/page2.htm')\n",
        "for line in fhand:\n",
        "  print(line.decode().strip())"
      ],
      "metadata": {
        "colab": {
          "base_uri": "https://localhost:8080/"
        },
        "id": "KvStkaEMHayT",
        "outputId": "724a086f-11bd-4ac1-dad6-d2d747d10a6b"
      },
      "execution_count": null,
      "outputs": [
        {
          "output_type": "stream",
          "name": "stdout",
          "text": [
            "<h1>The Second Page</h1>\n",
            "<p>\n",
            "If you like, you can switch back to the\n",
            "<a href=\"page1.htm\">\n",
            "First Page</a>.\n",
            "</p>\n"
          ]
        }
      ]
    },
    {
      "cell_type": "markdown",
      "source": [
        "**Count the words in a webpage**"
      ],
      "metadata": {
        "id": "KwLrLtNeQ_-H"
      }
    },
    {
      "cell_type": "code",
      "source": [
        "import urllib.request,urllib.parse,urllib.error\n",
        "\n",
        "fhand = urllib.request.urlopen('http://data.pr4e.org/clown.txt')\n",
        "\n",
        "count = dict()\n",
        "for line in fhand:\n",
        "  line = line.decode().split()\n",
        "  for words in line:\n",
        "    count[words] = count.get(words,0)+1\n",
        "print(count)"
      ],
      "metadata": {
        "colab": {
          "base_uri": "https://localhost:8080/"
        },
        "id": "vNO34luaRUe5",
        "outputId": "dfd43540-715a-4847-9acb-ca0ff9984bf4"
      },
      "execution_count": null,
      "outputs": [
        {
          "output_type": "stream",
          "name": "stdout",
          "text": [
            "{'the': 7, 'clown': 2, 'ran': 2, 'after': 1, 'car': 3, 'and': 3, 'into': 1, 'tent': 2, 'fell': 1, 'down': 1, 'on': 1}\n"
          ]
        }
      ]
    },
    {
      "cell_type": "markdown",
      "source": [
        "**Web Scraping**<br>\n",
        "We use BeautifulSoup.<br>\n",
        "from bs4 import BeautifulSoup"
      ],
      "metadata": {
        "id": "SPJ6A-qATLZX"
      }
    },
    {
      "cell_type": "code",
      "source": [
        "import requests\n",
        "url = \"https://www.geeksforgeeks.org/data-structures/\"\n",
        "r = requests.get(url)\n",
        "print(r.content)"
      ],
      "metadata": {
        "colab": {
          "base_uri": "https://localhost:8080/"
        },
        "id": "HWFmq0ilTbnR",
        "outputId": "66716f08-7e5b-451f-e809-4a1981116234"
      },
      "execution_count": null,
      "outputs": [
        {
          "output_type": "stream",
          "name": "stdout",
          "text": [
            "b'<!doctype html><html lang=en-us prefix=\"og: http://ogp.me/ns#\"><meta charset=utf-8><meta name=viewport content=\"width=device-width,initial-scale=1,maximum-scale=1\"><link rel=\"shortcut icon\" href=https://media.geeksforgeeks.org/wp-content/cdn-uploads/gfg_favicon.png type=image/x-icon><meta name=theme-color content=\"#308D46\"><meta name=image property=\"og:image\" content=\"https://media.geeksforgeeks.org/wp-content/cdn-uploads/gfg_200x200-min.png\"><meta property=\"og:image:type\" content=\"image/png\"><meta property=\"og:image:width\" content=\"200\"><meta property=\"og:image:height\" content=\"200\"><script defer src=https://apis.google.com/js/platform.js></script><script async src=//cdnjs.cloudflare.com/ajax/libs/require.js/2.1.14/require.min.js></script><script async src=\"//translate.google.com/translate_a/element.js?cb=googleTranslateElementInit\"></script><title>Data Structures - GeeksforGeeks</title><link rel=profile href=http://gmpg.org/xfn/11><link rel=pingback href><script type=application/ld+json>\\r\\n    {\\r\\n        \"@context\" : \"http://schema.org\",\\r\\n        \"@type\" : \"Organization\",\\r\\n        \"name\" : \"GeeksforGeeks\",\\r\\n        \"url\" : \"https://www.geeksforgeeks.org/\",\\r\\n        \"logo\" : \"https://media.geeksforgeeks.org/wp-content/cdn-uploads/20200817185016/gfg_complete_logo_2x-min.png\",\\r\\n        \"description\" : \"A computer science portal for geeks. It contains well written, well thought and well explained computer science and programming articles, quizzes and practice/competitive programming/company interview Questions.\",\\r\\n        \"founder\": [\\r\\n            {\\r\\n                \"@type\" : \"Person\",\\r\\n                \"name\" : \"Sandeep Jain\",\\r\\n                \"url\" : \"https://in.linkedin.com/in/sandeep-jain-b3940815\"\\r\\n            }\\r\\n        ],\\r\\n        \"sameAs\" : [ \"https://www.facebook.com/geeksforgeeks.org/\",\\r\\n            \"https://twitter.com/geeksforgeeks\",\\r\\n            \"https://www.linkedin.com/company/1299009\",\\r\\n            \"https://www.youtube.com/geeksforgeeksvideos/\"\\r\\n        ]\\r\\n    }\\r\\n</script><script>\\r\\n\\r\\n    var arrPostCat = new Array();\\r\\n        var tIds = \"\";\\r\\n    var domain = 1;\\r\\n    var arrPost = new Array();\\r\\n    var post_id = \"125686\";\\r\\n    var post_type = \"page\";\\r\\n    var post_slug = window.location.href;\\r\\n    var ip = \"44.234.188.242\";\\r\\n    var post_title = \"Data Structures\";\\r\\n    var post_status = \"publish\";\\r\\n    var post_date = \"2014-02-01 20:16:50\";\\r\\n                            var isAdminLoggedIn = 0;\\r\\n        </script><meta name=description content=\"Complete list of Data Structure, Practice Problems, Quizzes, Array, Linked List, Stack, Queue, Trees, Heap, Graph, Matrix, Advanced Data Structures\"><link rel=canonical href=https://www.geeksforgeeks.org/data-structures/><meta property=\"og:locale\" content=\"en_US\"><meta property=\"og:type\" content=\"article\"><meta property=\"og:title\" content=\"Data Structures - GeeksforGeeks\"><meta property=\"og:description\" content=\"Complete list of Data Structure, Practice Problems, Quizzes, Array, Linked List, Stack, Queue, Trees, Heap, Graph, Matrix, Advanced Data Structures\"><meta property=\"og:url\" content=\"https://www.geeksforgeeks.org/data-structures/\"><meta property=\"og:site_name\" content=\"GeeksforGeeks\"><meta property=\"og:image\" content=\"https://media.geeksforgeeks.org/wp-content/uploads/array-2.png\"><meta property=\"og:image:secure_url\" content=\"https://media.geeksforgeeks.org/wp-content/uploads/array-2.png\"><script type=application/ld+json>{\"@context\":\"https:\\\\/\\\\/schema.org\",\"@type\":\"Organization\",\"url\":\"https:\\\\/\\\\/www.geeksforgeeks.org\\\\/\",\"sameAs\":[],\"@id\":\"https:\\\\/\\\\/www.geeksforgeeks.org\\\\/#organization\",\"name\":\"GeeksforGeeks\",\"logo\":\"http:\\\\/\\\\/www.geeksforgeeks.org\\\\/wp-content\\\\/uploads\\\\/gfg_200X200-1.png\"}</script><link rel=dns-prefetch href=//www.geeksforgeeks.org><link rel=dns-prefetch href=//s.w.org><link rel=alternate type=application/rss+xml title=\"GeeksforGeeks &#187; Feed\" href=https://www.geeksforgeeks.org/feed/><link rel=alternate type=application/rss+xml title=\"GeeksforGeeks &#187; Comments Feed\" href=https://www.geeksforgeeks.org/comments/feed/><link rel=alternate type=application/rss+xml title=\"GeeksforGeeks &#187; Data Structures Comments Feed\" href=https://www.geeksforgeeks.org/data-structures/feed/><script>\\n\\t\\t\\twindow._wpemojiSettings = {\"baseUrl\":\"https:\\\\/\\\\/s.w.org\\\\/images\\\\/core\\\\/emoji\\\\/11\\\\/72x72\\\\/\",\"ext\":\".png\",\"svgUrl\":\"https:\\\\/\\\\/s.w.org\\\\/images\\\\/core\\\\/emoji\\\\/11\\\\/svg\\\\/\",\"svgExt\":\".svg\",\"source\":{\"concatemoji\":\"https:\\\\/\\\\/www.geeksforgeeks.org\\\\/wp-includes\\\\/js\\\\/wp-emoji-release.min.js?ver=4.9.8\"}};\\n\\t\\t\\t!function(a,b,c){function d(a,b){var c=String.fromCharCode;l.clearRect(0,0,k.width,k.height),l.fillText(c.apply(this,a),0,0);var d=k.toDataURL();l.clearRect(0,0,k.width,k.height),l.fillText(c.apply(this,b),0,0);var e=k.toDataURL();return d===e}function e(a){var b;if(!l||!l.fillText)return!1;switch(l.textBaseline=\"top\",l.font=\"600 32px Arial\",a){case\"flag\":return!(b=d([55356,56826,55356,56819],[55356,56826,8203,55356,56819]))&&(b=d([55356,57332,56128,56423,56128,56418,56128,56421,56128,56430,56128,56423,56128,56447],[55356,57332,8203,56128,56423,8203,56128,56418,8203,56128,56421,8203,56128,56430,8203,56128,56423,8203,56128,56447]),!b);case\"emoji\":return b=d([55358,56760,9792,65039],[55358,56760,8203,9792,65039]),!b}return!1}function f(a){var c=b.createElement(\"script\");c.src=a,c.defer=c.type=\"text/javascript\",b.getElementsByTagName(\"head\")[0].appendChild(c)}var g,h,i,j,k=b.createElement(\"canvas\"),l=k.getContext&&k.getContext(\"2d\");for(j=Array(\"flag\",\"emoji\"),c.supports={everything:!0,everythingExceptFlag:!0},i=0;i<j.length;i++)c.supports[j[i]]=e(j[i]),c.supports.everything=c.supports.everything&&c.supports[j[i]],\"flag\"!==j[i]&&(c.supports.everythingExceptFlag=c.supports.everythingExceptFlag&&c.supports[j[i]]);c.supports.everythingExceptFlag=c.supports.everythingExceptFlag&&!c.supports.flag,c.DOMReady=!1,c.readyCallback=function(){c.DOMReady=!0},c.supports.everything||(h=function(){c.readyCallback()},b.addEventListener?(b.addEventListener(\"DOMContentLoaded\",h,!1),a.addEventListener(\"load\",h,!1)):(a.attachEvent(\"onload\",h),b.attachEvent(\"onreadystatechange\",function(){\"complete\"===b.readyState&&c.readyCallback()})),g=c.source||{},g.concatemoji?f(g.concatemoji):g.wpemoji&&g.twemoji&&(f(g.twemoji),f(g.wpemoji)))}(window,document,window._wpemojiSettings);\\n\\t\\t</script><style>img.wp-smiley,img.emoji{display:inline!important;border:none!important;box-shadow:none!important;height:1em!important;width:1em!important;margin:0 .07em!important;vertical-align:-.1em!important;background:0 0!important;padding:0!important}</style><link rel=stylesheet id=custom-style-css href=\"https://www.geeksforgeeks.org/wp-content/themes/iconic-one/css/gfg.min.css?ver=8.77\" media=all><script src=\"https://code.jquery.com/jquery-3.1.1.min.js?ver=3.1.1\"></script><script src=\"https://code.jquery.com/jquery-migrate-3.0.0.min.js?ver=3.0.0\"></script><script>\\n/* <![CDATA[ */\\nvar gfgObject = {\"authUrl\":\"https:\\\\/\\\\/auth.geeksforgeeks.org\\\\/\",\"writeApiUrl\":\"https:\\\\/\\\\/apiwrite.geeksforgeeks.org\\\\/\",\"writeUrl\":\"https:\\\\/\\\\/write.geeksforgeeks.org\\\\/\",\"utilUrl\":\"https:\\\\/\\\\/util.geeksforgeeks.org\\\\/\",\"apiUrl\":\"https:\\\\/\\\\/api.geeksforgeeks.org\\\\/\"};\\n/* ]]> */\\n</script><script async src=\"https://www.geeksforgeeks.org/wp-content/themes/iconic-one/js/gfg.min.js?ver=10.96\"></script><link rel=https://api.w.org/ href=https://www.geeksforgeeks.org/wp-json/><link rel=edituri type=application/rsd+xml title=RSD href=https://www.cdn.geeksforgeeks.org/xmlrpc.php?rsd><link rel=wlwmanifest type=application/wlwmanifest+xml href=https://www.cdn.geeksforgeeks.org/wp-includes/wlwmanifest.xml><meta name=generator content=\"WordPress 4.9.8\"><link rel=shortlink href=\"https://www.geeksforgeeks.org/?p=125686\"><link rel=alternate type=application/json+oembed href=\"https://www.geeksforgeeks.org/wp-json/oembed/1.0/embed?url=https%3A%2F%2Fwww.geeksforgeeks.org%2Fdata-structures%2F\"><link rel=alternate type=text/xml+oembed href=\"https://www.geeksforgeeks.org/wp-json/oembed/1.0/embed?url=https%3A%2F%2Fwww.geeksforgeeks.org%2Fdata-structures%2F&format=xml\"><style>#wpadminbar{background:red!important}</style><style id=custom-background-css>body.custom-background{background-color:#fff}</style><style id=syntaxhighlighteranchor></style><link rel=icon href=https://www.geeksforgeeks.org/wp-content/uploads/gfg_200X200-100x100.png sizes=32x32><link rel=icon href=https://www.geeksforgeeks.org/wp-content/uploads/gfg_200X200.png sizes=192x192><link rel=apple-touch-icon-precomposed href=https://www.geeksforgeeks.org/wp-content/uploads/gfg_200X200.png><meta name=msapplication-TileImage content=\"https://www.geeksforgeeks.org/wp-content/uploads/gfg_200X200.png\"><script async src=https://www.googletagservices.com/tag/js/gpt.js></script><script async src=\"https://www.geeksforgeeks.org/wp-content/themes/iconic-one/js/prebid.js?ver=0.1\"></script><script async src=\"https://www.geeksforgeeks.org/wp-content/themes/iconic-one/js/gfg_ads.min.js?ver=0.3\"></script><style>@media(max-width:1043px) and (min-width:992px){.hide-1043992{display:none!important}}</style><script async src=\"https://www.googletagmanager.com/gtag/js?id=G-DWCCJLKX3X\"></script><script>\\r\\n  window.dataLayer = window.dataLayer || [];\\r\\n  function gtag(){dataLayer.push(arguments);}\\r\\n  gtag(\\'js\\', new Date());\\r\\n  gtag(\\'config\\', \\'AW-474915276\\');\\r\\n  gtag(\\'config\\', \\'G-DWCCJLKX3X\\');\\r\\n</script><body class=\"page-template-default page page-id-125686 page-parent custom-background custom-background-white\"><script>\\r\\n        // Dark mode script\\r\\n        const gfgThemeList = Object.freeze({\\r\\n            LIGHT: \"gfgThemeLight\",\\r\\n            DARK: \"gfgThemeDark\"\\r\\n        })\\r\\n        const getThemeFromCookie = () => {\\r\\n            let gfg_def_theme = \"\";\\r\\n            let cookies = document.cookie;\\r\\n            let cooks = cookies.split(\";\");\\r\\n        \\r\\n            for (let i = 0; i < cooks.length; i++) {\\r\\n                let icook = cooks[i].split(\"=\");\\r\\n                if (icook[0].trim() == \"gfg_theme\") {\\r\\n                    gfg_def_theme = icook[1].trim();\\r\\n                }\\r\\n            }\\r\\n            return gfg_def_theme\\r\\n        }\\r\\n        const toggleNineDotMenuImages = theme => {\\r\\n            jQuery(\".nineDot-menu_left .nineDot-menu_item\").each((e, element) => {\\r\\n                let item = jQuery(element).find(\"img\")\\r\\n                let imageSrc = item.attr(\"src\")\\r\\n                let [mainImg, extractImage] = /(.*)\\\\.svg/g.exec(imageSrc)\\r\\n                if (!mainImg.includes(\"%40dark\") && theme === gfgThemeList.DARK) {\\r\\n                    mainImg = `${extractImage}%40dark.svg`;\\r\\n                }\\r\\n                else if(mainImg.includes(\"%40dark\") && theme === gfgThemeList.LIGHT) {\\r\\n                    mainImg = `${extractImage.substr(0, extractImage.length - 7)}.svg`;\\r\\n                }\\r\\n                item.attr(\"src\", mainImg)\\r\\n            })\\r\\n        }\\r\\n\\r\\n        var isDarkMode = getThemeFromCookie() == gfgThemeList.DARK ? true : false;\\r\\n        document.querySelector(\"body\").setAttribute(\"data-dark-mode\", isDarkMode);\\r\\n    </script><div class=header-main__wrapper><a class=gfg-stc style=top:0 href=#main>Skip to content</a>\\n<a href=https://www.geeksforgeeks.org/ aria-label=Logo class=header-main__logo><div class=_logo><svg xmlns=\"http://www.w3.org/2000/svg\" width=\"76.533\" height=\"39.026\" viewBox=\"0 0 76.533 39.026\"><path d=\"M2380.7 6597.866a12.252 12.252.0 00-.261-1.513l-30.726-.027a12.545 12.545.0 01.908-3.443 12.337 12.337.0 012.739-4.044 12.151 12.151.0 014.018-2.581 12.634 12.634.0 0114.3 3.051l4.852-4.748a18.176 18.176.0 00-6.131-4.331 20.037 20.037.0 00-8.112-1.564 20.25 20.25.0 00-7.671 1.459 19.158 19.158.0 00-6.261 4.07 19.584 19.584.0 00-4.226 6.184 18.7 18.7.0 00-1.487 5.947h-.2a18.674 18.674.0 00-1.489-5.947 19.544 19.544.0 00-4.226-6.184 19.133 19.133.0 00-6.261-4.07 21.354 21.354.0 00-15.783.1 18.2 18.2.0 00-6.131 4.331l4.853 4.748a13.264 13.264.0 0114.3-3.051 12.131 12.131.0 014.017 2.581 12.323 12.323.0 012.74 4.044 12.527 12.527.0 01.908 3.443l-30.726.027a12.256 12.256.0 00-.261 1.513 15 15 0 00-.1 1.773 20.713 20.713.0 001.1 6.783 15.709 15.709.0 003.443 5.686 17.309 17.309.0 006 4.123 20.587 20.587.0 007.983 1.46 20.226 20.226.0 007.669-1.46 19.086 19.086.0 006.261-4.07 19.506 19.506.0 004.226-6.184 18.163 18.163.0 001.153-3.629h.871a18.27 18.27.0 001.151 3.629 19.545 19.545.0 004.226 6.184 19.111 19.111.0 006.261 4.07 20.241 20.241.0 007.671 1.46 20.572 20.572.0 007.981-1.46 17.282 17.282.0 006-4.123 15.717 15.717.0 003.445-5.686 20.726 20.726.0 001.1-6.783A15.259 15.259.0 002380.7 6597.866zm-46.245 5.608a12.1 12.1.0 01-2.766 4.043 12.467 12.467.0 01-4.043 2.583 14.378 14.378.0 01-9.939.052 11.776 11.776.0 01-3.522-2.218 8.459 8.459.0 01-1.8-2.374 13.476 13.476.0 01-1.173-3.208h23.658A11.487 11.487.0 012334.457 6603.475zm38.236 2.086a8.466 8.466.0 01-1.8 2.374 11.771 11.771.0 01-3.522 2.218 14.378 14.378.0 01-9.939-.052 12.491 12.491.0 01-4.044-2.583 12.088 12.088.0 01-2.765-4.043 11.427 11.427.0 01-.415-1.126h11.92v0h11.739A13.509 13.509.0 012372.692 6605.561z\" transform=\"translate(-2304.273 -6578.666)\" fill=\"#2f8d46\"/></svg><svg xmlns=\"http://www.w3.org/2000/svg\" width=\"155\" height=\"21.281\" viewBox=\"0 0 205.805 21.281\"><g id=\"Group_156\" data-name=\"Group 156\" transform=\"translate(26.144 4.527)\"><line id=\"Line_1\" data-name=\"Line 1\" x1=\"1.046\" fill=\"#0f2b3c\"/></g><g id=\"Group_157\" data-name=\"Group 157\" transform=\"translate(56.695 0.004)\"><path id=\"Path_243\" data-name=\"Path 243\" d=\"M1352.9 615.759l-6.714-6.771v6.771h-3.09V594.521h3.09v12.53l6.084-6.056h3.909l-6.988 6.988 7.67 7.782z\" transform=\"translate(-1343.095 -594.521)\" fill=\"#0f2b3c\"/></g><g id=\"Group_158\" data-name=\"Group 158\" transform=\"translate(113.247 6.427)\"><path id=\"Path_244\" data-name=\"Path 244\" d=\"M1504.614 627.712V612.948h3.09v2.558a3.7 3.7.0 011.447-1.91 3.9 3.9.0 012.262-.73 5.447 5.447.0 011.208.112l-.7 3a2.449 2.449.0 00-.842-.082 3.044 3.044.0 00-2.388 1.138 4.676 4.676.0 00-.983 3.16v7.515z\" transform=\"translate(-1504.614 -612.865)\" fill=\"#0f2b3c\"/></g><g id=\"Group_159\" data-name=\"Group 159\" transform=\"translate(70.943 6.509)\"><path id=\"Path_245\" data-name=\"Path 245\" d=\"M1385.943 626.817a5.668 5.668.0 01-2.152-2.683l2.669-1.171a3.743 3.743.0 001.376 1.662 3.657 3.657.0 002.029.572 4.049 4.049.0 001.879-.395 1.266 1.266.0 00.763-1.185 1.367 1.367.0 00-.654-1.2 6.492 6.492.0 00-2.016-.763l-1.662-.409a5.974 5.974.0 01-2.752-1.444 3.452 3.452.0 01-1.089-2.615 3.4 3.4.0 01.722-2.152 4.647 4.647.0 011.948-1.43 6.957 6.957.0 012.67-.5 7.191 7.191.0 013.405.776 4.6 4.6.0 012.125 2.247l-2.615 1.144a2.925 2.925.0 00-2.888-1.608 3.231 3.231.0 00-1.689.409 1.213 1.213.0 00-.681 1.063 1.226 1.226.0 00.518 1.021 4.442 4.442.0 001.526.667l2.043.518a6.573 6.573.0 013.092 1.566 3.5 3.5.0 011.049 2.575 3.72 3.72.0 01-.749 2.3 4.829 4.829.0 01-2.057 1.539 7.44 7.44.0 01-2.887.545A6.781 6.781.0 011385.943 626.817z\" transform=\"translate(-1383.791 -613.101)\" fill=\"#0f2b3c\"/></g><g id=\"Group_160\" data-name=\"Group 160\" transform=\"translate(96.285 6.525)\"><path id=\"Path_246\" data-name=\"Path 246\" d=\"M1463.543 613.146a7.374 7.374.0 107.374 7.374A7.374 7.374.0 001463.543 613.146zm0 11.532a4.228 4.228.0 114.228-4.228A4.228 4.228.0 011463.543 624.678z\" transform=\"translate(-1456.169 -613.146)\" fill=\"#0f2b3c\"/></g><g id=\"Group_161\" data-name=\"Group 161\" transform=\"translate(23.011 6.524)\"><path id=\"Path_247\" data-name=\"Path 247\" d=\"M1261.615 621.145c.017-.232.027-.466.024-.7a7.292 7.292.0 00-.212-1.685 7.375 7.375.0 00-14.537 1.84c0 .236.017.47.04.7a7.263 7.263.0 00.673 2.382 7.374 7.374.0 0013.389-.141l-3.267.034a4.617 4.617.0 01-8.014-2.3zm-11.664-2.266a4.614 4.614.0 018.592-.09z\" transform=\"translate(-1246.891 -613.144)\" fill=\"#0f2b3c\"/></g><g id=\"Group_162\" data-name=\"Group 162\" transform=\"translate(39.461 6.524)\"><path id=\"Path_248\" data-name=\"Path 248\" d=\"M1308.6 621.145c.017-.232.027-.466.025-.7a7.375 7.375.0 10-14.749.155c0 .236.017.47.04.7a7.257 7.257.0 00.672 2.382 7.375 7.375.0 0013.39-.141l-3.268.034a4.616 4.616.0 01-8.014-2.3zm-11.663-2.266a4.614 4.614.0 018.592-.09z\" transform=\"translate(-1293.873 -613.144)\" fill=\"#0f2b3c\"/></g><g id=\"Group_163\" data-name=\"Group 163\" transform=\"translate(85.044 0.245)\"><path id=\"Path_249\" data-name=\"Path 249\" d=\"M1430.636 598.566a2.5 2.5.0 011.8-.549 4.2 4.2.0 011.657.281v-2.752a7.24 7.24.0 00-2.3-.337 4.82 4.82.0 00-3.455 1.278 4.666 4.666.0 00-1.349 3.554v1.417h-2.922v2.752h2.922v12.036h3.091V604.209h4.016v-2.752h-4.016V600.4A2.5 2.5.0 011430.636 598.566z\" transform=\"translate(-1424.063 -595.209)\" fill=\"#0f2b3c\"/></g><g id=\"Group_164\" data-name=\"Group 164\" transform=\"translate(0)\"><path id=\"Path_250\" data-name=\"Path 250\" d=\"M1202.443 605.147a10.637 10.637.0 11-2.72-7.1l-1.983 1.982a7.837 7.837.0 101.656 7.09h-6.883v-2.851h9.895Q1202.443 604.7 1202.443 605.147z\" transform=\"translate(-1181.169 -594.51)\" fill=\"#0f2b3c\"/></g><g id=\"Group_165\" data-name=\"Group 165\" transform=\"translate(179.788 0.004)\"><path id=\"Path_251\" data-name=\"Path 251\" d=\"M1704.467 615.759l-6.714-6.771v6.771h-3.09V594.521h3.09v12.53l6.084-6.056h3.909l-6.988 6.988 7.669 7.782z\" transform=\"translate(-1694.663 -594.521)\" fill=\"#0f2b3c\"/></g><g id=\"Group_166\" data-name=\"Group 166\" transform=\"translate(194.036 6.509)\"><path id=\"Path_252\" data-name=\"Path 252\" d=\"M1737.51 626.817a5.667 5.667.0 01-2.152-2.683l2.67-1.171a3.742 3.742.0 001.375 1.662 3.658 3.658.0 002.03.572 4.051 4.051.0 001.88-.395 1.267 1.267.0 00.763-1.185 1.367 1.367.0 00-.654-1.2 6.492 6.492.0 00-2.016-.763l-1.662-.409a5.974 5.974.0 01-2.751-1.444 3.451 3.451.0 01-1.09-2.615 3.4 3.4.0 01.722-2.152 4.651 4.651.0 011.948-1.43 6.96 6.96.0 012.67-.5 7.191 7.191.0 013.405.776 4.6 4.6.0 012.125 2.247l-2.615 1.144a2.926 2.926.0 00-2.888-1.608 3.232 3.232.0 00-1.689.409 1.214 1.214.0 00-.681 1.063 1.227 1.227.0 00.518 1.021 4.443 4.443.0 001.526.667l2.043.518a6.576 6.576.0 013.092 1.566 3.5 3.5.0 011.049 2.575 3.719 3.719.0 01-.749 2.3 4.833 4.833.0 01-2.057 1.539 7.44 7.44.0 01-2.888.545A6.781 6.781.0 011737.51 626.817z\" transform=\"translate(-1735.358 -613.101)\" fill=\"#0f2b3c\"/></g><g id=\"Group_167\" data-name=\"Group 167\" transform=\"translate(146.104 6.524)\"><path id=\"Path_253\" data-name=\"Path 253\" d=\"M1613.182 621.145c.017-.232.027-.466.025-.7a7.375 7.375.0 10-14.749.155c0 .236.017.47.04.7a7.254 7.254.0 00.673 2.382 7.375 7.375.0 0013.389-.141l-3.268.034a4.616 4.616.0 01-8.014-2.3zm-11.663-2.266a4.615 4.615.0 018.592-.09z\" transform=\"translate(-1598.458 -613.144)\" fill=\"#0f2b3c\"/></g><g id=\"Group_168\" data-name=\"Group 168\" transform=\"translate(162.554 6.524)\"><path id=\"Path_254\" data-name=\"Path 254\" d=\"M1660.165 621.145c.017-.232.027-.466.024-.7a7.375 7.375.0 10-14.749.155c0 .236.017.47.04.7a7.266 7.266.0 00.673 2.382 7.375 7.375.0 0013.389-.141l-3.268.034a4.616 4.616.0 01-8.014-2.3zm-11.663-2.266a4.614 4.614.0 018.592-.09z\" transform=\"translate(-1645.44 -613.144)\" fill=\"#0f2b3c\"/></g><g id=\"Group_169\" data-name=\"Group 169\" transform=\"translate(123.093)\"><path id=\"Path_255\" data-name=\"Path 255\" d=\"M1554.01 605.147a10.636 10.636.0 11-2.72-7.1l-1.983 1.982a7.837 7.837.0 101.656 7.09h-6.884v-2.851h9.895Q1554.01 604.7 1554.01 605.147z\" transform=\"translate(-1532.736 -594.51)\" fill=\"#0f2b3c\"/></g></svg></div></a><div class=header-main__container><span class=hamburger-menu><span class=gfg-burger-1></span><span class=gfg-burger-2></span><span class=gfg-burger-3></span></span><ul class=header-main__list><li class=header-main__list-item data-parent=false aria-expanded=true data-expandable=true><span>Tutorials</span><i class=\"gfg-icon gfg-icon_arrow-down gfg-icon_header\"></i><ul class=mega-dropdown><li class=mega-dropdown__list-item data-parent=true aria-expanded=true data-expandable=true><span>Practice DS & Algo.</span><i class=\"gfg-icon gfg-icon_arrow-right\"></i><ul class=mega-dropdown><li class=mega-dropdown__list-item data-child=true aria-expanded=false data-expandable=false><a href=\"https://www.geeksforgeeks.org/must-do-coding-questions-for-product-based-companies/?ref=ghm\" target=_self>Must Do Questions</a><li class=mega-dropdown__list-item data-child=true aria-expanded=false data-expandable=false><a href=https://practice.geeksforgeeks.org/topic-tags/ target=_self>DSA Topic-wise</a><li class=mega-dropdown__list-item data-child=true aria-expanded=false data-expandable=false><a href=https://practice.geeksforgeeks.org/company-tags target=_self>DSA Company-wise</a></ul><li class=mega-dropdown__list-item data-parent=true aria-expanded=true data-expandable=true><span>Algorithms</span><i class=\"gfg-icon gfg-icon_arrow-right\"></i><ul class=mega-dropdown><li class=mega-dropdown__list-item data-parent=true aria-expanded=true data-expandable=true><span>Analysis of Algorithms</span><i class=\"gfg-icon gfg-icon_arrow-right\"></i><ul class=mega-dropdown><li class=mega-dropdown__list-item data-child=true aria-expanded=false data-expandable=false><a href=\"https://www.geeksforgeeks.org/analysis-of-algorithms-set-1-asymptotic-analysis/?ref=ghm\" target=_self>Asymptotic Analysis</a><li class=mega-dropdown__list-item data-child=true aria-expanded=false data-expandable=false><a href=\"https://www.geeksforgeeks.org/analysis-of-algorithms-set-2-asymptotic-analysis/?ref=ghm\" target=_self>Worst, Average and Best Cases</a><li class=mega-dropdown__list-item data-child=true aria-expanded=false data-expandable=false><a href=\"https://www.geeksforgeeks.org/analysis-of-algorithms-set-3asymptotic-notations/?ref=ghm\" target=_self>Asymptotic Notations</a><li class=mega-dropdown__list-item data-child=true aria-expanded=false data-expandable=false><a href=\"https://www.geeksforgeeks.org/analysis-of-algorithems-little-o-and-little-omega-notations/?ref=ghm\" target=_self>Little o and little omega notations</a><li class=mega-dropdown__list-item data-child=true aria-expanded=false data-expandable=false><a href=\"https://www.geeksforgeeks.org/lower-and-upper-bound-theory/?ref=ghm\" target=_self>Lower and Upper Bound Theory</a><li class=mega-dropdown__list-item data-child=true aria-expanded=false data-expandable=false><a href=\"https://www.geeksforgeeks.org/analysis-of-algorithms-set-4-analysis-of-loops/?ref=ghm\" target=_self>Analysis of Loops</a><li class=mega-dropdown__list-item data-child=true aria-expanded=false data-expandable=false><a href=\"https://www.geeksforgeeks.org/analysis-algorithm-set-4-master-method-solving-recurrences/?ref=ghm\" target=_self>Solving Recurrences</a><li class=mega-dropdown__list-item data-child=true aria-expanded=false data-expandable=false><a href=\"https://www.geeksforgeeks.org/analysis-algorithm-set-5-amortized-analysis-introduction/?ref=ghm\" target=_self>Amortized Analysis</a><li class=mega-dropdown__list-item data-child=true aria-expanded=false data-expandable=false><a href=\"https://www.geeksforgeeks.org/g-fact-86/?ref=ghm\" target=_self>What does \\'Space Complexity\\' mean ?</a><li class=mega-dropdown__list-item data-child=true aria-expanded=false data-expandable=false><a href=\"https://www.geeksforgeeks.org/pseudo-polynomial-in-algorithms/?ref=ghm\" target=_self>Pseudo-polynomial Algorithms</a><li class=mega-dropdown__list-item data-child=true aria-expanded=false data-expandable=false><a href=\"https://www.geeksforgeeks.org/polynomial-time-approximation-scheme/?ref=ghm\" target=_self>Polynomial Time Approximation Scheme</a><li class=mega-dropdown__list-item data-child=true aria-expanded=false data-expandable=false><a href=\"https://www.geeksforgeeks.org/a-time-complexity-question/?ref=ghm\" target=_self>A Time Complexity Question</a></ul><li class=mega-dropdown__list-item data-child=true aria-expanded=false data-expandable=false><a href=\"https://www.geeksforgeeks.org/searching-algorithms/?ref=ghm\" target=_self>Searching Algorithms</a><li class=mega-dropdown__list-item data-child=true aria-expanded=false data-expandable=false><a href=\"https://www.geeksforgeeks.org/sorting-algorithms/?ref=ghm\" target=_self>Sorting Algorithms</a><li class=mega-dropdown__list-item data-child=true aria-expanded=false data-expandable=false><a href=\"https://www.geeksforgeeks.org/graph-data-structure-and-algorithms/?ref=ghm\" target=_self>Graph Algorithms</a><li class=mega-dropdown__list-item data-child=true aria-expanded=false data-expandable=false><a href=\"https://www.geeksforgeeks.org/algorithms-gq/pattern-searching/?ref=ghm\" target=_self>Pattern Searching</a><li class=mega-dropdown__list-item data-child=true aria-expanded=false data-expandable=false><a href=\"https://www.geeksforgeeks.org/geometric-algorithms/?ref=ghm\" target=_self>Geometric Algorithms</a><li class=mega-dropdown__list-item data-child=true aria-expanded=false data-expandable=false><a href=\"https://www.geeksforgeeks.org/mathematical-algorithms/?ref=ghm\" target=_self>Mathematical</a><li class=mega-dropdown__list-item data-child=true aria-expanded=false data-expandable=false><a href=\"https://www.geeksforgeeks.org/bitwise-algorithms/?ref=ghm\" target=_self>Bitwise Algorithms</a><li class=mega-dropdown__list-item data-child=true aria-expanded=false data-expandable=false><a href=\"https://www.geeksforgeeks.org/randomized-algorithms/?ref=ghm\" target=_self>Randomized Algorithms</a><li class=mega-dropdown__list-item data-child=true aria-expanded=false data-expandable=false><a href=\"https://www.geeksforgeeks.org/greedy-algorithms/?ref=ghm\" target=_self>Greedy Algorithms</a><li class=mega-dropdown__list-item data-child=true aria-expanded=false data-expandable=false><a href=\"https://www.geeksforgeeks.org/dynamic-programming/?ref=ghm\" target=_self>Dynamic Programming</a><li class=mega-dropdown__list-item data-child=true aria-expanded=false data-expandable=false><a href=\"https://www.geeksforgeeks.org/divide-and-conquer/?ref=ghm\" target=_self>Divide and Conquer</a><li class=mega-dropdown__list-item data-child=true aria-expanded=false data-expandable=false><a href=\"https://www.geeksforgeeks.org/backtracking-algorithms/?ref=ghm\" target=_self>Backtracking</a><li class=mega-dropdown__list-item data-child=true aria-expanded=false data-expandable=false><a href=\"https://www.geeksforgeeks.org/branch-and-bound-algorithm/?ref=ghm\" target=_self>Branch and Bound</a><li class=mega-dropdown__list-item data-child=true aria-expanded=false data-expandable=false><a href=\"https://www.geeksforgeeks.org/fundamentals-of-algorithms/?ref=ghm\" target=_self>All Algorithms</a></ul><li class=mega-dropdown__list-item data-parent=true aria-expanded=true data-expandable=true><span>Data Structures</span><i class=\"gfg-icon gfg-icon_arrow-right\"></i><ul class=mega-dropdown><li class=mega-dropdown__list-item data-child=true aria-expanded=false data-expandable=false><a href=\"https://www.geeksforgeeks.org/array-data-structure/?ref=ghm\" target=_self>Arrays</a><li class=mega-dropdown__list-item data-child=true aria-expanded=false data-expandable=false><a href=\"https://www.geeksforgeeks.org/data-structures/linked-list/?ref=ghm\" target=_self>Linked List</a><li class=mega-dropdown__list-item data-child=true aria-expanded=false data-expandable=false><a href=\"https://www.geeksforgeeks.org/stack-data-structure/?ref=ghm\" target=_self>Stack</a><li class=mega-dropdown__list-item data-child=true aria-expanded=false data-expandable=false><a href=\"https://www.geeksforgeeks.org/queue-data-structure/?ref=ghm\" target=_self>Queue</a><li class=mega-dropdown__list-item data-child=true aria-expanded=false data-expandable=false><a href=\"https://www.geeksforgeeks.org/binary-tree-data-structure/?ref=ghm\" target=_self>Binary Tree</a><li class=mega-dropdown__list-item data-child=true aria-expanded=false data-expandable=false><a href=\"https://www.geeksforgeeks.org/binary-search-tree-data-structure/?ref=ghm\" target=_self>Binary Search Tree</a><li class=mega-dropdown__list-item data-child=true aria-expanded=false data-expandable=false><a href=\"https://www.geeksforgeeks.org/heap-data-structure/?ref=ghm\" target=_self>Heap</a><li class=mega-dropdown__list-item data-child=true aria-expanded=false data-expandable=false><a href=\"https://www.geeksforgeeks.org/hashing-data-structure/?ref=ghm\" target=_self>Hashing</a><li class=mega-dropdown__list-item data-child=true aria-expanded=false data-expandable=false><a href=\"https://www.geeksforgeeks.org/graph-data-structure-and-algorithms/?ref=ghm\" target=_self>Graph</a><li class=mega-dropdown__list-item data-child=true aria-expanded=false data-expandable=false><a href=\"https://www.geeksforgeeks.org/advanced-data-structures/?ref=ghm\" target=_self>Advanced Data Structure</a><li class=mega-dropdown__list-item data-child=true aria-expanded=false data-expandable=false><a href=\"https://www.geeksforgeeks.org/matrix/?ref=ghm\" target=_self>Matrix</a><li class=mega-dropdown__list-item data-child=true aria-expanded=false data-expandable=false><a href=\"https://www.geeksforgeeks.org/string-data-structure/?ref=ghm\" target=_self>Strings</a><li class=mega-dropdown__list-item data-child=true aria-expanded=false data-expandable=false><a href=\"https://www.geeksforgeeks.org/data-structures/?ref=ghm\" target=_self>All Data Structures</a></ul><li class=mega-dropdown__list-item data-parent=true aria-expanded=true data-expandable=true><span>Interview Corner</span><i class=\"gfg-icon gfg-icon_arrow-right\"></i><ul class=mega-dropdown><li class=mega-dropdown__list-item data-child=true aria-expanded=false data-expandable=false><a href=\"https://www.geeksforgeeks.org/company-preparation/?ref=ghm\" target=_self>Company Preparation</a><li class=mega-dropdown__list-item data-child=true aria-expanded=false data-expandable=false><a href=\"https://www.geeksforgeeks.org/interview-preparation-for-software-developer/?ref=ghm\" target=_self>Top Topics</a><li class=mega-dropdown__list-item data-child=true aria-expanded=false data-expandable=false><a href=\"https://practice.geeksforgeeks.org/company-tags/?ref=ghm\" target=_self>Practice Company Questions</a><li class=mega-dropdown__list-item data-child=true aria-expanded=false data-expandable=false><a href=\"https://www.geeksforgeeks.org/company-interview-corner/?ref=ghm\" target=_self>Interview Experiences</a><li class=mega-dropdown__list-item data-child=true aria-expanded=false data-expandable=false><a href=\"https://www.geeksforgeeks.org/experienced-interview-experiences-company-wise/?ref=ghm\" target=_self>Experienced Interviews</a><li class=mega-dropdown__list-item data-child=true aria-expanded=false data-expandable=false><a href=\"https://www.geeksforgeeks.org/internship-interview-experiences-company-wise/?ref=ghm\" target=_self>Internship Interviews</a><li class=mega-dropdown__list-item data-child=true aria-expanded=false data-expandable=false><a href=\"https://www.geeksforgeeks.org/competitive-programming-a-complete-guide/?ref=ghm\" target=_self>Competititve Programming</a><li class=mega-dropdown__list-item data-child=true aria-expanded=false data-expandable=false><a href=\"https://www.geeksforgeeks.org/software-design-patterns/?ref=ghm\" target=_self>Design Patterns</a><li class=mega-dropdown__list-item data-child=true aria-expanded=false data-expandable=false><a href=https://www.geeksforgeeks.org/system-design-tutorial/ target=_self>System Design Tutorial</a><li class=mega-dropdown__list-item data-child=true aria-expanded=false data-expandable=false><a href=\"https://www.geeksforgeeks.org/quiz-corner-gq/?ref=ghm\" target=_self>Multiple Choice Quizzes</a></ul><li class=mega-dropdown__list-item data-parent=true aria-expanded=true data-expandable=true><span>Languages</span><i class=\"gfg-icon gfg-icon_arrow-right\"></i><ul class=mega-dropdown><li class=mega-dropdown__list-item data-child=true aria-expanded=false data-expandable=false><a href=\"https://www.geeksforgeeks.org/c-programming-language/?ref=ghm\" target=_self>C</a><li class=mega-dropdown__list-item data-child=true aria-expanded=false data-expandable=false><a href=\"https://www.geeksforgeeks.org/c-plus-plus/?ref=ghm\" target=_self>C++</a><li class=mega-dropdown__list-item data-child=true aria-expanded=false data-expandable=false><a href=\"https://www.geeksforgeeks.org/java/?ref=ghm\" target=_self>Java</a><li class=mega-dropdown__list-item data-child=true aria-expanded=false data-expandable=false><a href=\"https://www.geeksforgeeks.org/python-programming-language/?ref=ghm\" target=_self>Python</a><li class=mega-dropdown__list-item data-child=true aria-expanded=false data-expandable=false><a href=\"https://www.geeksforgeeks.org/csharp-programming-language/?ref=ghm\" target=_self>C#</a><li class=mega-dropdown__list-item data-child=true aria-expanded=false data-expandable=false><a href=\"https://www.geeksforgeeks.org/javascript-tutorial/?ref=ghm\" target=_self>JavaScript</a><li class=mega-dropdown__list-item data-child=true aria-expanded=false data-expandable=false><a href=\"https://www.geeksforgeeks.org/jquery-tutorials/?ref=ghm\" target=_self>jQuery</a><li class=mega-dropdown__list-item data-child=true aria-expanded=false data-expandable=false><a href=\"https://www.geeksforgeeks.org/sql-tutorial/?ref=ghm\" target=_self>SQL</a><li class=mega-dropdown__list-item data-child=true aria-expanded=false data-expandable=false><a href=\"https://www.geeksforgeeks.org/php-tutorials/?ref=ghm\" target=_self>PHP</a><li class=mega-dropdown__list-item data-child=true aria-expanded=false data-expandable=false><a href=\"https://www.geeksforgeeks.org/scala-programming-language/?ref=ghm\" target=_self>Scala</a><li class=mega-dropdown__list-item data-child=true aria-expanded=false data-expandable=false><a href=\"https://www.geeksforgeeks.org/perl-programming-language/?ref=ghm\" target=_self>Perl</a><li class=mega-dropdown__list-item data-child=true aria-expanded=false data-expandable=false><a href=\"https://www.geeksforgeeks.org/golang/?ref=ghm\" target=_self>Go Language</a><li class=mega-dropdown__list-item data-child=true aria-expanded=false data-expandable=false><a href=\"https://www.geeksforgeeks.org/html-tutorials/?ref=ghm\" target=_self>HTML</a><li class=mega-dropdown__list-item data-child=true aria-expanded=false data-expandable=false><a href=\"https://www.geeksforgeeks.org/css-tutorials/?ref=ghm\" target=_self>CSS</a><li class=mega-dropdown__list-item data-child=true aria-expanded=false data-expandable=false><a href=\"https://www.geeksforgeeks.org/kotlin-programming-language/?ref=ghm\" target=_self>Kotlin</a></ul><li class=mega-dropdown__list-item data-parent=true aria-expanded=true data-expandable=true><span>CS Subjects</span><i class=\"gfg-icon gfg-icon_arrow-right\"></i><ul class=mega-dropdown><li class=mega-dropdown__list-item data-child=true aria-expanded=false data-expandable=false><a href=\"https://www.geeksforgeeks.org/engineering-mathematics-tutorials/?ref=ghm\" target=_self>Mathematics</a><li class=mega-dropdown__list-item data-child=true aria-expanded=false data-expandable=false><a href=\"https://www.geeksforgeeks.org/operating-systems/?ref=ghm\" target=_self>Operating System</a><li class=mega-dropdown__list-item data-child=true aria-expanded=false data-expandable=false><a href=\"https://www.geeksforgeeks.org/dbms/?ref=ghm\" target=_self>DBMS</a><li class=mega-dropdown__list-item data-child=true aria-expanded=false data-expandable=false><a href=\"https://www.geeksforgeeks.org/computer-network-tutorials/?ref=ghm\" target=_self>Computer Networks</a><li class=mega-dropdown__list-item data-child=true aria-expanded=false data-expandable=false><a href=\"https://www.geeksforgeeks.org/computer-organization-and-architecture-tutorials/?ref=ghm\" target=_self>Computer Organization and Architecture</a><li class=mega-dropdown__list-item data-child=true aria-expanded=false data-expandable=false><a href=\"https://www.geeksforgeeks.org/theory-of-computation-automata-tutorials/?ref=ghm\" target=_self>Theory of Computation</a><li class=mega-dropdown__list-item data-child=true aria-expanded=false data-expandable=false><a href=\"https://www.geeksforgeeks.org/compiler-design-tutorials/?ref=ghm\" target=_self>Compiler Design</a><li class=mega-dropdown__list-item data-child=true aria-expanded=false data-expandable=false><a href=\"https://www.geeksforgeeks.org/digital-electronics-logic-design-tutorials/#blg/?ref=ghm\" target=_self>Digital Logic</a><li class=mega-dropdown__list-item data-child=true aria-expanded=false data-expandable=false><a href=\"https://www.geeksforgeeks.org/software-engineering/?ref=ghm\" target=_self>Software Engineering</a></ul><li class=mega-dropdown__list-item data-parent=true aria-expanded=true data-expandable=true><span>GATE</span><i class=\"gfg-icon gfg-icon_arrow-right\"></i><ul class=mega-dropdown><li class=mega-dropdown__list-item data-child=true aria-expanded=false data-expandable=false><a href=\"https://www.geeksforgeeks.org/gate-cs-notes-gq/?ref=ghm\" target=_self>GATE Computer Science Notes</a><li class=mega-dropdown__list-item data-child=true aria-expanded=false data-expandable=false><a href=\"https://www.geeksforgeeks.org/lmns-gq/?ref=ghm\" target=_self>Last Minute Notes</a><li class=mega-dropdown__list-item data-child=true aria-expanded=false data-expandable=false><a href=\"https://www.geeksforgeeks.org/gate-corner-2-gq/?ref=ghm\" target=_self>GATE CS Solved Papers</a><li class=mega-dropdown__list-item data-child=true aria-expanded=false data-expandable=false><a href=\"https://www.geeksforgeeks.org/original-gate-previous-year-question-papers-cse-and-it-gq/?ref=ghm\" target=_self>GATE CS Original Papers and Official Keys</a><li class=mega-dropdown__list-item data-child=true aria-expanded=false data-expandable=false><a href=\"https://www.geeksforgeeks.org/gate-cs-2021-official-important-dates/?ref=ghm\" target=_self>GATE 2021 Dates</a><li class=mega-dropdown__list-item data-child=true aria-expanded=false data-expandable=false><a href=\"https://www.geeksforgeeks.org/gate-cs-2021-revised-syllabus/?ref=ghm\" target=_self>GATE CS 2021 Syllabus</a><li class=mega-dropdown__list-item data-child=true aria-expanded=false data-expandable=false><a href=\"https://www.geeksforgeeks.org/important-topics-prepare-gate-2020-computer-science-paper/?ref=ghm\" target=_self>Important Topics for GATE CS</a></ul><li class=mega-dropdown__list-item data-parent=true aria-expanded=true data-expandable=true><span>Web Technologies</span><i class=\"gfg-icon gfg-icon_arrow-right\"></i><ul class=mega-dropdown><li class=mega-dropdown__list-item data-child=true aria-expanded=false data-expandable=false><a href=\"https://www.geeksforgeeks.org/html-tutorials/?ref=ghm\" target=_self>HTML</a><li class=mega-dropdown__list-item data-child=true aria-expanded=false data-expandable=false><a href=\"https://www.geeksforgeeks.org/css-tutorials/?ref=ghm\" target=_self>CSS</a><li class=mega-dropdown__list-item data-child=true aria-expanded=false data-expandable=false><a href=\"https://www.geeksforgeeks.org/javascript-tutorial/?ref=ghm\" target=_self>JavaScript</a><li class=mega-dropdown__list-item data-child=true aria-expanded=false data-expandable=false><a href=\"https://www.geeksforgeeks.org/angularjs-tutorials/?ref=ghm\" target=_self>AngularJS</a><li class=mega-dropdown__list-item data-child=true aria-expanded=false data-expandable=false><a href=\"https://www.geeksforgeeks.org/reactjs-tutorials/?ref=ghm\" target=_self>ReactJS</a><li class=mega-dropdown__list-item data-child=true aria-expanded=false data-expandable=false><a href=\"https://www.geeksforgeeks.org/nodejs-tutorials/?ref=ghm\" target=_self>NodeJS</a><li class=mega-dropdown__list-item data-child=true aria-expanded=false data-expandable=false><a href=\"https://www.geeksforgeeks.org/bootstrap-tutorials/?ref=ghm\" target=_self>Bootstrap</a><li class=mega-dropdown__list-item data-child=true aria-expanded=false data-expandable=false><a href=\"https://www.geeksforgeeks.org/jquery-tutorials/?ref=ghm\" target=_self>jQuery</a><li class=mega-dropdown__list-item data-child=true aria-expanded=false data-expandable=false><a href=\"https://www.geeksforgeeks.org/php-tutorials/?ref=ghm\" target=_self>PHP</a></ul><li class=mega-dropdown__list-item data-parent=true aria-expanded=true data-expandable=true><span>Software Designs</span><i class=\"gfg-icon gfg-icon_arrow-right\"></i><ul class=mega-dropdown><li class=mega-dropdown__list-item data-child=true aria-expanded=false data-expandable=false><a href=\"https://www.geeksforgeeks.org/software-design-patterns/?ref=ghm\" target=_self>Software Design Patterns</a><li class=mega-dropdown__list-item data-child=true aria-expanded=false data-expandable=false><a href=\"https://www.geeksforgeeks.org/system-design-tutorial/?ref=ghm\" target=_self>System Design Tutorial</a></ul><li class=mega-dropdown__list-item data-parent=true aria-expanded=true data-expandable=true><span>School Learning</span><i class=\"gfg-icon gfg-icon_arrow-right\"></i><ul class=mega-dropdown><li class=mega-dropdown__list-item data-child=true aria-expanded=false data-expandable=false><a href=\"https://www.geeksforgeeks.org/school-learning/?ref=ghm\" target=_self>School Programming</a><li class=mega-dropdown__list-item data-parent=true aria-expanded=true data-expandable=true><span>Mathematics</span><i class=\"gfg-icon gfg-icon_arrow-right\"></i><ul class=mega-dropdown><li class=mega-dropdown__list-item data-child=true aria-expanded=false data-expandable=false><a href=\"https://www.geeksforgeeks.org/number-system-and-arithmetic/?ref=ghm\" target=_self>Number System</a><li class=mega-dropdown__list-item data-child=true aria-expanded=false data-expandable=false><a href=\"https://www.geeksforgeeks.org/algebra/?ref=ghm\" target=_self>Algebra</a><li class=mega-dropdown__list-item data-child=true aria-expanded=false data-expandable=false><a href=\"https://www.geeksforgeeks.org/trigonometry/?ref=ghm\" target=_self>Trigonometry</a><li class=mega-dropdown__list-item data-child=true aria-expanded=false data-expandable=false><a href=\"https://www.geeksforgeeks.org/statistics/?ref=ghm\" target=_self>Statistics</a><li class=mega-dropdown__list-item data-child=true aria-expanded=false data-expandable=false><a href=\"https://www.geeksforgeeks.org/probability-in-maths/?ref=ghm\" target=_self>Probability</a><li class=mega-dropdown__list-item data-child=true aria-expanded=false data-expandable=false><a href=\"https://www.geeksforgeeks.org/geometry/?ref=ghm\" target=_self>Geometry</a><li class=mega-dropdown__list-item data-child=true aria-expanded=false data-expandable=false><a href=\"https://www.geeksforgeeks.org/mensuration/?ref=ghm\" target=_self>Mensuration</a><li class=mega-dropdown__list-item data-child=true aria-expanded=false data-expandable=false><a href=\"https://www.geeksforgeeks.org/calculus/?ref=ghm\" target=_self>Calculus</a></ul><li class=mega-dropdown__list-item data-parent=true aria-expanded=true data-expandable=true><span>Maths Notes (Class 8-12)</span><i class=\"gfg-icon gfg-icon_arrow-right\"></i><ul class=mega-dropdown><li class=mega-dropdown__list-item data-child=true aria-expanded=false data-expandable=false><a href=\"https://www.geeksforgeeks.org/cbse-class-8-maths-notes/?ref=ghm\" target=_self>Class 8 Notes</a><li class=mega-dropdown__list-item data-child=true aria-expanded=false data-expandable=false><a href=\"https://www.geeksforgeeks.org/cbse-class-9-maths-notes/?ref=ghm\" target=_self>Class 9 Notes</a><li class=mega-dropdown__list-item data-child=true aria-expanded=false data-expandable=false><a href=\"https://www.geeksforgeeks.org/cbse-class-10-maths-notes/?ref=ghm\" target=_self>Class 10 Notes</a><li class=mega-dropdown__list-item data-child=true aria-expanded=false data-expandable=false><a href=\"https://www.geeksforgeeks.org/cbse-class-11-maths-notes/?ref=ghm\" target=_self>Class 11 Notes</a><li class=mega-dropdown__list-item data-child=true aria-expanded=false data-expandable=false><a href=\"https://www.geeksforgeeks.org/cbse-class-12-maths-notes/?ref=ghm\" target=_self>Class 12 Notes</a></ul><li class=mega-dropdown__list-item data-parent=true aria-expanded=true data-expandable=true><span>NCERT Solutions</span><i class=\"gfg-icon gfg-icon_arrow-right\"></i><ul class=mega-dropdown><li class=mega-dropdown__list-item data-child=true aria-expanded=false data-expandable=false><a href=\"https://www.geeksforgeeks.org/ncert-solutions-for-class-8-maths/?ref=ghm\" target=_self>Class 8 Maths Solution</a><li class=mega-dropdown__list-item data-child=true aria-expanded=false data-expandable=false><a href=\"https://www.geeksforgeeks.org/ncert-solutions-for-class-9-maths/?ref=ghm\" target=_self>Class 9 Maths Solution</a><li class=mega-dropdown__list-item data-child=true aria-expanded=false data-expandable=false><a href=\"https://www.geeksforgeeks.org/ncert-solutions-for-class-10-maths/?ref=ghm\" target=_self>Class 10 Maths Solution</a><li class=mega-dropdown__list-item data-child=true aria-expanded=false data-expandable=false><a href=\"https://www.geeksforgeeks.org/ncert-solutions-for-class-11-maths/?ref=ghm\" target=_self>Class 11 Maths Solution</a><li class=mega-dropdown__list-item data-child=true aria-expanded=false data-expandable=false><a href=\"https://www.geeksforgeeks.org/ncert-solutions-for-class-12-maths/?ref=ghm\" target=_self>Class 12 Maths Solution</a></ul><li class=mega-dropdown__list-item data-parent=true aria-expanded=true data-expandable=true><span>RD Sharma Solutions</span><i class=\"gfg-icon gfg-icon_arrow-right\"></i><ul class=mega-dropdown><li class=mega-dropdown__list-item data-child=true aria-expanded=false data-expandable=false><a href=\"https://www.geeksforgeeks.org/rd-sharma-class-8-solutions-for-maths/?ref=ghm\" target=_self>Class 8 Maths Solution</a><li class=mega-dropdown__list-item data-child=true aria-expanded=false data-expandable=false><a href=\"https://www.geeksforgeeks.org/tag/rd-sharma-class-9/?ref=ghm\" target=_self>Class 9 Maths Solution</a><li class=mega-dropdown__list-item data-child=true aria-expanded=false data-expandable=false><a href=\"https://www.geeksforgeeks.org/tag/rd-sharma-class-10/?ref=ghm\" target=_self>Class 10 Maths Solution</a><li class=mega-dropdown__list-item data-child=true aria-expanded=false data-expandable=false><a href=\"https://www.geeksforgeeks.org/tag/rd-sharma-class-11/?ref=ghm\" target=_self>Class 11 Maths Solution</a><li class=mega-dropdown__list-item data-child=true aria-expanded=false data-expandable=false><a href=\"https://www.geeksforgeeks.org/tag/rd-sharma-class-12/?ref=ghm\" target=_self>Class 12 Maths Solution</a></ul><li class=mega-dropdown__list-item data-parent=true aria-expanded=true data-expandable=true><span>Physics Notes (Class 8-11)</span><i class=\"gfg-icon gfg-icon_arrow-right\"></i><ul class=mega-dropdown><li class=mega-dropdown__list-item data-child=true aria-expanded=false data-expandable=false><a href=\"https://www.geeksforgeeks.org/cbse-physics-class-8-notes/?ref=ghm\" target=_self>Class 8 Notes</a><li class=mega-dropdown__list-item data-child=true aria-expanded=false data-expandable=false><a href=\"https://www.geeksforgeeks.org/cbse-class-9-physics-notes/?ref=ghm\" target=_self>Class 9 Notes</a><li class=mega-dropdown__list-item data-child=true aria-expanded=false data-expandable=false><a href=\"https://www.geeksforgeeks.org/cbse-notes-for-class-10-physics/?ref=ghm\" target=_self>Class 10 Notes</a><li class=mega-dropdown__list-item data-child=true aria-expanded=false data-expandable=false><a href=\"https://www.geeksforgeeks.org/cbse-class-11-physics-notes/?ref=ghm\" target=_self>Class 11 Notes</a></ul></ul><li class=mega-dropdown__list-item data-parent=true aria-expanded=true data-expandable=true><span>ISRO CS</span><i class=\"gfg-icon gfg-icon_arrow-right\"></i><ul class=mega-dropdown><li class=mega-dropdown__list-item data-child=true aria-expanded=false data-expandable=false><a href=\"https://www.geeksforgeeks.org/isro-cs-preparation/?ref=ghm\" target=_self>ISRO CS Solved Papers</a><li class=mega-dropdown__list-item data-child=true aria-expanded=false data-expandable=false><a href=\"https://www.geeksforgeeks.org/isro-original-papers-official-keys/?ref=ghm\" target=_self>ISRO CS Original Papers and Official Keys</a><li class=mega-dropdown__list-item data-child=true aria-expanded=false data-expandable=false><a href=\"https://www.geeksforgeeks.org/isro-cse-syllabus-scientistengineer-exam-2018/?ref=ghm\" target=_self>ISRO CS Syllabus for Scientist/Engineer Exam</a></ul><li class=mega-dropdown__list-item data-parent=true aria-expanded=true data-expandable=true><span>UGC NET CS</span><i class=\"gfg-icon gfg-icon_arrow-right\"></i><ul class=mega-dropdown><li class=mega-dropdown__list-item data-child=true aria-expanded=false data-expandable=false><a href=\"https://www.geeksforgeeks.org/ugc-net-cs-notes-according-to-syllabus-of-paper-ii/?ref=ghm\" target=_self>UGC NET CS Notes Paper II</a><li class=mega-dropdown__list-item data-child=true aria-expanded=false data-expandable=false><a href=\"https://www.geeksforgeeks.org/ugc-net-cs-notes-according-to-syllabus-of-paper-iii-core-group/?ref=ghm\" target=_self>UGC NET CS Notes Paper III</a><li class=mega-dropdown__list-item data-child=true aria-expanded=false data-expandable=false><a href=\"https://www.geeksforgeeks.org/ugc-net-cs-preparation/?ref=ghm\" target=_self>UGC NET CS Solved Papers</a></ul></ul><li class=header-main__list-item data-parent=true aria-expanded=true data-expandable=true><span>Student</span><i class=\"gfg-icon gfg-icon_arrow-down gfg-icon_header\"></i><ul class=mega-dropdown><li class=mega-dropdown__list-item data-child=true aria-expanded=false data-expandable=false><a href=\"https://www.geeksforgeeks.org/campus-ambassador-program-by-geeksforgeeks/?ref=ghm\" target=_self>Campus Ambassador Program</a><li class=mega-dropdown__list-item data-child=true aria-expanded=false data-expandable=false><a href=\"https://www.geeksforgeeks.org/school-ambassador/?ref=ghm\" target=_self>School Ambassador Program</a><li class=mega-dropdown__list-item data-child=true aria-expanded=false data-expandable=false><a href=\"https://www.geeksforgeeks.org/computer-science-projects/?ref=ghm\" target=_self>Project</a><li class=mega-dropdown__list-item data-child=true aria-expanded=false data-expandable=false><a href=\"https://www.geeksforgeeks.org/geek-of-the-month/?ref=ghm\" target=_self>Geek of the Month</a><li class=mega-dropdown__list-item data-child=true aria-expanded=false data-expandable=false><a href=\"https://www.geeksforgeeks.org/campus-geek-of-the-month/?ref=ghm\" target=_self>Campus Geek of the Month</a><li class=mega-dropdown__list-item data-child=true aria-expanded=false data-expandable=false><a href=\"https://www.geeksforgeeks.org/placements-gq/?ref=ghm\" target=_self>Placement Course</a><li class=mega-dropdown__list-item data-child=true aria-expanded=false data-expandable=false><a href=\"https://www.geeksforgeeks.org/competitive-programming-a-complete-guide/?ref=ghm\" target=_self>Competititve Programming</a><li class=mega-dropdown__list-item data-child=true aria-expanded=false data-expandable=false><a href=\"https://www.geeksforgeeks.org/testimonials/?ref=ghm\" target=_self>Testimonials</a><li class=mega-dropdown__list-item data-child=true aria-expanded=false data-expandable=false><a href=\"https://www.geeksforgeeks.org/category/geek-on-the-top/?ref=ghm\" target=_self>Geek on the Top</a><li class=mega-dropdown__list-item data-child=true aria-expanded=false data-expandable=false><a href=\"https://www.geeksforgeeks.org/careers/?ref=ghm\" target=_self>Careers</a><li class=mega-dropdown__list-item data-child=true aria-expanded=false data-expandable=false><a href=\"https://www.geeksforgeeks.org/internship/?ref=ghm\" target=_self>Internship</a></ul><li class=header-main__list-item data-parent=true aria-expanded=true data-expandable=true><span>Jobs</span><i class=\"gfg-icon gfg-icon_arrow-down gfg-icon_header\"></i><ul class=mega-dropdown><li class=mega-dropdown__list-item data-child=true aria-expanded=false data-expandable=false><a href=\"https://practice.geeksforgeeks.org/jobs/?ref=ghm\" target=_self>Apply for Jobs</a><li class=mega-dropdown__list-item data-child=true aria-expanded=false data-expandable=false><a href=\"https://www.geeksforgeeks.org/hire-with-us/?ref=ghm\" target=_self>Post a Job</a></ul><li class=header-main__list-item data-child=true aria-expanded=false data-expandable=false><a href=\"https://practice.geeksforgeeks.org/courses/?ref=ghm\" class=remove-anchor__decoration target=_self>Courses</a></ul><ul class=header-main__left-list data-nl=false><li class=\"header-main__left-list-item gcse-search_li p-relative\" aria-expanded=false data-expandable=false><form id=gcse-form data-sm=false class=p-relative><input class=gcse-search-input__wrapper id=gcse-search-input aria-expanded=false>\\n<i class=\"gfg-icon gfg-icon_times gfg-icon_white hide-search\"></i>\\n<button class=\"gcse-search__btn not-expanded\">\\n<i class=\"gfg-icon gfg-icon_search gfg-icon_white gcse-search__icon\"></i></button></form><li class=\"header-main__left-list-item p-relative\" aria-expanded=false data-expandable=true><i class=\"gfg-icon gfg-icon_ndot cursor-p\" data-gfg-action=nineDot-menu></i><div class=nineDot-menu data-show=false><div class=nineDot-menu_container><div class=nineDot-menu_left><a href=\"https://write.geeksforgeeks.org/?ref=ndm\" class=nineDot-menu_item rel=\"noopener noreferrer\"><div class=img-wrapper><img src=https://media.geeksforgeeks.org/wp-content/cdn-uploads/write_ndi_20210312.svg alt=Write></div><div class=nineDot-menu_item-wrap><div class=head>Write</div><div class=text>Come write articles for us and get featured</div></div></a><a href=\"https://practice.geeksforgeeks.org/?ref=ndm\" class=nineDot-menu_item rel=\"noopener noreferrer\"><div class=img-wrapper><img src=https://media.geeksforgeeks.org/wp-content/cdn-uploads/practice_ndi_20210312.svg alt=Practice></div><div class=nineDot-menu_item-wrap><div class=head>Practice</div><div class=text>Learn and code with the best industry experts</div></div></a><a href=\"https://premium.geeksforgeeks.org/premium-plans/?ref=ndm\" class=nineDot-menu_item rel=\"noopener noreferrer\"><div class=img-wrapper><img src=https://media.geeksforgeeks.org/wp-content/cdn-uploads/premium_ndi_20210312.svg alt=Premium></div><div class=nineDot-menu_item-wrap><div class=head>Premium</div><div class=text>Get access to ad-free content, doubt assistance and more!</div></div></a><a href=\"https://practice.geeksforgeeks.org/jobs/?ref=ndm\" class=nineDot-menu_item rel=\"noopener noreferrer\"><div class=img-wrapper><img src=https://media.geeksforgeeks.org/wp-content/cdn-uploads/jobs_ndi_20210312.svg alt=Jobs></div><div class=nineDot-menu_item-wrap><div class=head>Jobs</div><div class=text>Come and find your dream job with us</div></div></a><script>\\r\\n                                    // Toggle Nine dot menu icons\\r\\n                                    toggleNineDotMenuImages(isDarkMode ? gfgThemeList.DARK : gfgThemeList.LIGHT)\\r\\n                                </script></div><div class=nineDot-menu_right><ul><li><a href=\"https://www.geeksforgeeks.org/geeks-digest/?ref=ndm\">Geeks Digest</a><li><a href=\"https://www.geeksforgeeks.org/quiz-corner-gq/?ref=ndm\">Quizzes</a><li><a href=\"https://practice.geeksforgeeks.org/geeks-campus/?ref=ndm\">Geeks Campus</a></ul><ul><li><a href=\"https://www.geeksforgeeks.org/category/guestblogs/?ref=ndm\">Gblog Articles</a><li><a href=\"https://ide.geeksforgeeks.org/?ref=ndm\">IDE</a><li><a href=\"https://www.geeksforgeeks.org/campus-ambassador-program-by-geeksforgeeks/?ref=ndm\">Campus Mantri</a></ul></div></div></div><li class=\"header-main__left-list-item google-translate-parent-element\" aria-expanded=false data-expanded=true><div class=translate id=g_translater><div id=google_translate_element data-show=false></div></div><i class=\"gfg-icon gfg-icon_translate googleTranslateToggle\" data-gfg-action=google_translate_element></i>\\n<script>\\r\\n                        var m = false;\\r\\n                        function googleTranslateElementInit() {\\r\\n                            new google.translate.TranslateElement({pageLanguage: \\'en\\'}, \\'google_translate_element\\');\\r\\n                            setTimeout(function(){\\r\\n                                if (jQuery( window ).width() < 768){\\r\\n                                    m = true;\\r\\n                                     jQuery(\\'#g_translater\\').detach().appendTo(\\'#google_translate_mobile\\');                            \\r\\n                                }\\r\\n                            }, 7000);\\r\\n                        }\\r\\n                        jQuery( window ).resize(function() {\\r\\n                            if (jQuery( window ).width() < 768 && m == false){\\r\\n                                m = true;\\r\\n                                jQuery(\\'#g_translater\\').detach().appendTo(\\'#google_translate_mobile\\');  \\r\\n                            } else if (jQuery( window ).width() >= 768 && m == true){\\r\\n                                m = false;\\r\\n                                jQuery(\\'#g_translater\\').detach().prependTo(\\'.google-translate-parent-element\\');                            \\r\\n                            }\\r\\n                        });\\r\\n                    </script><li id=userProfileId class=\"header-main__left-list-item p-relative\" aria-expanded=false data-expandable=false></ul></div><div class=\"gfg-overlay display-none\" id=gfg-overlay></div><div class=header-sidebar__wrapper><ul class=header-sidebar__list><li class=header-sidebar__list-item><a href=\"https://www.geeksforgeeks.org/?ref=ghm\" target=_self>Home</a><li class=header-sidebar__list-item><a href=\"https://www.geeksforgeeks.org/videos/watchlist/?ref=ghm\" target=_self><span class=\"gfg-icon gfg-icon_video\"></span><span>Saved Videos</span></a><li class=header-sidebar__list-item><a href=\"https://practice.geeksforgeeks.org/?ref=ghm\" target=_self>Courses</a><li><ul id=sidebar-list></ul><li class=header-sidebar__list-item><a href=\"https://www.geeksforgeeks.org/category/guestblogs/?ref=ghm\" target=_self>GBlog</a><li class=header-sidebar__list-item><a href=\"https://www.geeksforgeeks.org/puzzles/?ref=ghm\" target=_self>Puzzles</a><li class=header-sidebar__list-item><a href=\"https://www.geeksforgeeks.org/geeks-classes-geeksforgeeks/?ref=ghm\" target=_self>What\\'s New ?</a></ul><div class=mobile_translate><div id=google_translate_mobile data-show=false></div><div style=margin:auto><button class=toggle-darkMode data-gfg-action=toggleGFGTheme>\\n<i class=\"gfg-icon gfg-icon_dark-mode\"></i></button>\\n<button class=google_translate_element_mobile data-gfg-action=google_translate_mobile aria-expanded=false data-expanded=true>\\n<i class=\"gfg-icon gfg-icon_translate googleTranslateToggleMobile\"></i>Change Language</button></div></div><div style=height:80px></div></div><div class=header-main__slider><button class=\"header-main__slider-arrow previous hideIt\">\\n<i class=\"gfg-icon gfg-icon_arrow-left gicon-centered\"></i></button><ul id=hslider><li><a href=\"https://www.geeksforgeeks.org/data-structures/?ref=shm\">Data Structures</a><li><a href=\"https://www.geeksforgeeks.org/fundamentals-of-algorithms/?ref=shm\">Algorithms</a><li><a href=\"https://practice.geeksforgeeks.org/courses/complete-interview-preparation?utm_source=GfG&utm_medium=Home&utm_campaign=CIP_Submenu\">Interview Preparation</a><li><a href=\"https://practice.geeksforgeeks.org/topic-tags/?ref=shm\">Topic-wise Practice</a><li><a href=\"https://www.geeksforgeeks.org/c-plus-plus/?ref=shm\">C++</a><li><a href=\"https://www.geeksforgeeks.org/java/?ref=shm\">Java</a><li><a href=\"https://www.geeksforgeeks.org/python-programming-language/?ref=shm\">Python</a><li><a href=\"https://practice.geeksforgeeks.org/courses/competitive-programming-live/?utm_source=geeksforgeeks&utm_medium=subment&utm_campaign=GFG_Submenu_CP\">Competitive Programming</a><li><a href=\"https://www.geeksforgeeks.org/machine-learning/?ref=shm\">Machine Learning</a><li><a href=\"https://www.geeksforgeeks.org/web-development/?ref=shm\">Web Development</a><li><a href=\"https://www.geeksforgeeks.org/puzzles/?ref=shm\">Puzzles</a><li><a href=\"https://www.geeksforgeeks.org/computer-science-projects/?ref=shm\">Project Ideas</a><li><a href=\"https://www.geeksforgeeks.org/school-learning/?ref=shm\">GFG School</a></ul><button class=\"header-main__slider-arrow next hideIt\">\\n<i class=\"gfg-icon gfg-icon_arrow-right gicon-centered\"></i></button></div></div><div class=\"header-main__slider header-main__slider-sticky\" style=display:none!important><div class=header-main__slider-flex><div class=header-main__slider-flex-inner title=\"Related articles\" data-gfg-action=article-slider><i class=\"gfg-icon gfg-icon_article\"></i>\\n<span style=margin-top:-2px>Related Articles</span>\\n<i class=\"gfg-icon gfg-icon_arrow-right\"></i></div></div></div><button id=scrollTopBtn title=\"Scroll to Top\" type=button class=\"btn btn-success\">&#9650;</button><div id=main class=wrapper><div class=article-page_sidebar data-article-slider=0><div class=article-page_sidebar-overlay data-gfg-action=article-slider></div><div class=article-page_sidebar-inner><div class=article-page_sidebar-head><h2>Table of Contents</h2><i class=\"gfg-icon gfg-icon_close cursor-p\" data-gfg-action=article-slider></i></div><ul class=leftBarList><div class=leftbar-dropdown><div class=\"dropdown-title active\">Data Structure<span class=\"gfg-icon gfg-icon_arrow-down-thin upside\"></span></div><ul><li class=currentpage style=background-color:var(--color-gfg)><a href=\"https://www.geeksforgeeks.org/data-structures/?ref=lbp\">Data Structures</a></ul></div><div class=leftbar-dropdown><div class=dropdown-title>Array<span class=\"gfg-icon gfg-icon_arrow-down-thin\"></span></div><ul><li><a href=\"https://www.geeksforgeeks.org/introduction-to-arrays/?ref=lbp\">Introduction to Arrays</a><li><a href=\"https://www.geeksforgeeks.org/arrays-in-c-cpp/?ref=lbp\">Arrays in C/C++</a><li><a href=\"https://www.geeksforgeeks.org/arrays-in-java/?ref=lbp\">Arrays in Java</a><li><a href=\"https://www.geeksforgeeks.org/array-rotation/?ref=lbp\">Program for array rotation</a><li><a href=\"https://www.geeksforgeeks.org/program-for-array-rotation-continued-reversal-algorithm/?ref=lbp\">Reversal algorithm for array rotation</a><li><a href=\"https://www.geeksforgeeks.org/block-swap-algorithm-for-array-rotation/?ref=lbp\">Block swap algorithm for array rotation</a><li><a href=\"https://www.geeksforgeeks.org/rearrange-array-arri/?ref=lbp\">Rearrange an array such that arr[i] = i</a><li><a href=\"https://www.geeksforgeeks.org/write-a-program-to-reverse-an-array-or-string/?ref=lbp\">Write a program to reverse an array or string</a><li><a href=\"https://www.geeksforgeeks.org/rearrange-array-arri-arrj-even-arri/?ref=lbp\">Rearrange array such that arr[i] >= arr[j] if i is even and arr[i]&lt;=arr[j] if i is odd and j &lt; i</a></ul></div><div class=leftbar-dropdown><div class=dropdown-title>Linked List<span class=\"gfg-icon gfg-icon_arrow-down-thin\"></span></div><ul><li><a href=\"https://www.geeksforgeeks.org/linked-list-set-1-introduction/?ref=lbp\">Linked List | Set 1 (Introduction)</a><li><a href=\"https://www.geeksforgeeks.org/linked-list-vs-array/?ref=lbp\">Linked List vs Array</a><li><a href=\"https://www.geeksforgeeks.org/linked-list-set-2-inserting-a-node/?ref=lbp\">Linked List | Set 2 (Inserting a node)</a><li><a href=\"https://www.geeksforgeeks.org/linked-list-set-3-deleting-node/?ref=lbp\">Linked List | Set 3 (Deleting a node)</a><li><a href=\"https://www.geeksforgeeks.org/delete-a-linked-list-node-at-a-given-position/?ref=lbp\">Delete a Linked List node at a given position</a><li><a href=\"https://www.geeksforgeeks.org/circular-linked-list/?ref=lbp\">Circular Linked List | Set 1 (Introduction and Applications)</a><li><a href=\"https://www.geeksforgeeks.org/circular-linked-list-set-2-traversal/?ref=lbp\">Circular Linked List | Set 2 (Traversal)</a><li><a href=\"https://www.geeksforgeeks.org/split-a-circular-linked-list-into-two-halves/?ref=lbp\">Split a Circular Linked List into two halves</a><li><a href=\"https://www.geeksforgeeks.org/sorted-insert-for-circular-linked-list/?ref=lbp\">Sorted insert for circular linked list</a></ul></div><div class=leftbar-dropdown><div class=dropdown-title>Stack<span class=\"gfg-icon gfg-icon_arrow-down-thin\"></span></div><ul><li><a href=\"https://www.geeksforgeeks.org/stack-data-structure-introduction-program/?ref=lbp\">Stack Data Structure (Introduction and Program)</a><li><a href=\"https://www.geeksforgeeks.org/stack-in-cpp-stl/?ref=lbp\">Stack in C++ STL</a><li><a href=\"https://www.geeksforgeeks.org/stack-class-in-java/?ref=lbp\">Stack Class in Java</a><li><a href=\"https://www.geeksforgeeks.org/stack-in-python/?ref=lbp\">Stack in Python</a><li><a href=\"https://www.geeksforgeeks.org/c-sharp-stack-with-examples/?ref=lbp\">C# Stack with Examples</a><li><a href=\"https://www.geeksforgeeks.org/queue-using-stacks/?ref=lbp\">Queue using Stacks</a><li><a href=\"https://www.geeksforgeeks.org/design-and-implement-special-stack-data-structure/?ref=lbp\">Design and Implement Special Stack Data Structure | Added Space Optimized Version</a><li><a href=\"https://www.geeksforgeeks.org/implement-two-stacks-in-an-array/?ref=lbp\">Implement two stacks in an array</a><li><a href=\"https://www.geeksforgeeks.org/implement-stack-using-queue/?ref=lbp\">Implement Stack using Queues</a></ul></div><div class=leftbar-dropdown><div class=dropdown-title>Queue<span class=\"gfg-icon gfg-icon_arrow-down-thin\"></span></div><ul><li><a href=\"https://www.geeksforgeeks.org/queue-set-1introduction-and-array-implementation/?ref=lbp\">Queue | Set 1 (Introduction and Array Implementation)</a><li><a href=\"https://www.geeksforgeeks.org/applications-of-queue-data-structure/?ref=lbp\">Applications of Queue Data Structure</a><li><a href=\"https://www.geeksforgeeks.org/priority-queue-set-1-introduction/?ref=lbp\">Priority Queue | Set 1 (Introduction)</a><li><a href=\"https://www.geeksforgeeks.org/applications-priority-queue/?ref=lbp\">Applications of Priority Queue</a><li><a href=\"https://www.geeksforgeeks.org/deque-set-1-introduction-applications/?ref=lbp\">Deque | Set 1 (Introduction and Applications)</a><li><a href=\"https://www.geeksforgeeks.org/lru-cache-implementation/?ref=lbp\">LRU Cache Implementation</a><li><a href=\"https://www.geeksforgeeks.org/queue-linked-list-implementation/?ref=lbp\">Queue &#8211; Linked List Implementation</a></ul></div><div class=leftbar-dropdown><div class=dropdown-title>Binary Tree<span class=\"gfg-icon gfg-icon_arrow-down-thin\"></span></div><ul><li><a href=\"https://www.geeksforgeeks.org/binary-tree-set-1-introduction/?ref=lbp\">Binary Tree | Set 1 (Introduction)</a><li><a href=\"https://www.geeksforgeeks.org/binary-tree-set-2-properties/?ref=lbp\">Binary Tree | Set 2 (Properties)</a><li><a href=\"https://www.geeksforgeeks.org/binary-tree-set-3-types-of-binary-tree/?ref=lbp\">Binary Tree | Set 3 (Types of Binary Tree)</a><li><a href=\"https://www.geeksforgeeks.org/tree-traversals-inorder-preorder-and-postorder/?ref=lbp\">Tree Traversals (Inorder, Preorder and Postorder)</a><li><a href=\"https://www.geeksforgeeks.org/inorder-tree-traversal-without-recursion/?ref=lbp\">Inorder Tree Traversal without Recursion</a><li><a href=\"https://www.geeksforgeeks.org/inorder-tree-traversal-without-recursion-and-without-stack/?ref=lbp\">Inorder Tree Traversal without recursion and without stack!</a><li><a href=\"https://www.geeksforgeeks.org/construct-tree-from-given-inorder-and-preorder-traversal/?ref=lbp\">Construct Tree from given Inorder and Preorder traversals</a><li><a href=\"https://www.geeksforgeeks.org/construct-tree-inorder-level-order-traversals/?ref=lbp\">Construct a tree from Inorder and Level order traversals | Set 1</a><li><a href=\"https://www.geeksforgeeks.org/given-linked-list-representation-of-complete-tree-convert-it-to-linked-representation/?ref=lbp\">Construct Complete Binary Tree from its Linked List Representation</a></ul></div><div class=leftbar-dropdown><div class=dropdown-title>Binary Search Tree<span class=\"gfg-icon gfg-icon_arrow-down-thin\"></span></div><ul><li><a href=\"https://www.geeksforgeeks.org/binary-search-tree-set-1-search-and-insertion/?ref=lbp\">Binary Search Tree | Set 1 (Search and Insertion)</a><li><a href=\"https://www.geeksforgeeks.org/binary-search-tree-set-2-delete/?ref=lbp\">Binary Search Tree | Set 2 (Delete)</a><li><a href=\"https://www.geeksforgeeks.org/advantages-of-bst-over-hash-table/?ref=lbp\">Advantages of BST over Hash Table</a><li><a href=\"https://www.geeksforgeeks.org/construct-bst-from-given-preorder-traversa/?ref=lbp\">Construct BST from given preorder traversal | Set 1</a><li><a href=\"https://www.geeksforgeeks.org/construct-bst-from-given-preorder-traversal-set-2/?ref=lbp\">Construct BST from given preorder traversal | Set 2</a><li><a href=\"https://www.geeksforgeeks.org/binary-tree-to-binary-search-tree-conversion/?ref=lbp\">Binary Tree to Binary Search Tree Conversion</a><li><a href=\"https://www.geeksforgeeks.org/sorted-linked-list-to-balanced-bst/?ref=lbp\">Sorted Linked List to Balanced BST</a><li><a href=\"https://www.geeksforgeeks.org/sorted-array-to-balanced-bst/?ref=lbp\">Sorted Array to Balanced BST</a><li><a href=\"https://www.geeksforgeeks.org/find-the-minimum-element-in-a-binary-search-tree/?ref=lbp\">Find the node with minimum value in a Binary Search Tree</a></ul></div><div class=leftbar-dropdown><div class=dropdown-title>Heap<span class=\"gfg-icon gfg-icon_arrow-down-thin\"></span></div><ul><li><a href=\"https://www.geeksforgeeks.org/binary-heap/?ref=lbp\">Binary Heap</a><li><a href=\"https://www.geeksforgeeks.org/time-complexity-of-building-a-heap/?ref=lbp\">Time Complexity of building a heap</a><li><a href=\"https://www.geeksforgeeks.org/applications-of-heap-data-structure/?ref=lbp\">Applications of Heap Data Structure</a><li><a href=\"https://www.geeksforgeeks.org/binomial-heap-2/?ref=lbp\">Binomial Heap</a><li><a href=\"https://www.geeksforgeeks.org/fibonacci-heap-set-1-introduction/?ref=lbp\">Fibonacci Heap | Set 1 (Introduction)</a><li><a href=\"https://www.geeksforgeeks.org/leftist-tree-leftist-heap/?ref=lbp\">Leftist Tree / Leftist Heap</a><li><a href=\"https://www.geeksforgeeks.org/k-ary-heap/?ref=lbp\">K-ary Heap</a><li><a href=\"https://www.geeksforgeeks.org/heap-sort/?ref=lbp\">HeapSort</a><li><a href=\"https://www.geeksforgeeks.org/iterative-heap-sort/?ref=lbp\">Iterative HeapSort</a></ul></div><div class=leftbar-dropdown><div class=dropdown-title>Hashing<span class=\"gfg-icon gfg-icon_arrow-down-thin\"></span></div><ul><li><a href=\"https://www.geeksforgeeks.org/hashing-set-1-introduction/?ref=lbp\">Hashing | Set 1 (Introduction)</a><li><a href=\"https://www.geeksforgeeks.org/index-mapping-or-trivial-hashing-with-negatives-allowed/?ref=lbp\">Index Mapping (or Trivial Hashing) with negatives allowed</a><li><a href=\"https://www.geeksforgeeks.org/hashing-set-2-separate-chaining/?ref=lbp\">Hashing | Set 2 (Separate Chaining)</a><li><a href=\"https://www.geeksforgeeks.org/hashing-set-3-open-addressing/?ref=lbp\">Hashing | Set 3 (Open Addressing)</a><li><a href=\"https://www.geeksforgeeks.org/double-hashing/?ref=lbp\">Double Hashing</a><li><a href=\"https://www.geeksforgeeks.org/print-binary-tree-vertical-order-set-2/?ref=lbp\">Print a Binary Tree in Vertical Order | Set 2 (Map based Method)</a><li><a href=\"https://www.geeksforgeeks.org/find-whether-an-array-is-subset-of-another-array-set-1/?ref=lbp\">Find whether an array is subset of another array | Added Method 5</a><li><a href=\"https://www.geeksforgeeks.org/union-intersection-two-linked-lists-set-3-hashing/?ref=lbp\">Union and Intersection of two linked lists | Set-3 (Hashing)</a><li><a href=\"https://www.geeksforgeeks.org/given-an-array-a-and-a-number-x-check-for-pair-in-a-with-sum-as-x/?ref=lbp\">Given an array A[] and a number x, check for pair in A[] with sum as x (aka Two Sum)</a></ul></div><div class=leftbar-dropdown><div class=dropdown-title>Graph<span class=\"gfg-icon gfg-icon_arrow-down-thin\"></span></div><ul><li><a href=\"https://www.geeksforgeeks.org/graph-and-its-representations/?ref=lbp\">Graph and its representations</a><li><a href=\"https://www.geeksforgeeks.org/breadth-first-search-or-bfs-for-a-graph/?ref=lbp\">Breadth First Search or BFS for a Graph</a><li><a href=\"https://www.geeksforgeeks.org/depth-first-search-or-dfs-for-a-graph/?ref=lbp\">Depth First Search or DFS for a Graph</a><li><a href=\"https://www.geeksforgeeks.org/detect-cycle-in-a-graph/?ref=lbp\">Detect Cycle in a Directed Graph</a><li><a href=\"https://www.geeksforgeeks.org/detect-cycle-undirected-graph/?ref=lbp\">Detect cycle in an undirected graph</a><li><a href=\"https://www.geeksforgeeks.org/detect-cycle-direct-graph-using-colors/?ref=lbp\">Detect Cycle in a directed graph using colors</a><li><a href=\"https://www.geeksforgeeks.org/topological-sorting/?ref=lbp\">Topological Sorting</a><li><a href=\"https://www.geeksforgeeks.org/all-topological-sorts-of-a-directed-acyclic-graph/?ref=lbp\">All Topological Sorts of a Directed Acyclic Graph</a><li><a href=\"https://www.geeksforgeeks.org/topological-sorting-indegree-based-solution/?ref=lbp\">Kahn&#8217;s algorithm for Topological Sorting</a></ul></div><div class=leftbar-dropdown><div class=dropdown-title>Matrix<span class=\"gfg-icon gfg-icon_arrow-down-thin\"></span></div><ul><li><a href=\"https://www.geeksforgeeks.org/rotate-matrix-elements/?ref=lbp\">Rotate Matrix Elements</a><li><a href=\"https://www.geeksforgeeks.org/inplace-rotate-square-matrix-by-90-degrees/?ref=lbp\">Inplace rotate square matrix by 90 degrees | Set 1</a><li><a href=\"https://www.geeksforgeeks.org/rotate-matrix-90-degree-without-using-extra-space-set-2/?ref=lbp\">Rotate a matrix by 90 degree without using any extra space | Set 2</a><li><a href=\"https://www.geeksforgeeks.org/rotate-matrix-180-degree/?ref=lbp\">Rotate a Matrix by 180 degree</a><li><a href=\"https://www.geeksforgeeks.org/rotate-ring-matrix-anticlockwise-k-elements/?ref=lbp\">Rotate each ring of matrix anticlockwise by K elements</a><li><a href=\"https://www.geeksforgeeks.org/turn-an-image-by-90-degree/?ref=lbp\">Turn an image by 90 degree</a><li><a href=\"https://www.geeksforgeeks.org/check-rows-matrix-circular-rotations/?ref=lbp\">Check if all rows of a matrix are circular rotations of each other</a><li><a href=\"https://www.geeksforgeeks.org/sort-given-matrix/?ref=lbp\">Sort the given matrix</a><li><a href=\"https://www.geeksforgeeks.org/find-the-row-with-maximum-number-1s/?ref=lbp\">Find the row with maximum number of 1s</a><li><a href=\"https://www.geeksforgeeks.org/find-median-row-wise-sorted-matrix/?ref=lbp\">Find median in row wise sorted matrix</a></ul></div><div class=leftbar-dropdown><div class=dropdown-title>Advanced Data Structure<span class=\"gfg-icon gfg-icon_arrow-down-thin\"></span></div><ul><li><a href=\"https://www.geeksforgeeks.org/memory-efficient-doubly-linked-list/?ref=lbp\">Memory efficient doubly linked list</a><li><a href=\"https://www.geeksforgeeks.org/xor-linked-list-a-memory-efficient-doubly-linked-list-set-1/?ref=lbp\">XOR Linked List &#8211; A Memory Efficient Doubly Linked List | Set 1</a><li><a href=\"https://www.geeksforgeeks.org/xor-linked-list-a-memory-efficient-doubly-linked-list-set-2/?ref=lbp\">XOR Linked List \\xe2\\x80\\x93 A Memory Efficient Doubly Linked List | Set 2</a></ul></div></ul></div></div><div class=\"sideBar sideBar-page\"><div class=sideBar--wrap><div class=article-page_sidebar-head><h2>Table of Contents</h2></div><ul class=leftBarList><div class=leftbar-dropdown><div class=\"dropdown-title active\">Data Structure<span class=\"gfg-icon gfg-icon_arrow-down-thin upside\"></span></div><ul><li class=currentpage style=background-color:var(--color-gfg)><a href=\"https://www.geeksforgeeks.org/data-structures/?ref=lbp\">Data Structures</a></ul></div><div class=leftbar-dropdown><div class=dropdown-title>Array<span class=\"gfg-icon gfg-icon_arrow-down-thin\"></span></div><ul><li><a href=\"https://www.geeksforgeeks.org/introduction-to-arrays/?ref=lbp\">Introduction to Arrays</a><li><a href=\"https://www.geeksforgeeks.org/arrays-in-c-cpp/?ref=lbp\">Arrays in C/C++</a><li><a href=\"https://www.geeksforgeeks.org/arrays-in-java/?ref=lbp\">Arrays in Java</a><li><a href=\"https://www.geeksforgeeks.org/array-rotation/?ref=lbp\">Program for array rotation</a><li><a href=\"https://www.geeksforgeeks.org/program-for-array-rotation-continued-reversal-algorithm/?ref=lbp\">Reversal algorithm for array rotation</a><li><a href=\"https://www.geeksforgeeks.org/block-swap-algorithm-for-array-rotation/?ref=lbp\">Block swap algorithm for array rotation</a><li><a href=\"https://www.geeksforgeeks.org/rearrange-array-arri/?ref=lbp\">Rearrange an array such that arr[i] = i</a><li><a href=\"https://www.geeksforgeeks.org/write-a-program-to-reverse-an-array-or-string/?ref=lbp\">Write a program to reverse an array or string</a><li><a href=\"https://www.geeksforgeeks.org/rearrange-array-arri-arrj-even-arri/?ref=lbp\">Rearrange array such that arr[i] >= arr[j] if i is even and arr[i]&lt;=arr[j] if i is odd and j &lt; i</a></ul></div><div class=leftbar-dropdown><div class=dropdown-title>Linked List<span class=\"gfg-icon gfg-icon_arrow-down-thin\"></span></div><ul><li><a href=\"https://www.geeksforgeeks.org/linked-list-set-1-introduction/?ref=lbp\">Linked List | Set 1 (Introduction)</a><li><a href=\"https://www.geeksforgeeks.org/linked-list-vs-array/?ref=lbp\">Linked List vs Array</a><li><a href=\"https://www.geeksforgeeks.org/linked-list-set-2-inserting-a-node/?ref=lbp\">Linked List | Set 2 (Inserting a node)</a><li><a href=\"https://www.geeksforgeeks.org/linked-list-set-3-deleting-node/?ref=lbp\">Linked List | Set 3 (Deleting a node)</a><li><a href=\"https://www.geeksforgeeks.org/delete-a-linked-list-node-at-a-given-position/?ref=lbp\">Delete a Linked List node at a given position</a><li><a href=\"https://www.geeksforgeeks.org/circular-linked-list/?ref=lbp\">Circular Linked List | Set 1 (Introduction and Applications)</a><li><a href=\"https://www.geeksforgeeks.org/circular-linked-list-set-2-traversal/?ref=lbp\">Circular Linked List | Set 2 (Traversal)</a><li><a href=\"https://www.geeksforgeeks.org/split-a-circular-linked-list-into-two-halves/?ref=lbp\">Split a Circular Linked List into two halves</a><li><a href=\"https://www.geeksforgeeks.org/sorted-insert-for-circular-linked-list/?ref=lbp\">Sorted insert for circular linked list</a></ul></div><div class=leftbar-dropdown><div class=dropdown-title>Stack<span class=\"gfg-icon gfg-icon_arrow-down-thin\"></span></div><ul><li><a href=\"https://www.geeksforgeeks.org/stack-data-structure-introduction-program/?ref=lbp\">Stack Data Structure (Introduction and Program)</a><li><a href=\"https://www.geeksforgeeks.org/stack-in-cpp-stl/?ref=lbp\">Stack in C++ STL</a><li><a href=\"https://www.geeksforgeeks.org/stack-class-in-java/?ref=lbp\">Stack Class in Java</a><li><a href=\"https://www.geeksforgeeks.org/stack-in-python/?ref=lbp\">Stack in Python</a><li><a href=\"https://www.geeksforgeeks.org/c-sharp-stack-with-examples/?ref=lbp\">C# Stack with Examples</a><li><a href=\"https://www.geeksforgeeks.org/queue-using-stacks/?ref=lbp\">Queue using Stacks</a><li><a href=\"https://www.geeksforgeeks.org/design-and-implement-special-stack-data-structure/?ref=lbp\">Design and Implement Special Stack Data Structure | Added Space Optimized Version</a><li><a href=\"https://www.geeksforgeeks.org/implement-two-stacks-in-an-array/?ref=lbp\">Implement two stacks in an array</a><li><a href=\"https://www.geeksforgeeks.org/implement-stack-using-queue/?ref=lbp\">Implement Stack using Queues</a></ul></div><div class=leftbar-dropdown><div class=dropdown-title>Queue<span class=\"gfg-icon gfg-icon_arrow-down-thin\"></span></div><ul><li><a href=\"https://www.geeksforgeeks.org/queue-set-1introduction-and-array-implementation/?ref=lbp\">Queue | Set 1 (Introduction and Array Implementation)</a><li><a href=\"https://www.geeksforgeeks.org/applications-of-queue-data-structure/?ref=lbp\">Applications of Queue Data Structure</a><li><a href=\"https://www.geeksforgeeks.org/priority-queue-set-1-introduction/?ref=lbp\">Priority Queue | Set 1 (Introduction)</a><li><a href=\"https://www.geeksforgeeks.org/applications-priority-queue/?ref=lbp\">Applications of Priority Queue</a><li><a href=\"https://www.geeksforgeeks.org/deque-set-1-introduction-applications/?ref=lbp\">Deque | Set 1 (Introduction and Applications)</a><li><a href=\"https://www.geeksforgeeks.org/lru-cache-implementation/?ref=lbp\">LRU Cache Implementation</a><li><a href=\"https://www.geeksforgeeks.org/queue-linked-list-implementation/?ref=lbp\">Queue &#8211; Linked List Implementation</a></ul></div><div class=leftbar-dropdown><div class=dropdown-title>Binary Tree<span class=\"gfg-icon gfg-icon_arrow-down-thin\"></span></div><ul><li><a href=\"https://www.geeksforgeeks.org/binary-tree-set-1-introduction/?ref=lbp\">Binary Tree | Set 1 (Introduction)</a><li><a href=\"https://www.geeksforgeeks.org/binary-tree-set-2-properties/?ref=lbp\">Binary Tree | Set 2 (Properties)</a><li><a href=\"https://www.geeksforgeeks.org/binary-tree-set-3-types-of-binary-tree/?ref=lbp\">Binary Tree | Set 3 (Types of Binary Tree)</a><li><a href=\"https://www.geeksforgeeks.org/tree-traversals-inorder-preorder-and-postorder/?ref=lbp\">Tree Traversals (Inorder, Preorder and Postorder)</a><li><a href=\"https://www.geeksforgeeks.org/inorder-tree-traversal-without-recursion/?ref=lbp\">Inorder Tree Traversal without Recursion</a><li><a href=\"https://www.geeksforgeeks.org/inorder-tree-traversal-without-recursion-and-without-stack/?ref=lbp\">Inorder Tree Traversal without recursion and without stack!</a><li><a href=\"https://www.geeksforgeeks.org/construct-tree-from-given-inorder-and-preorder-traversal/?ref=lbp\">Construct Tree from given Inorder and Preorder traversals</a><li><a href=\"https://www.geeksforgeeks.org/construct-tree-inorder-level-order-traversals/?ref=lbp\">Construct a tree from Inorder and Level order traversals | Set 1</a><li><a href=\"https://www.geeksforgeeks.org/given-linked-list-representation-of-complete-tree-convert-it-to-linked-representation/?ref=lbp\">Construct Complete Binary Tree from its Linked List Representation</a></ul></div><div class=leftbar-dropdown><div class=dropdown-title>Binary Search Tree<span class=\"gfg-icon gfg-icon_arrow-down-thin\"></span></div><ul><li><a href=\"https://www.geeksforgeeks.org/binary-search-tree-set-1-search-and-insertion/?ref=lbp\">Binary Search Tree | Set 1 (Search and Insertion)</a><li><a href=\"https://www.geeksforgeeks.org/binary-search-tree-set-2-delete/?ref=lbp\">Binary Search Tree | Set 2 (Delete)</a><li><a href=\"https://www.geeksforgeeks.org/advantages-of-bst-over-hash-table/?ref=lbp\">Advantages of BST over Hash Table</a><li><a href=\"https://www.geeksforgeeks.org/construct-bst-from-given-preorder-traversa/?ref=lbp\">Construct BST from given preorder traversal | Set 1</a><li><a href=\"https://www.geeksforgeeks.org/construct-bst-from-given-preorder-traversal-set-2/?ref=lbp\">Construct BST from given preorder traversal | Set 2</a><li><a href=\"https://www.geeksforgeeks.org/binary-tree-to-binary-search-tree-conversion/?ref=lbp\">Binary Tree to Binary Search Tree Conversion</a><li><a href=\"https://www.geeksforgeeks.org/sorted-linked-list-to-balanced-bst/?ref=lbp\">Sorted Linked List to Balanced BST</a><li><a href=\"https://www.geeksforgeeks.org/sorted-array-to-balanced-bst/?ref=lbp\">Sorted Array to Balanced BST</a><li><a href=\"https://www.geeksforgeeks.org/find-the-minimum-element-in-a-binary-search-tree/?ref=lbp\">Find the node with minimum value in a Binary Search Tree</a></ul></div><div class=leftbar-dropdown><div class=dropdown-title>Heap<span class=\"gfg-icon gfg-icon_arrow-down-thin\"></span></div><ul><li><a href=\"https://www.geeksforgeeks.org/binary-heap/?ref=lbp\">Binary Heap</a><li><a href=\"https://www.geeksforgeeks.org/time-complexity-of-building-a-heap/?ref=lbp\">Time Complexity of building a heap</a><li><a href=\"https://www.geeksforgeeks.org/applications-of-heap-data-structure/?ref=lbp\">Applications of Heap Data Structure</a><li><a href=\"https://www.geeksforgeeks.org/binomial-heap-2/?ref=lbp\">Binomial Heap</a><li><a href=\"https://www.geeksforgeeks.org/fibonacci-heap-set-1-introduction/?ref=lbp\">Fibonacci Heap | Set 1 (Introduction)</a><li><a href=\"https://www.geeksforgeeks.org/leftist-tree-leftist-heap/?ref=lbp\">Leftist Tree / Leftist Heap</a><li><a href=\"https://www.geeksforgeeks.org/k-ary-heap/?ref=lbp\">K-ary Heap</a><li><a href=\"https://www.geeksforgeeks.org/heap-sort/?ref=lbp\">HeapSort</a><li><a href=\"https://www.geeksforgeeks.org/iterative-heap-sort/?ref=lbp\">Iterative HeapSort</a></ul></div><div class=leftbar-dropdown><div class=dropdown-title>Hashing<span class=\"gfg-icon gfg-icon_arrow-down-thin\"></span></div><ul><li><a href=\"https://www.geeksforgeeks.org/hashing-set-1-introduction/?ref=lbp\">Hashing | Set 1 (Introduction)</a><li><a href=\"https://www.geeksforgeeks.org/index-mapping-or-trivial-hashing-with-negatives-allowed/?ref=lbp\">Index Mapping (or Trivial Hashing) with negatives allowed</a><li><a href=\"https://www.geeksforgeeks.org/hashing-set-2-separate-chaining/?ref=lbp\">Hashing | Set 2 (Separate Chaining)</a><li><a href=\"https://www.geeksforgeeks.org/hashing-set-3-open-addressing/?ref=lbp\">Hashing | Set 3 (Open Addressing)</a><li><a href=\"https://www.geeksforgeeks.org/double-hashing/?ref=lbp\">Double Hashing</a><li><a href=\"https://www.geeksforgeeks.org/print-binary-tree-vertical-order-set-2/?ref=lbp\">Print a Binary Tree in Vertical Order | Set 2 (Map based Method)</a><li><a href=\"https://www.geeksforgeeks.org/find-whether-an-array-is-subset-of-another-array-set-1/?ref=lbp\">Find whether an array is subset of another array | Added Method 5</a><li><a href=\"https://www.geeksforgeeks.org/union-intersection-two-linked-lists-set-3-hashing/?ref=lbp\">Union and Intersection of two linked lists | Set-3 (Hashing)</a><li><a href=\"https://www.geeksforgeeks.org/given-an-array-a-and-a-number-x-check-for-pair-in-a-with-sum-as-x/?ref=lbp\">Given an array A[] and a number x, check for pair in A[] with sum as x (aka Two Sum)</a></ul></div><div class=leftbar-dropdown><div class=dropdown-title>Graph<span class=\"gfg-icon gfg-icon_arrow-down-thin\"></span></div><ul><li><a href=\"https://www.geeksforgeeks.org/graph-and-its-representations/?ref=lbp\">Graph and its representations</a><li><a href=\"https://www.geeksforgeeks.org/breadth-first-search-or-bfs-for-a-graph/?ref=lbp\">Breadth First Search or BFS for a Graph</a><li><a href=\"https://www.geeksforgeeks.org/depth-first-search-or-dfs-for-a-graph/?ref=lbp\">Depth First Search or DFS for a Graph</a><li><a href=\"https://www.geeksforgeeks.org/detect-cycle-in-a-graph/?ref=lbp\">Detect Cycle in a Directed Graph</a><li><a href=\"https://www.geeksforgeeks.org/detect-cycle-undirected-graph/?ref=lbp\">Detect cycle in an undirected graph</a><li><a href=\"https://www.geeksforgeeks.org/detect-cycle-direct-graph-using-colors/?ref=lbp\">Detect Cycle in a directed graph using colors</a><li><a href=\"https://www.geeksforgeeks.org/topological-sorting/?ref=lbp\">Topological Sorting</a><li><a href=\"https://www.geeksforgeeks.org/all-topological-sorts-of-a-directed-acyclic-graph/?ref=lbp\">All Topological Sorts of a Directed Acyclic Graph</a><li><a href=\"https://www.geeksforgeeks.org/topological-sorting-indegree-based-solution/?ref=lbp\">Kahn&#8217;s algorithm for Topological Sorting</a></ul></div><div class=leftbar-dropdown><div class=dropdown-title>Matrix<span class=\"gfg-icon gfg-icon_arrow-down-thin\"></span></div><ul><li><a href=\"https://www.geeksforgeeks.org/rotate-matrix-elements/?ref=lbp\">Rotate Matrix Elements</a><li><a href=\"https://www.geeksforgeeks.org/inplace-rotate-square-matrix-by-90-degrees/?ref=lbp\">Inplace rotate square matrix by 90 degrees | Set 1</a><li><a href=\"https://www.geeksforgeeks.org/rotate-matrix-90-degree-without-using-extra-space-set-2/?ref=lbp\">Rotate a matrix by 90 degree without using any extra space | Set 2</a><li><a href=\"https://www.geeksforgeeks.org/rotate-matrix-180-degree/?ref=lbp\">Rotate a Matrix by 180 degree</a><li><a href=\"https://www.geeksforgeeks.org/rotate-ring-matrix-anticlockwise-k-elements/?ref=lbp\">Rotate each ring of matrix anticlockwise by K elements</a><li><a href=\"https://www.geeksforgeeks.org/turn-an-image-by-90-degree/?ref=lbp\">Turn an image by 90 degree</a><li><a href=\"https://www.geeksforgeeks.org/check-rows-matrix-circular-rotations/?ref=lbp\">Check if all rows of a matrix are circular rotations of each other</a><li><a href=\"https://www.geeksforgeeks.org/sort-given-matrix/?ref=lbp\">Sort the given matrix</a><li><a href=\"https://www.geeksforgeeks.org/find-the-row-with-maximum-number-1s/?ref=lbp\">Find the row with maximum number of 1s</a><li><a href=\"https://www.geeksforgeeks.org/find-median-row-wise-sorted-matrix/?ref=lbp\">Find median in row wise sorted matrix</a></ul></div><div class=leftbar-dropdown><div class=dropdown-title>Advanced Data Structure<span class=\"gfg-icon gfg-icon_arrow-down-thin\"></span></div><ul><li><a href=\"https://www.geeksforgeeks.org/memory-efficient-doubly-linked-list/?ref=lbp\">Memory efficient doubly linked list</a><li><a href=\"https://www.geeksforgeeks.org/xor-linked-list-a-memory-efficient-doubly-linked-list-set-1/?ref=lbp\">XOR Linked List &#8211; A Memory Efficient Doubly Linked List | Set 1</a><li><a href=\"https://www.geeksforgeeks.org/xor-linked-list-a-memory-efficient-doubly-linked-list-set-2/?ref=lbp\">XOR Linked List \\xe2\\x80\\x93 A Memory Efficient Doubly Linked List | Set 2</a></ul></div></ul></div></div><div id=primary class=site-content><div id=content role=main><article id=post-125686 class=\"post-125686 page type-page status-publish hentry\"><div class=entry-content><header class=entry-header><h1 class=entry-title style=display:inline>Data Structures</h1><div class=meta style=\"margin:15px 0\"><ul><li style=list-style:none;margin-left:0><span class=strong style=color:var(--gfg-color-lg);font-family:var(--font-sofia);font-size:15px>Last Updated :</span>\\n<span style=color:var(--gfg-color-lg);font-family:var(--font-sofia);font-size:15px>31 Jan, 2022</span><p></ul></div></header><div hidead=auto></div><p>A <strong>data structure</strong> is a particular way of organizing data in a computer so that it can be used effectively.<p>For example, we can store a list of items having the same data-type using the <em>array</em> data structure.<div style=width:439px class=\"wp-caption aligncenter\"><img src=https://media.geeksforgeeks.org/wp-content/uploads/array-2.png alt=\"Array Data Structure\" width=429 height=195 class=size-large><p class=wp-caption-text>Array Data Structure</div><p>This page contains detailed tutorials on different data structures (DS) with topic-wise problems.<p style=text-align:left><strong>Topics:</strong><div><div style=width:33.33%;float:left><ul><li style=text-align:left><a href=https://www.geeksforgeeks.org/array/>Array</a><li style=text-align:left><a href=https://www.geeksforgeeks.org/data-structures/linked-list/>Linked List</a><li style=text-align:left><a href=https://www.geeksforgeeks.org/stack/>Stack</a><li style=text-align:left><a href=https://www.geeksforgeeks.org/queue/>Queue</a></ul></div><div style=width:33.33%;display:inline-block><ul><li style=text-align:left><a href=https://www.geeksforgeeks.org/binary-tree-2/>Binary Tree</a><li style=text-align:left><a href=https://www.geeksforgeeks.org/binary-search-tree/>Binary Search Tree</a><li style=text-align:left><a href=https://www.geeksforgeeks.org/heap/>Heap</a><li style=text-align:left><a href=https://www.geeksforgeeks.org/hashing/>Hashing</a></ul></div><div style=width:33.33%;float:right><ul><li style=text-align:left><a href=https://www.geeksforgeeks.org/graph-data-structure-and-algorithms/>Graph</a><li style=text-align:left><a href=https://www.geeksforgeeks.org/matrix/>Matrix</a><li style=text-align:left><a href=#Misc>Misc</a><li style=text-align:left><a href=#AdvancedDataStructure>Advanced Data Structure</a></ul></div></div><p><strong>Overview:</strong><ul><li><a href=https://www.geeksforgeeks.org/overview-of-data-structures-set-1-linear-data-structures/>Overview of Data Structures | Set 1 (Linear Data Structures)</a><li><a href=https://www.geeksforgeeks.org/overview-of-data-structures-set-2-binary-tree-bst-heap-and-hash/>Overview of Data Structures | Set 2 (Binary Tree, BST, Heap and Hash)</a><li><a href=https://www.geeksforgeeks.org/overview-of-data-structures-set-3-graph-trie-segment-tree-and-suffix-tree/>Overview of Data Structures | Set 3 (Graph, Trie, Segment Tree and Suffix Tree)</a><li><a href=https://www.geeksforgeeks.org/abstract-data-types/>Abstract Data Types</a></ul><p style=text-align:center><strong><a name=LinkedList></a>Linked List:</strong><p><em><strong>Singly Linked List:</strong></em><ol><li><a href=http://geeksquiz.com/linked-list-set-1-introduction/ target=_blank>Introduction to Linked List</a><li><a href=https://www.geeksforgeeks.org/linked-list-vs-array/>Linked List vs Array</a><li><a href=http://geeksquiz.com/linked-list-set-2-inserting-a-node/ target=_blank>Linked List Insertion</a><li><a href=http://geeksquiz.com/linked-list-set-3-deleting-node/ rel=bookmark>Linked List Deletion (Deleting a given key)</a><li><a href=http://geeksquiz.com/delete-a-linked-list-node-at-a-given-position/ rel=bookmark>Linked List Deletion (Deleting a key at given position)</a><li><a href=http://geeksquiz.com/programmers-approach-looking-array-vs-linked-list/ rel=bookmark>A Programmer\\xe2\\x80\\x99s approach of looking at Array vs. Linked List</a><li><a href=http://geeksquiz.com/find-length-of-a-linked-list-iterative-and-recursive/ rel=bookmark>Find Length of a Linked List (Iterative and Recursive)</a><li><a href=https://www.geeksforgeeks.org/how-to-write-functions-that-modify-the-head-pointer-of-a-linked-list/>How to write C functions that modify head pointer of a Linked List?</a><li><a href=https://www.geeksforgeeks.org/swap-nodes-in-a-linked-list-without-swapping-data/ rel=bookmark>Swap nodes in a linked list without swapping data</a><li><a href=https://www.geeksforgeeks.org/write-a-function-to-reverse-the-nodes-of-a-linked-list/>Reverse a linked list</a><li><a href=https://www.geeksforgeeks.org/merge-two-sorted-linked-lists/>Merge two sorted linked lists</a><li><a href=https://www.geeksforgeeks.org/merge-sort-for-linked-list/>Merge Sort for Linked Lists</a><li><a href=https://www.geeksforgeeks.org/reverse-a-list-in-groups-of-given-size/>Reverse a Linked List in groups of given size</a><li><a href=https://www.geeksforgeeks.org/detect-and-remove-loop-in-a-linked-list/>Detect and Remove Loop in a Linked List</a><li><a href=https://www.geeksforgeeks.org/add-two-numbers-represented-by-linked-lists/>Add two numbers represented by linked lists | Set 1</a><li><a href=https://www.geeksforgeeks.org/rotate-a-linked-list/>Rotate a Linked List</a><li><a href=https://www.geeksforgeeks.org/generic-linked-list-in-c-2/ rel=bookmark>Generic Linked List in C</a></ol><p><em><strong>Circular Linked List:</strong></em><ol><li><a href=http://geeksquiz.com/circular-linked-list/ rel=bookmark>Circular Linked List Introduction and Applications,</a><li><a href=https://www.geeksforgeeks.org/circular-singly-linked-list-insertion/>Circular Singly Linked List Insertion&lt;</a><li><a href=http://geeksquiz.com/circular-linked-list-set-2-traversal/ target=_blank>Circular Linked List Traversal</a><li><a href=https://www.geeksforgeeks.org/split-a-circular-linked-list-into-two-halves/>Split a Circular Linked List into two halves</a><li><a href=https://www.geeksforgeeks.org/sorted-insert-for-circular-linked-list/>Sorted insert for circular linked list</a></ol><p><em><strong>Doubly Linked List:</strong></em><ol><li><a href=http://geeksquiz.com/doubly-linked-list/ rel=bookmark>Doubly Linked List Introduction and Insertion</a><li><a href=https://www.geeksforgeeks.org/delete-a-node-in-a-doubly-linked-list/>Delete a node in a Doubly Linked List</a><li><a href=https://www.geeksforgeeks.org/reverse-a-doubly-linked-list/>Reverse a Doubly Linked List</a><li><a href=https://www.geeksforgeeks.org/the-great-tree-list-recursion-problem/>The Great Tree-List Recursion Problem.</a><li><a href=https://www.geeksforgeeks.org/quicksort-for-linked-list/>QuickSort on Doubly Linked List</a><li><a href=https://www.geeksforgeeks.org/merge-sort-for-doubly-linked-list/ rel=bookmark>Merge Sort for Doubly Linked List</a></ol><p><strong><a href=https://www.geeksforgeeks.org/data-structures/linked-list/>All Articles of Linked List</a></strong><br><a href=http://geeksquiz.com/data-structure/linked-list/ target=_blank>Quiz on Linked List</a><br><a href=https://practice.geeksforgeeks.org/topics/Linked-List/>Coding Practice on Linked List</a><br><a href=https://www.geeksforgeeks.org/category/linked-list/>Recent Articles on Linked List</a><p style=text-align:center><strong><a name=Stack></a>Stack:</strong><ol><li><a href=http://geeksquiz.com/stack-set-1/ target=_blank>Introduction to Stack</a><li><a href=http://geeksquiz.com/stack-set-2-infix-to-postfix/ target=_blank>Infix to Postfix Conversion using Stack</a><li><a href=http://geeksquiz.com/stack-set-4-evaluation-postfix-expression/ target=_blank>Evaluation of Postfix Expression</a><li><a href=http://geeksquiz.com/stack-set-3-reverse-string-using-stack/ target=_blank>Reverse a String using Stack</a><li><a href=https://www.geeksforgeeks.org/implement-two-stacks-in-an-array/>Implement two stacks in an array</a><li><a href=https://www.geeksforgeeks.org/check-for-balanced-parentheses-in-an-expression/>Check for balanced parentheses in an expression</a><li><a href=https://www.geeksforgeeks.org/next-greater-element/>Next Greater Element</a><li><a href=https://www.geeksforgeeks.org/reverse-a-stack-using-recursion/>Reverse a stack using recursion</a><li><a href=https://www.geeksforgeeks.org/sort-a-stack-using-recursion/>Sort a stack using recursion</a><li><a href=https://www.geeksforgeeks.org/the-stock-span-problem/ target=_blank>The Stock Span Problem</a><li><a href=https://www.geeksforgeeks.org/design-and-implement-special-stack-data-structure/>Design and Implement Special Stack Data Structure</a><li><a href=https://www.geeksforgeeks.org/implement-stack-using-queue/>Implement Stack using Queues</a><li><a href=https://www.geeksforgeeks.org/design-a-stack-with-find-middle-operation/>Design a stack with operations on middle element</a><li><a href=https://www.geeksforgeeks.org/efficiently-implement-k-stacks-single-array/ rel=bookmark>How to efficiently implement k stacks in a single array?</a><li><a href=https://www.geeksforgeeks.org/sort-a-stack-using-recursion/>Sort a stack using recursion</a></ol><p><a href=http://geeksquiz.com/data-structure/stack/>Quiz on Stack</a><br><strong><a href=https://www.geeksforgeeks.org/stack/>All Articles on Stack</a></strong><br><a href=https://practice.geeksforgeeks.org/topics/Stack/>Coding Practice on Stack</a><br><a href=https://www.geeksforgeeks.org/category/stack/>Recent Articles on Stack</a><p>&nbsp;<p style=text-align:center><strong><a name=Queue></a>Queue:</strong><ol><li><a href=http://geeksquiz.com/queue-set-1introduction-and-array-implementation/ target=_blank>Queue Introduction and Array Implementation</a><li><a href=http://geeksquiz.com/queue-set-2-linked-list-implementation/ target=_blank>Linked List Implementation of Queue</a><li><a href=https://www.geeksforgeeks.org/applications-of-queue-data-structure/>Applications of Queue Data Structure</a><li><a href=http://geeksquiz.com/priority-queue-set-1-introduction/ rel=bookmark>Priority Queue Introduction</a><li><a href=http://geeksquiz.com/deque-set-1-introduction-applications/ rel=bookmark>Deque (Introduction and Applications)</a><li><a href=https://www.geeksforgeeks.org/implementation-deque-using-circular-array/>Implementation of Deque using circular array</a><li><a href=https://www.geeksforgeeks.org/queue-using-stacks/>Implement Queue using Stacks</a><li><a href=https://www.geeksforgeeks.org/find-a-tour-that-visits-all-stations/ target=_blank>Find the first circular tour that visits all petrol pumps</a><li><a href=https://www.geeksforgeeks.org/maximum-of-all-subarrays-of-size-k/ target=_blank>Maximum of all subarrays of size k</a><li><a href=https://www.geeksforgeeks.org/interesting-method-generate-binary-numbers-1-n/ rel=bookmark>An Interesting Method to Generate Binary Numbers from 1 to n</a><li><a href=https://www.geeksforgeeks.org/efficiently-implement-k-queues-single-array/ rel=bookmark>How to efficiently implement k Queues in a single array?</a></ol><p><a href=http://geeksquiz.com/data-structure/queue/>Quiz on Queue</a><br><strong><a href=https://www.geeksforgeeks.org/queue/>All Articles on Queue</a></strong><br><a href=https://practice.geeksforgeeks.org/topics/Queue/>Coding Practice on Queue</a><br><a href=https://www.geeksforgeeks.org/category/queue/>Recent Articles on Queue</a><p>&nbsp;<p style=text-align:center><strong><a name=BinaryTree></a>Binary Tree:</strong><ol><li><a href=http://geeksquiz.com/binary-tree-set-1-introduction/ target=_blank>Binary Tree Introduction</a><li><a href=http://geeksquiz.com/binary-tree-set-2-properties/ rel=bookmark>Binary Tree Properties</a><li><a href=http://geeksquiz.com/binary-tree-set-3-types-of-binary-tree/ rel=bookmark>Types of Binary Tree</a><li><a href=https://www.geeksforgeeks.org/handshaking-lemma-and-interesting-tree-properties/ rel=bookmark>Handshaking Lemma and Interesting Tree Properties</a><li><a href=http://geeksquiz.com/enumeration-of-binary-trees/ rel=bookmark>Enumeration of Binary Tree</a><li><a href=https://www.geeksforgeeks.org/applications-of-tree-data-structure/>Applications of tree data structure</a><li><a href=https://www.geeksforgeeks.org/618/>Tree Traversals</a><li><a title=\"Permalink to BFS vs DFS for Binary Tree\" href=https://www.geeksforgeeks.org/bfs-vs-dfs-binary-tree/ rel=bookmark>BFS vs DFS for Binary Tree</a><li><a href=https://www.geeksforgeeks.org/level-order-tree-traversal/>Level Order Tree Traversal</a><li><a href=https://www.geeksforgeeks.org/diameter-of-a-binary-tree/>Diameter of a Binary Tree</a><li><a href=https://www.geeksforgeeks.org/inorder-tree-traversal-without-recursion/>Inorder Tree Traversal without Recursion</a><li><a href=https://www.geeksforgeeks.org/inorder-tree-traversal-without-recursion-and-without-stack/>Inorder Tree Traversal without recursion and without stack!</a><li><a href=http://geeksquiz.com/threaded-binary-tree/ rel=bookmark>Threaded Binary Tree</a><li><a href=https://www.geeksforgeeks.org/write-a-c-program-to-find-the-maximum-depth-or-height-of-a-tree/>Maximum Depth or Height of a Tree</a><li><a href=https://www.geeksforgeeks.org/if-you-are-given-two-traversal-sequences-can-you-construct-the-binary-tree/>If you are given two traversal sequences, can you construct the binary tree?</a><li><a href=https://www.geeksforgeeks.org/clone-binary-tree-random-pointers/ rel=bookmark>Clone a Binary Tree with Random Pointers</a><li><a href=https://www.geeksforgeeks.org/construct-tree-from-given-inorder-and-preorder-traversal/>Construct Tree from given Inorder and Preorder traversals</a><li><a href=https://www.geeksforgeeks.org/maximum-width-of-a-binary-tree/>Maximum width of a binary tree</a><li><a href=https://www.geeksforgeeks.org/print-nodes-at-k-distance-from-root/>Print nodes at k distance from root</a><li><a href=https://www.geeksforgeeks.org/print-ancestors-of-a-given-node-in-binary-tree/>Print Ancestors of a given node in Binary Tree</a><li><a href=https://www.geeksforgeeks.org/check-if-a-binary-tree-is-subtree-of-another-binary-tree/>Check if a binary tree is subtree of another binary tree</a><li><a href=https://www.geeksforgeeks.org/connect-nodes-at-same-level/>Connect nodes at same level</a></ol><p><a href=http://geeksquiz.com/data-structure/binary-trees/ target=_blank>Quiz on Binary Tree</a><br><a href=http://geeksquiz.com/data-structure/tree-traversals/ target=_blank>Quiz on Binary Tree Traversals</a><br><strong><a href=https://www.geeksforgeeks.org/binary-tree-2/>All articles on Binary Tree</a></strong><br><a href=https://practice.geeksforgeeks.org/topics/Tree/>Coding Practice on Binary Tree</a><br><a href=https://www.geeksforgeeks.org/category/tree/>Recent Articles on Tree</a><p style=text-align:center><strong style=font-size:14px;line-height:1.5em><a name=BinarySearchTree></a>Binary Search Tree:</strong><ol><li><a href=http://geeksquiz.com/binary-search-tree-set-1-search-and-insertion/ target=_blank>Search and Insert in BST</a><li><a href=http://geeksquiz.com/binary-search-tree-set-2-delete/ target=_blank>Deletion from BST</a><li><a href=https://www.geeksforgeeks.org/find-the-minimum-element-in-a-binary-search-tree/ target=_blank>Minimum value in a Binary Search Tree</a><li><a href=https://www.geeksforgeeks.org/inorder-predecessor-successor-given-key-bst/ rel=bookmark>Inorder predecessor and successor for a given key in BST</a><li><a href=https://www.geeksforgeeks.org/a-program-to-check-if-a-binary-tree-is-bst-or-not/ target=_blank>Check if a binary tree is BST or not</a><li><a href=https://www.geeksforgeeks.org/lowest-common-ancestor-in-a-binary-search-tree/ target=_blank>Lowest Common Ancestor in a Binary Search Tree.</a><li><a href=https://www.geeksforgeeks.org/inorder-successor-in-binary-search-tree/>Inorder Successor in Binary Search Tree</a><li><a href=https://www.geeksforgeeks.org/find-k-th-smallest-element-in-bst-order-statistics-in-bst/>Find k-th smallest element in BST (Order Statistics in BST)</a><li><a href=https://www.geeksforgeeks.org/merge-two-bsts-with-limited-extra-space/>Merge two BSTs with limited extra space</a><li><a href=https://www.geeksforgeeks.org/fix-two-swapped-nodes-of-bst/>Two nodes of a BST are swapped, correct the BST</a><li><a href=https://www.geeksforgeeks.org/floor-and-ceil-from-a-bst/>Floor and Ceil from a BST</a><li><a href=https://www.geeksforgeeks.org/in-place-conversion-of-sorted-dll-to-balanced-bst/>In-place conversion of Sorted DLL to Balanced BST</a><li><a href=https://www.geeksforgeeks.org/find-a-pair-with-given-sum-in-bst/>Find a pair with given sum in a Balanced BST</a><li><a href=https://www.geeksforgeeks.org/total-number-of-possible-binary-search-trees-with-n-keys/>Total number of possible Binary Search Trees with n keys</a><li><a href=https://www.geeksforgeeks.org/merge-two-balanced-binary-search-trees/>Merge Two Balanced Binary Search Trees</a><li><a href=https://www.geeksforgeeks.org/binary-tree-to-binary-search-tree-conversion/>Binary Tree to Binary Search Tree Conversion</a></ol><p><a href=http://geeksquiz.com/data-structure/binary-search-trees/>Quiz on Binary Search Trees</a><br><a href=http://geeksquiz.com/data-structure/balanced-binary-search-trees/>Quiz on Balanced Binary Search Trees</a><br><strong><a href=https://www.geeksforgeeks.org/binary-search-tree/>All Articles on Binary Search Tree</a></strong><br><a href=https://practice.geeksforgeeks.org/topics/BST/>Coding Practice on Binary Search Tree</a><br><a href=https://www.geeksforgeeks.org/category/binary-search-tree/>Recent Articles on BST</a><p style=text-align:center><strong><a name=Heap></a>Heap:</strong><ol><li><a href=http://geeksquiz.com/binary-heap/ rel=bookmark>Binary Heap</a><li><a href=https://www.geeksforgeeks.org/why-is-binary-heap-preferred-over-bst-for-priority-queue/>Why is Binary Heap Preferred over BST for Priority Queue?</a><li><a href=https://www.geeksforgeeks.org/binomial-heap-2/ rel=bookmark>Binomial Heap</a><li><a href=https://www.geeksforgeeks.org/fibonacci-heap-set-1-introduction/>Fibonacci Heap</a><li><a href=http://geeksquiz.com/heap-sort/ target=_blank>Heap Sort</a><li><a href=https://www.geeksforgeeks.org/k-largestor-smallest-elements-in-an-array/ target=_blank>K\\xe2\\x80\\x99th Largest Element in an array</a><li><a href=https://www.geeksforgeeks.org/nearly-sorted-algorithm/ target=_blank>Sort an almost sorted array/</a><li><a href=https://www.geeksforgeeks.org/tournament-tree-and-binary-heap/>Tournament Tree (Winner Tree) and Binary Heap</a></ol><p><strong><a href=https://www.geeksforgeeks.org/heap/>All Articles on Heap</a></strong><br><a href=http://geeksquiz.com/data-structure/heap/>Quiz on Heap</a><br><a href=\"https://practice.geeksforgeeks.org/tag-page.php?tag=heap&isCmp=0\">Coding Practice on Heap</a><br><a href=https://www.geeksforgeeks.org/category/heap/>Recent Articles on Heap</a><p style=text-align:center><strong><a name=Hashing></a>Hashing:</strong><ol><li><a href=http://geeksquiz.com/hashing-set-1-introduction/ target=_blank>Hashing Introduction</a><li><a href=http://geeksquiz.com/hashing-set-2-separate-chaining/>Separate Chaining for Collision Handling</a><li><a href=http://geeksquiz.com/hashing-set-3-open-addressing/>Open Addressing for Collision Handling</a><li><a href=https://www.geeksforgeeks.org/print-binary-tree-vertical-order-set-2/ target=_blank>Print a Binary Tree in Vertical Order</a><li><a href=https://www.geeksforgeeks.org/find-whether-an-array-is-subset-of-another-array-set-1/ target=_blank>Find whether an array is subset of another array</a><li><a href=https://www.geeksforgeeks.org/union-and-intersection-of-two-linked-lists/ target=_blank>Union and Intersection of two Linked Lists</a><li><a href=https://www.geeksforgeeks.org/write-a-c-program-that-given-a-set-a-of-n-numbers-and-another-number-x-determines-whether-or-not-there-exist-two-elements-in-s-whose-sum-is-exactly-x/ target=_blank>Find a pair with given sum</a><li><a href=https://www.geeksforgeeks.org/check-given-array-contains-duplicate-elements-within-k-distance/ target=_blank>Check if a given array contains duplicate elements within k distance from each other</a><li><a href=https://www.geeksforgeeks.org/find-itinerary-from-a-given-list-of-tickets/ rel=bookmark>Find Itinerary from a given list of tickets</a><li><a href=https://www.geeksforgeeks.org/find-number-of-employees-under-every-manager/ rel=bookmark>Find number of Employees Under every Employee</a></ol><p><a href=http://geeksquiz.com/data-structure/hash/ target=_blank>Quiz on Hashing</a><br><strong><a href=https://www.geeksforgeeks.org/hashing/>All Articles on Hashing</a></strong><br><a href=https://practice.geeksforgeeks.org/topics/Hashing/>Coding Practice on Hashing</a><br><a href=https://www.geeksforgeeks.org/category/hash/>Recent Articles on Hashing</a><p>&nbsp;<p style=text-align:center><strong><a name=Graph></a>Graph:</strong><p><em><strong>Introduction, DFS and BFS:</strong></em><ol><li><a href=https://www.geeksforgeeks.org/graph-and-its-representations/ rel=bookmark>Graph and its representations</a><li><a href=https://www.geeksforgeeks.org/breadth-first-traversal-for-a-graph/ rel=bookmark>Breadth First Traversal for a Graph</a><li><a href=https://www.geeksforgeeks.org/depth-first-traversal-for-a-graph/ rel=bookmark>Depth First Traversal for a Graph</a><li><a href=https://www.geeksforgeeks.org/applications-of-depth-first-search/ rel=bookmark>Applications of Depth First Search</a><li><a href=https://www.geeksforgeeks.org/applications-of-breadth-first-traversal/ rel=bookmark>Applications of Breadth First Traversal</a><li><a href=https://www.geeksforgeeks.org/detect-cycle-in-a-graph/ rel=bookmark>Detect Cycle in a Directed Graph</a><li><a href=https://www.geeksforgeeks.org/union-find/ rel=bookmark>Detect Cycle in a an Undirected Graph</a><li><a href=https://www.geeksforgeeks.org/detect-cycle-undirected-graph/ rel=bookmark>Detect cycle in an undirected graph</a><li><a href=https://www.geeksforgeeks.org/find-longest-path-directed-acyclic-graph/ rel=bookmark>Longest Path in a Directed Acyclic Graph</a><li><a href=https://www.geeksforgeeks.org/topological-sorting/ rel=bookmark>Topological Sorting</a><li><a href=https://www.geeksforgeeks.org/bipartite-graph/ rel=bookmark>Check whether a given graph is Bipartite or not</a><li><a href=https://www.geeksforgeeks.org/snake-ladder-problem-2/ rel=bookmark>Snake and Ladder Problem</a><li><a href=https://www.geeksforgeeks.org/minimize-cash-flow-among-given-set-friends-borrowed-money/ rel=bookmark>Minimize Cash Flow among a given set of friends who have borrowed money from each other</a><li><a href=https://www.geeksforgeeks.org/boggle-find-possible-words-board-characters/ rel=bookmark>Boggle (Find all possible words in a board of characters)</a><li><a href=https://www.geeksforgeeks.org/assign-directions-to-edges-so-that-the-directed-graph-remains-acyclic/ rel=bookmark>Assign directions to edges so that the directed graph remains acyclic</a></ol><p><strong><a href=https://www.geeksforgeeks.org/graph-data-structure-and-algorithms/>All Articles on Graph Data Structure</a></strong><br><a href=http://geeksquiz.com/data-structure/graph/>Quiz on Graph</a><br><a href=http://geeksquiz.com/algorithms/graph-traversals/>Quiz on Graph Traversals</a><br><a href=http://geeksquiz.com/algorithms/graph-shortest-paths/>Quiz on Graph Shortest Paths</a><br><a href=http://geeksquiz.com/algorithms/graph-minimum-spanning-tree/>Quiz on Graph Minimum Spanning Tree</a><br><a href=https://practice.geeksforgeeks.org/topics/Graph/>Coding Practice on Graph</a><br><a href=https://www.geeksforgeeks.org/category/graph/>Recent Articles on Graph</a><p>&nbsp;<p style=text-align:center><strong><a name=AdvancedDataStructure></a>Advanced Data Structure:</strong><p><em><strong>Advanced Lists:</strong></em><ol><li><a href=https://www.geeksforgeeks.org/memory-efficient-doubly-linked-list/>Memory efficient doubly linked list</a><li><a href=https://www.geeksforgeeks.org/xor-linked-list-a-memory-efficient-doubly-linked-list-set-1/>XOR Linked List \\xe2\\x80\\x93 A Memory Efficient Doubly Linked List | Set 1</a><li><a href=https://www.geeksforgeeks.org/xor-linked-list-a-memory-efficient-doubly-linked-list-set-2/>XOR Linked List \\xe2\\x80\\x93 A Memory Efficient Doubly Linked List | Set 2</a><li><a href=https://www.geeksforgeeks.org/skip-list/>Skip List | Set 1 (Introduction)</a><li><a href=https://www.geeksforgeeks.org/self-organizing-list-set-1-introduction/>Self Organizing List | Set 1 (Introduction)</a><li><a href=https://www.geeksforgeeks.org/unrolled-linked-list-set-1-introduction/>Unrolled Linked List | Set 1 (Introduction)</a></ol><p><em><strong>Segment Tree:</strong></em><ol><li><a href=https://www.geeksforgeeks.org/segment-tree-set-1-sum-of-given-range/ rel=bookmark>Segment Tree | Set 1 (Sum of given range)</a><li><a href=https://www.geeksforgeeks.org/segment-tree-set-1-range-minimum-query/ target=_blank>Segment Tree | Set 2 (Range Minimum Query)</a><li><a title=\"Permalink to Lazy Propagation in Segment Tree\" href=https://www.geeksforgeeks.org/lazy-propagation-in-segment-tree/ rel=bookmark>Lazy Propagation in Segment Tree</a><li><a href=https://www.geeksforgeeks.org/persistent-segment-tree-set-1-introduction/>Persistent Segment Tree | Set 1 (Introduction)</a></ol><p><strong><a href=https://www.geeksforgeeks.org/tag/segment-tree/>All articles on Segment Tree</a></strong><br><em><strong>Trie:</strong></em><ol><li><a href=https://www.geeksforgeeks.org/trie-insert-and-search/ rel=bookmark>Trie | (Insert and Search)</a><li><a href=https://www.geeksforgeeks.org/trie-delete/ rel=bookmark>Trie | (Delete)</a><li><a href=https://www.geeksforgeeks.org/longest-prefix-matching-a-trie-based-solution-in-java/ rel=bookmark>Longest prefix matching \\xe2\\x80\\x93 A Trie based solution in Java</a><li><a href=https://www.geeksforgeeks.org/print-unique-rows/ rel=bookmark>Print unique rows in a given boolean matrix</a><li><a href=https://www.geeksforgeeks.org/implement-reverse-dns-look-cache/ rel=bookmark>How to Implement Reverse DNS Look Up Cache?</a><li><a href=https://www.geeksforgeeks.org/implement-forward-dns-look-cache/ rel=bookmark>How to Implement Forward DNS Look Up Cache?</a></ol><p><strong><a href=https://www.geeksforgeeks.org/tag/trie/>All Articles on Trie</a></strong><br><em><strong>Binary Indexed Tree:</strong></em><ol><li><a href=https://www.geeksforgeeks.org/binary-indexed-tree-or-fenwick-tree-2/>Binary Indexed Tree</a><li><a href=https://www.geeksforgeeks.org/two-dimensional-binary-indexed-tree-or-fenwick-tree/ rel=bookmark>Two Dimensional Binary Indexed Tree or Fenwick Tree</a><li><a href=https://www.geeksforgeeks.org/binary-indexed-tree-range-updates-point-queries/ rel=bookmark>Binary Indexed Tree : Range Updates and Point Queries</a><li><a href=https://www.geeksforgeeks.org/binary-indexed-tree-range-update-range-queries/ rel=bookmark>Binary Indexed Tree : Range Update and Range Queries</a></ol><p><strong><a href=https://www.geeksforgeeks.org/tag/binary-indexed-tree/>All Articles on Binary Indexed Tree</a></strong><br><em><strong>Suffix Array and <em><strong>Suffix Tree</strong></em></strong></em>:<ol><li><a href=https://www.geeksforgeeks.org/suffix-array-set-1-introduction/ rel=bookmark>Suffix Array Introduction</a><li><a href=https://www.geeksforgeeks.org/suffix-array-set-2-a-nlognlogn-algorithm/ rel=bookmark>Suffix Array nLogn Algorithm</a><li><a title=\"Permalink to \\xc2\\xad\\xc2\\xadkasai\\xe2\\x80\\x99s Algorithm for Construction of LCP array from Suffix Array\" href=https://www.geeksforgeeks.org/%c2%ad%c2%adkasais-algorithm-for-construction-of-lcp-array-from-suffix-array/ rel=bookmark>kasai\\xe2\\x80\\x99s Algorithm for Construction of LCP array from Suffix Array</a><li><a href=https://www.geeksforgeeks.org/pattern-searching-set-8-suffix-tree-introduction/ rel=bookmark>Suffix Tree Introduction</a><li><a href=https://www.geeksforgeeks.org/ukkonens-suffix-tree-construction-part-1/ rel=bookmark>Ukkonen\\xe2\\x80\\x99s Suffix Tree Construction \\xe2\\x80\\x93 Part 1</a><li><a href=https://www.geeksforgeeks.org/ukkonens-suffix-tree-construction-part-2/ rel=bookmark>Ukkonen\\xe2\\x80\\x99s Suffix Tree Construction \\xe2\\x80\\x93 Part 2</a><li><a href=https://www.geeksforgeeks.org/ukkonens-suffix-tree-construction-part-3/ rel=bookmark>Ukkonen\\xe2\\x80\\x99s Suffix Tree Construction \\xe2\\x80\\x93 Part 3</a><li><a href=https://www.geeksforgeeks.org/ukkonens-suffix-tree-construction-part-4/ rel=bookmark>Ukkonen\\xe2\\x80\\x99s Suffix Tree Construction \\xe2\\x80\\x93 Part 4,</a><li><a href=https://www.geeksforgeeks.org/ukkonens-suffix-tree-construction-part-5/ rel=bookmark>Ukkonen\\xe2\\x80\\x99s Suffix Tree Construction \\xe2\\x80\\x93 Part 5</a><li><a href=https://www.geeksforgeeks.org/ukkonens-suffix-tree-construction-part-6/ rel=bookmark>Ukkonen\\xe2\\x80\\x99s Suffix Tree Construction \\xe2\\x80\\x93 Part 6</a><li><a href=https://www.geeksforgeeks.org/generalized-suffix-tree-1/ rel=bookmark>Generalized Suffix Tree</a><li><a href=https://www.geeksforgeeks.org/suffix-tree-application-4-build-linear-time-suffix-array/>Build Linear Time Suffix Array using Suffix Tree</a><li><a href=https://www.geeksforgeeks.org/suffix-tree-application-1-substring-check/ rel=bookmark>Substring Check</a><li><a href=https://www.geeksforgeeks.org/suffix-tree-application-2-searching-all-patterns/ rel=bookmark>Searching All Patterns</a><li><a href=https://www.geeksforgeeks.org/suffix-tree-application-3-longest-repeated-substring/ rel=bookmark>Longest Repeated Substring,</a><li><a href=https://www.geeksforgeeks.org/suffix-tree-application-6-longest-palindromic-substring/ rel=bookmark>Longest Common Substring, Longest Palindromic Substring</a></ol><p><strong><br><a href=https://www.geeksforgeeks.org/tag/suffix-tree/>All Articles on Suffix Tree</a></strong><br><strong>AVL Tree:</strong><ol><li><a href=https://www.geeksforgeeks.org/avl-tree-set-1-insertion/ rel=bookmark>AVL Tree | Set 1 (Insertion)</a><li><a href=https://www.geeksforgeeks.org/avl-tree-set-2-deletion/ rel=bookmark>AVL Tree | Set 2 (Deletion)</a><li><a href=http://geeksquiz.com/avl-with-duplicate-keys/ rel=bookmark>AVL with duplicate keys</a></ol><p><em><strong>Splay Tree:</strong></em><ol><li><a href=https://www.geeksforgeeks.org/splay-tree-set-1-insert/ rel=bookmark>Splay Tree | Set 1 (Search)</a><li><a href=https://www.geeksforgeeks.org/splay-tree-set-2-insert-delete/ rel=bookmark>Splay Tree | Set 2 (Insert)</a></ol><p><em><strong>B Tree:</strong></em><ol><li><a href=https://www.geeksforgeeks.org/b-tree-set-1-introduction-2/ rel=bookmark>B-Tree | Set 1 (Introduction)</a><li><a href=https://www.geeksforgeeks.org/b-tree-set-1-insert-2/ rel=bookmark>B-Tree | Set 2 (Insert)</a><li><a href=https://www.geeksforgeeks.org/b-tree-set-3delete/ rel=bookmark>B-Tree | Set 3 (Delete)</a></ol><p><em><strong>Red-Black Tree:</strong></em><ol><li><a href=https://www.geeksforgeeks.org/red-black-tree-set-1-introduction-2/ target=_blank>Red-Black Tree Introduction</a><li><a href=https://www.geeksforgeeks.org/red-black-tree-set-2-insert/ target=_blank>Red Black Tree Insertion.</a><li><a href=https://www.geeksforgeeks.org/red-black-tree-set-3-delete-2/ rel=bookmark>Red-Black Tree Deletion</a><li><a href=http://geeksquiz.com/c-program-red-black-tree-insertion/ rel=bookmark>Program for Red Black Tree Insertion</a></ol><p><strong><br><a href=https://www.geeksforgeeks.org/tag/self-balancing-bst/>All Articles on Self-Balancing BSTs</a></strong><p>&nbsp;<p><em><strong>K Dimensional Tree:</strong></em><ol><li><a href=https://www.geeksforgeeks.org/k-dimensional-tree/>KD Tree (Search and Insert)</a><li><a href=https://www.geeksforgeeks.org/k-dimensional-tree-set-2-find-minimum/ target=_blank>K D Tree (Find Minimum)</a><li><a href=https://www.geeksforgeeks.org/k-dimensional-tree-set-3-delete/>K D Tree (Delete)</a></ol><p><strong><em>Others:</em></strong><ol><ol><li><a href=https://www.geeksforgeeks.org/treap-a-randomized-binary-search-tree/>Treap (A Randomized Binary Search Tree)</a><li><a href=https://www.geeksforgeeks.org/ternary-search-tree/ rel=bookmark>Ternary Search Tree</a><li><a href=https://www.geeksforgeeks.org/interval-tree/ rel=bookmark>Interval Tree</a><li><a href=https://www.geeksforgeeks.org/implement-lru-cache/ rel=bookmark>Implement LRU Cache</a><li><a href=https://www.geeksforgeeks.org/sort-numbers-stored-on-different-machines/ rel=bookmark>Sort numbers stored on different machines</a><li><a href=https://www.geeksforgeeks.org/find-the-k-most-frequent-words-from-a-file/ rel=bookmark>Find the k most frequent words from a file</a><li><a href=https://www.geeksforgeeks.org/given-a-sequence-of-words-print-all-anagrams-together-set-2/ rel=bookmark>Given a sequence of words, print all anagrams together</a><li><a href=https://www.geeksforgeeks.org/tournament-tree-and-binary-heap/>Tournament Tree (Winner Tree) and Binary Heap</a><li><a href=https://www.geeksforgeeks.org/decision-trees-fake-coin-puzzle/>Decision Trees \\xe2\\x80\\x93 Fake (Counterfeit) Coin Puzzle (12 Coin Puzzle)</a><li><a href=https://www.geeksforgeeks.org/g-fact-87/>Spaghetti Stack</a><li><a href=https://www.geeksforgeeks.org/data-structure-dictionary-spell-checker/ rel=bookmark>Data Structure for Dictionary and Spell Checker?</a><li><a title=\"Permalink to Cartesian Tree\" href=https://www.geeksforgeeks.org/cartesian-tree/ rel=bookmark>Cartesian Tree</a><li><a title=\"Permalink to Cartesian Tree Sorting\" href=https://www.geeksforgeeks.org/cartesian-tree-sorting/ rel=bookmark>Cartesian Tree Sorting</a><li><a title=\"Permalink to Sparse Set\" href=https://www.geeksforgeeks.org/sparse-set/ rel=bookmark>Sparse Set</a><li><a title=\"Permalink to Centroid Decomposition of Tree\" href=https://www.geeksforgeeks.org/centroid-decomposition-of-tree/ rel=bookmark>Centroid Decomposition of Tree</a><li><a title=\"Permalink to Gomory-Hu Tree | Set 1 (Introduction)\" href=https://www.geeksforgeeks.org/gomory-hu-tree-introduction/ rel=bookmark>Gomory-Hu Tree</a></ol></ol><p><a href=https://www.geeksforgeeks.org/category/advanced-data-structure/>Recent Articles on Advanced Data Structures.</a><p style=text-align:center><strong style=font-size:14px;line-height:1.5em><a name=Array></a>Array:</strong><ol><ol><ol><li><a href=https://www.geeksforgeeks.org/search-insert-and-delete-in-an-unsorted-array/>Search, insert and delete in an unsorted array</a><li><a href=https://www.geeksforgeeks.org/search-insert-and-delete-in-a-sorted-array/>Search, insert and delete in a sorted array</a><li><a href=https://www.geeksforgeeks.org/write-a-program-to-reverse-an-array/>Write a program to reverse an array</a><li><a href=https://www.geeksforgeeks.org/leaders-in-an-array/>Leaders in an array</a><li><a href=https://www.geeksforgeeks.org/write-a-c-program-that-given-a-set-a-of-n-numbers-and-another-number-x-determines-whether-or-not-there-exist-two-elements-in-s-whose-sum-is-exactly-x/>Given an array A[] and a number x, check for pair in A[] with sum as x</a><li><a href=https://www.geeksforgeeks.org/majority-element/>Majority Element</a><li><a href=https://www.geeksforgeeks.org/find-the-number-occurring-odd-number-of-times/>Find the Number Occurring Odd Number of Times</a><li><a href=https://www.geeksforgeeks.org/largest-sum-contiguous-subarray/>Largest Sum Contiguous Subarray</a><li><a href=https://www.geeksforgeeks.org/find-the-missing-number/>Find the Missing Number</a><li><a href=https://www.geeksforgeeks.org/search-an-element-in-a-sorted-and-pivoted-array/>Search an element in a sorted and pivoted array</a><li><a href=https://www.geeksforgeeks.org/merge-one-array-of-size-n-into-another-one-of-size-mn/>Merge an array of size n into another array of size m+n</a><li><a href=https://www.geeksforgeeks.org/median-of-two-sorted-arrays/>Median of two sorted arrays</a><li><a href=https://www.geeksforgeeks.org/array-rotation/>Program for array rotation</a><li><a href=https://www.geeksforgeeks.org/program-for-array-rotation-continued-reversal-algorithm/>Reversal algorithm for array rotation</a><li><a href=https://www.geeksforgeeks.org/block-swap-algorithm-for-array-rotation/>Block swap algorithm for array rotation</a><li><a href=https://www.geeksforgeeks.org/maximum-sum-such-that-no-two-elements-are-adjacent/>Maximum sum such that no two elements are adjacent</a><li><a href=https://www.geeksforgeeks.org/sort-elements-by-frequency/>Sort elements by frequency | Set 1</a><li><a href=https://www.geeksforgeeks.org/counting-inversions/>Count Inversions in an array</a></ol></ol></ol><p><strong><a href=https://www.geeksforgeeks.org/array/>All Articles on Array</a></strong><br><a href=https://practice.geeksforgeeks.org/topics/Array/>Coding Practice on Array</a><br><a href=http://geeksquiz.com/data-structure/array/>Quiz on Array</a><br><a href=https://practice.geeksforgeeks.org/topics/Array/>Coding Practice on Array</a><br><a href=https://www.geeksforgeeks.org/category/c-arrays/>Recent Articles on Array</a><p>&nbsp;<p style=text-align:center><strong><a name=Matrix></a>Matrix:</strong><ol><ol><ol><li><a href=https://www.geeksforgeeks.org/search-in-row-wise-and-column-wise-sorted-matrix/>Search in a row wise and column wise sorted matrix</a><li><a href=https://www.geeksforgeeks.org/print-a-given-matrix-in-spiral-form/>Print a given matrix in spiral form</a><li><a href=https://www.geeksforgeeks.org/a-boolean-matrix-question/>A Boolean Matrix Question</a><li><a title=\"Permanent link to Print unique rows in a given boolean matrix\" href=https://www.geeksforgeeks.org/print-unique-rows/ rel=bookmark>Print unique rows in a given boolean matrix</a><li><a href=https://www.geeksforgeeks.org/maximum-size-sub-matrix-with-all-1s-in-a-binary-matrix/>Maximum size square sub-matrix with all 1s</a><li><a href=https://www.geeksforgeeks.org/print-unique-rows/>Print unique rows in a given boolean matrix</a><li><a href=https://www.geeksforgeeks.org/inplace-m-x-n-size-matrix-transpose/>Inplace M x N size matrix transpose | Updated</a><li><a href=https://www.geeksforgeeks.org/dynamic-programming-set-27-max-sum-rectangle-in-a-2d-matrix/>Dynamic Programming | Set 27 (Maximum sum rectangle in a 2D matrix)</a><li><a title=\"Permanent link to Divide and Conquer | Set 5 (Strassen\\xe2\\x80\\x99s Matrix Multiplication)\" href=https://www.geeksforgeeks.org/strassens-matrix-multiplication/ rel=bookmark>Strassen\\xe2\\x80\\x99s Matrix Multiplication</a><li><a title=\"Permanent link to Create a matrix with alternating rectangles of O and X\" href=https://www.geeksforgeeks.org/create-a-matrix-with-alternating-rectangles-of-0-and-x/ rel=bookmark>Create a matrix with alternating rectangles of O and X</a><li><a title=\"Permanent link to Print all elements in sorted order from row and column wise sorted matrix\" href=https://www.geeksforgeeks.org/print-elements-sorted-order-row-column-wise-sorted-matrix/ rel=bookmark>Print all elements in sorted order from row and column wise sorted matrix</a><li><a title=\"Permanent link to Given an n x n square matrix, find sum of all sub-squares of size k x k\" href=https://www.geeksforgeeks.org/given-n-x-n-square-matrix-find-sum-sub-squares-size-k-x-k/ rel=bookmark>Given an n x n square matrix, find sum of all sub-squares of size k x k</a><li><a title=\"Permanent link to Count number of islands where every island is row-wise and column-wise separated\" href=https://www.geeksforgeeks.org/count-number-islands-every-island-separated-line/ rel=bookmark>Count number of islands where every island is row-wise and column-wise separated</a><li><a title=\"Permanent link to Find a common element in all rows of a given row-wise sorted matrix\" href=https://www.geeksforgeeks.org/find-common-element-rows-row-wise-sorted-matrix/ rel=bookmark>Find a common element in all rows of a given row-wise sorted matrix</a></ol></ol></ol><p><strong><a href=https://www.geeksforgeeks.org/matrix/>All Articles on Matrix</a></strong><br><a href=https://practice.geeksforgeeks.org/topics/Matrix/>Coding Practice on Matrix</a><br><a href=https://www.geeksforgeeks.org/category/matrix/>Recent Articles on Matrix.</a><p>&nbsp;<p style=text-align:center><strong><a name=Misc></a>Misc:</strong><ol><ol><ol><li><a href=http://geeksquiz.com/commonly-asked-data-structure-interview-questions-set-1/ target=_blank>Commonly Asked Data Structure Interview Questions | Set 1</a><li><a href=http://geeksquiz.com/data-structure-n-elements-o1-operations/ rel=bookmark>A data structure for n elements and O(1) operations</a><li><a href=https://www.geeksforgeeks.org/expression-tree/>Expression Tree</a></ol></ol></ol><h3 style=text-align:center><a href=https://practice.geeksforgeeks.org/courses rel=noopener target=_blank><b>GeeksforGeeks Courses</b></a></h3><blockquote><h3><a href=\"https://practice.geeksforgeeks.org/courses/complete-interview-preparation?utm_source=CIP-A&utm_medium=Article&utm_campaign=a\" rel=noopener target=_blank>Complete Interview Preparation</a></h3><p>An enriching course designed by the experts to help you crack the coding interview of top product or service-based organizations. Get 200+ algorithmic coding problems, premium lecture videos, subject-wise theoretical content, lifetime access, and much more. Here you&#8217;ll get prepared for each and every subject & skill relevant to the interview whether it be core CS subjects, programming language, reasoning & aptitude, resume building, etc.<h3><a href=\"https://practice.geeksforgeeks.org/courses/live?utm_source=article&utm_medium=article&utm_campaign=live-courses-article\" rel=noopener target=_blank>Live Courses</a></h3><p>Get best-in-industry real-time GFG Live Courses to upskill yourself and get into your dream company. You can attend these live classes from any geographical location and here you can ask your doubts to the instructor just like an offline classroom program. Do check out these worthwhile Live Courses by GeeksforGeeks &#8211; <a href=\"https://practice.geeksforgeeks.org/courses/geeks-classes-live?utm_source=article&utm_medium=article&utm_campaign=geeks-classes-live-article\" rel=noopener target=_blank>DSA Live for Working Professionals</a>, <a href=\"https://practice.geeksforgeeks.org/courses/system-design-live?utm_source=article&utm_medium=article&utm_campaign=system-design-live-article\" rel=noopener target=_blank>System Design Live</a>, <a href=\"https://practice.geeksforgeeks.org/courses/competitive-programming-live?utm_source=article&utm_medium=article&utm_campaign=cp-live-article\" rel=noopener target=_blank>Competitive Programming Live</a>, and more!<h3>Language Foundation Courses[<a href=\"https://practice.geeksforgeeks.org/courses/CPP-Foundation?utm_source=article&utm_medium=article&utm_campaign=cpp-foundation-article\" rel=noopener target=_blank>C++</a> / <a href=\"https://practice.geeksforgeeks.org/courses/Java-Foundation?utm_source=article&utm_medium=article&utm_campaign=java-foundation-article\" rel=noopener target=_blank>JAVA</a> / <a href=\"https://practice.geeksforgeeks.org/courses/Python-Foundation?utm_source=article&utm_medium=article&utm_campaign=python-foundation-article\" rel=noopener target=_blank>Python</a> ]</h3><p>Learn any programming language from scratch and understand all its fundamental concepts for a strong programming foundation in the easiest possible manner with help of GeeksforGeeks Language Foundation Courses \\xe2\\x80\\x93 Java Foundation | Python Foundation | C++ Foundation. These courses have been designed for absolute beginners who wish to kickstart and build their foundations of programming.</blockquote><div class=textBasedMannualAds_2><p><a href=\"https://practice.geeksforgeeks.org/contest/job-a-thon-6-hiring-challenge?utm_source=article&utm_medium=in-article&utm_campaign=in-article\" target=_blank rel=noopener><img class=ad_course_banner src=\"https://media.geeksforgeeks.org/wp-content/post-ads-banner/2022-02-14-14-33-48-Job-A-Thon_-6-(-1200x304-) (2).jpg\" alt></a></div><br><div id=AP_G4GR_6></div><div id=personalNoteDiv class=\"clear hideIt\"><div class=\"personalNoteHeader clear\"><span class=noteHeaderText>My Personal Notes</span>\\n<span class=hideNotesDivIcon><i class=\"material-icons personalNotesIcon\">arrow_drop_up</i></span></div><div class=collapsableDivPersonalNotes><textarea maxlength=5000 id=enteredPersonalNote class=personalNoteStyle placeholder=\"Add your personal notes here! (max 5000 chars)\"></textarea><div class=saveNoteDiv><span class=processSaveNote></span><button class=savePersonalNoteButton onclick=saveUserPersonalNote()>Save</button></div></div></div></div><footer class=entry-meta></footer></article><footer class=entry-meta><br></br><p>Writing code in comment? Please use <a href=https://ide.geeksforgeeks.org/>ide.geeksforgeeks.org</a>, generate link and share the link here.</a></p><br><div class=disqus-comment><button id=comment class=action-button style=\"width:45%;cursor:pointer;margin-right:0%;box-shadow:0 2px 5px rgba(0,0,0,.4),0 6px 20px transparent;border-color:#4cb96b;border-radius:4px\">\\nLoad Comments</button></div><div id=disqus_thread></div></div></div><script>jQuery(document).ready(function($){$(\\'#comment\\').on(\\'click\\',function(){$.ajax({type:\"GET\",url:\"http://geeksforgeeks.disqus.com/embed.js\",dataType:\"script\",cache:!0});$(this).fadeOut()});if(window.location.href.indexOf(\\'#comment\\') > -1){jQuery(\\'#comment\\').click();}});</script><style>#share-buttons img{width:35px;padding:5px;border:0;box-shadow:0;display:inline}#share-buttons a:hover{text-decoration:none}</style><div id=secondary class=widget-area role=complementary><aside id=text-15 class=\"widget widget_text\"><div class=textwidget><div id=GFG_AD_Desktop_RightSideBar_ATF_300x600 style=min-width:300px;min-height:600px></div></div></aside><div class=heading><div class=def-title_wrap><div class=title>What\\'s New</div><div id=edit-icon></div></div></div><div class=card-layout><div class=content-wrapper><div class=side--container_wscard><a href=\"https://practice.geeksforgeeks.org/courses/complete-interview-preparation?utm_source=right-bar&utm_medium=gfg&utm_campaign=dsa&utm_term=dsa\"><div class=card-content><div class=thumbnail><img src=https://media.geeksforgeeks.org/wp-content/post-ads-banner/2021-12-29-16-30-50-CIP_Icon.png class=img-fluid></div><div class=content><div class=head>Complete Interview Preparation</div><div class=meta></div><div class=ref>View Details</div></div></div></a></div></div></div><div class=card-layout><div class=content-wrapper><div class=side--container_wscard style=margin-top:-20px><a href=\"https://practice.geeksforgeeks.org/courses/system-design-live?utm_source=right-bar&utm_medium=gfg&utm_campaign=dsa&utm_term=dsa\"><div class=card-content><div class=thumbnail><img src=\"https://media.geeksforgeeks.org/wp-content/post-ads-banner/2021-12-29-11-27-51-SD Icon.png\" class=img-fluid></div><div class=content><div class=head>System Design-Live Classes for Working Professionals</div><div class=meta></div><div class=ref>View Details</div></div></div></a></div></div></div><div class=card-layout style=margin-bottom:20px><div class=content-wrapper><div class=side--container_wscard style=margin-top:-20px><a href=\"https://practice.geeksforgeeks.org/courses/dsa-self-paced?utm_source=right-bar&utm_medium=gfg&utm_campaign=dsa&utm_term=dsa\"><div class=card-content><div class=thumbnail><img src=\"https://media.geeksforgeeks.org/wp-content/post-ads-banner/2021-12-29-11-18-16-DSA_Ad_icon (1).png\" class=img-fluid></div><div class=content><div class=head>Data Structures & Algorithms- Self Paced Course</div><div class=meta></div><div class=ref>View Details</div></div></div></a></div></div></div><aside id=text-16 class=\"widget widget_text\"><div class=textwidget><div id=GFG_AD_Desktop_RightSideBar_MTF_300x600 style=min-width:300px;min-height:600px></div></div></aside><div class=\"side--container mb-40\"><div class=card-layout><div class=heading><div class=def-title_wrap><div class=title>Most Popular Articles</div></div></div><div class=\"rightbar--articles_container fw-medium\"><div class=content-wrapper><ul class=\"content-wrapper content-wrapper_links\"><li><a href=\"https://www.geeksforgeeks.org/must-do-coding-questions-for-product-based-companies/?ref=leftbar-rightbar\" target=_blank>Must Do Coding Questions for Product Based Companies</a><li><a href=\"https://www.geeksforgeeks.org/algorithm-to-solve-rubiks-cube/?ref=leftbar-rightbar\" target=_blank>Algorithm to solve Rubik\\'s Cube</a><li><a href=\"https://www.geeksforgeeks.org/group-by-function-in-r-using-dplyr/?ref=leftbar-rightbar\" target=_blank>Group by function in R using Dplyr</a><li><a href=\"https://www.geeksforgeeks.org/image-segmentation-using-pythons-scikit-image-module/?ref=leftbar-rightbar\" target=_blank>Image Segmentation using Python\\'s scikit-image module</a><li><a href=\"https://www.geeksforgeeks.org/python-datetime-strptime-function/?ref=leftbar-rightbar\" target=_blank>Python DateTime - strptime() Function</a></ul></div></div></div></div><aside id=text-17 class=\"widget widget_text\"><div class=textwidget><div id=GFG_AD_Desktop_RightSideBar_BTF_300x600 style=min-width:300px;min-height:600px></div></div></aside><div class=\"side--container mb-40\"><div class=card-layout><div class=heading><div class=def-title_wrap><div class=title>Most Visited Articles</div></div></div><div class=\"rightbar--articles_container fw-medium\"><div class=content-wrapper><ul class=\"content-wrapper content-wrapper_links\"><li><a href=\"https://www.geeksforgeeks.org/iterate-through-list-of-dictionaries-in-python/?ref=leftbar-rightbar\" target=_blank>Iterate through list of dictionaries in Python</a><li><a href=\"https://www.geeksforgeeks.org/converting-string-yyyy-mm-dd-into-datetime-in-python/?ref=leftbar-rightbar\" target=_blank>Converting string \\'yyyy-mm-dd\\' into DateTime in Python</a><li><a href=\"https://www.geeksforgeeks.org/how-to-convert-datetime-to-date-in-pandas/?ref=leftbar-rightbar\" target=_blank>How to Convert Datetime to Date in Pandas ?</a><li><a href=\"https://www.geeksforgeeks.org/how-to-find-out-file-types-in-linux/?ref=leftbar-rightbar\" target=_blank>How to Find Out File Types in Linux</a><li><a href=\"https://www.geeksforgeeks.org/how-to-convert-datetime-to-unix-timestamp-in-python/?ref=leftbar-rightbar\" target=_blank>How to Convert DateTime to UNIX Timestamp in Python ?</a></ul></div></div></div></div><aside id=text-18 class=\"widget widget_text\"><div class=textwidget><div id=GFG_AD_Desktop_RightSideBar_BTFdocked_300x600 style=min-width:300px;min-height:600px></div></div></aside></div></div><div id=displayModal class=\"modal fade\" role=dialog><div class=modal-dialog><div class=modal-content><div class=error-message></div><div class=modal-header><button type=button class=close data-dismiss=modal data-modal=displayModal>&#215;</button><h2 class=modal-title id=dmTitle></h2></div><div class=modal-body id=dmBody><div id=modal-dm-content></div><div class=modal-overlay aria-hidden=true><span class=loader__animation></span></div></div><div class=modal-footer></div></div></div></div><div id=displayModalBackdrop class=backdrop></div><footer class=gfg-footer id=gfg-footer><div class=footer-wrapper><div class=footer-wrapper_branding><a class=footer-wrapper_branding-anchor href=https://www.geeksforgeeks.org/><svg class=\"footer-wrapper_branding-nlogo\" id=\"Group_230\" data-name=\"Group 230\" xmlns=\"http://www.w3.org/2000/svg\" width=\"300.826\" height=\"39.577\" viewBox=\"0 0 300.826 39.577\"><g id=\"logo\" transform=\"translate(-3608 -227)\"><g id=\"Group_155\" data-name=\"Group 155\" transform=\"translate(3608 227)\"><path id=\"Path_242\" data-name=\"Path 242\" d=\"M988.871 586.642h-32.7a13.06 13.06.0 0122.949-6.9l4.757-4.783a19.789 19.789.0 00-34.466 11.678H949.3a19.789 19.789.0 00-34.466-11.678l4.757 4.783a13.06 13.06.0 0122.949 6.9h-32.7q-.057.757-.058 1.529a19.791 19.791.0 0039.055 4.533h1.042a19.789 19.789.0 0039.055-4.533Q988.929 587.4 988.871 586.642zm-59.305 14.589a13.063 13.063.0 01-12.261-8.555h24.522A13.064 13.064.0 01929.565 601.231zm39.576.0a13.064 13.064.0 01-12.262-8.555H981.4A13.063 13.063.0 01969.141 601.231z\" transform=\"translate(-909.777 -568.383)\" fill=\"#2f8d46\"/></g><g id=\"Group_170\" data-name=\"Group 170\" transform=\"translate(3703.022 236.148)\"><g id=\"Group_156\" data-name=\"Group 156\" transform=\"translate(26.144 4.527)\"><line id=\"Line_1\" data-name=\"Line 1\" x1=\"1.046\" fill=\"#0f2b3c\"/></g><g id=\"Group_157\" data-name=\"Group 157\" transform=\"translate(56.695 0.004)\"><path id=\"Path_243\" data-name=\"Path 243\" d=\"M1352.9 615.759l-6.714-6.771v6.771h-3.09V594.521h3.09v12.53l6.084-6.056h3.909l-6.988 6.988 7.67 7.782z\" transform=\"translate(-1343.095 -594.521)\" fill=\"#0f2b3c\"/></g><g id=\"Group_158\" data-name=\"Group 158\" transform=\"translate(113.247 6.427)\"><path id=\"Path_244\" data-name=\"Path 244\" d=\"M1504.614 627.712V612.948h3.09v2.558a3.7 3.7.0 011.447-1.91 3.9 3.9.0 012.262-.73 5.447 5.447.0 011.208.112l-.7 3a2.449 2.449.0 00-.842-.082 3.044 3.044.0 00-2.388 1.138 4.676 4.676.0 00-.983 3.16v7.515z\" transform=\"translate(-1504.614 -612.865)\" fill=\"#0f2b3c\"/></g><g id=\"Group_159\" data-name=\"Group 159\" transform=\"translate(70.943 6.509)\"><path id=\"Path_245\" data-name=\"Path 245\" d=\"M1385.943 626.817a5.668 5.668.0 01-2.152-2.683l2.669-1.171a3.743 3.743.0 001.376 1.662 3.657 3.657.0 002.029.572 4.049 4.049.0 001.879-.395 1.266 1.266.0 00.763-1.185 1.367 1.367.0 00-.654-1.2 6.492 6.492.0 00-2.016-.763l-1.662-.409a5.974 5.974.0 01-2.752-1.444 3.452 3.452.0 01-1.089-2.615 3.4 3.4.0 01.722-2.152 4.647 4.647.0 011.948-1.43 6.957 6.957.0 012.67-.5 7.191 7.191.0 013.405.776 4.6 4.6.0 012.125 2.247l-2.615 1.144a2.925 2.925.0 00-2.888-1.608 3.231 3.231.0 00-1.689.409 1.213 1.213.0 00-.681 1.063 1.226 1.226.0 00.518 1.021 4.442 4.442.0 001.526.667l2.043.518a6.573 6.573.0 013.092 1.566 3.5 3.5.0 011.049 2.575 3.72 3.72.0 01-.749 2.3 4.829 4.829.0 01-2.057 1.539 7.44 7.44.0 01-2.887.545A6.781 6.781.0 011385.943 626.817z\" transform=\"translate(-1383.791 -613.101)\" fill=\"#0f2b3c\"/></g><g id=\"Group_160\" data-name=\"Group 160\" transform=\"translate(96.285 6.525)\"><path id=\"Path_246\" data-name=\"Path 246\" d=\"M1463.543 613.146a7.374 7.374.0 107.374 7.374A7.374 7.374.0 001463.543 613.146zm0 11.532a4.228 4.228.0 114.228-4.228A4.228 4.228.0 011463.543 624.678z\" transform=\"translate(-1456.169 -613.146)\" fill=\"#0f2b3c\"/></g><g id=\"Group_161\" data-name=\"Group 161\" transform=\"translate(23.011 6.524)\"><path id=\"Path_247\" data-name=\"Path 247\" d=\"M1261.615 621.145c.017-.232.027-.466.024-.7a7.292 7.292.0 00-.212-1.685 7.375 7.375.0 00-14.537 1.84c0 .236.017.47.04.7a7.263 7.263.0 00.673 2.382 7.374 7.374.0 0013.389-.141l-3.267.034a4.617 4.617.0 01-8.014-2.3zm-11.664-2.266a4.614 4.614.0 018.592-.09z\" transform=\"translate(-1246.891 -613.144)\" fill=\"#0f2b3c\"/></g><g id=\"Group_162\" data-name=\"Group 162\" transform=\"translate(39.461 6.524)\"><path id=\"Path_248\" data-name=\"Path 248\" d=\"M1308.6 621.145c.017-.232.027-.466.025-.7a7.375 7.375.0 10-14.749.155c0 .236.017.47.04.7a7.257 7.257.0 00.672 2.382 7.375 7.375.0 0013.39-.141l-3.268.034a4.616 4.616.0 01-8.014-2.3zm-11.663-2.266a4.614 4.614.0 018.592-.09z\" transform=\"translate(-1293.873 -613.144)\" fill=\"#0f2b3c\"/></g><g id=\"Group_163\" data-name=\"Group 163\" transform=\"translate(85.044 0.245)\"><path id=\"Path_249\" data-name=\"Path 249\" d=\"M1430.636 598.566a2.5 2.5.0 011.8-.549 4.2 4.2.0 011.657.281v-2.752a7.24 7.24.0 00-2.3-.337 4.82 4.82.0 00-3.455 1.278 4.666 4.666.0 00-1.349 3.554v1.417h-2.922v2.752h2.922v12.036h3.091V604.209h4.016v-2.752h-4.016V600.4A2.5 2.5.0 011430.636 598.566z\" transform=\"translate(-1424.063 -595.209)\" fill=\"#0f2b3c\"/></g><g id=\"Group_164\" data-name=\"Group 164\" transform=\"translate(0)\"><path id=\"Path_250\" data-name=\"Path 250\" d=\"M1202.443 605.147a10.637 10.637.0 11-2.72-7.1l-1.983 1.982a7.837 7.837.0 101.656 7.09h-6.883v-2.851h9.895Q1202.443 604.7 1202.443 605.147z\" transform=\"translate(-1181.169 -594.51)\" fill=\"#0f2b3c\"/></g><g id=\"Group_165\" data-name=\"Group 165\" transform=\"translate(179.788 0.004)\"><path id=\"Path_251\" data-name=\"Path 251\" d=\"M1704.467 615.759l-6.714-6.771v6.771h-3.09V594.521h3.09v12.53l6.084-6.056h3.909l-6.988 6.988 7.669 7.782z\" transform=\"translate(-1694.663 -594.521)\" fill=\"#0f2b3c\"/></g><g id=\"Group_166\" data-name=\"Group 166\" transform=\"translate(194.036 6.509)\"><path id=\"Path_252\" data-name=\"Path 252\" d=\"M1737.51 626.817a5.667 5.667.0 01-2.152-2.683l2.67-1.171a3.742 3.742.0 001.375 1.662 3.658 3.658.0 002.03.572 4.051 4.051.0 001.88-.395 1.267 1.267.0 00.763-1.185 1.367 1.367.0 00-.654-1.2 6.492 6.492.0 00-2.016-.763l-1.662-.409a5.974 5.974.0 01-2.751-1.444 3.451 3.451.0 01-1.09-2.615 3.4 3.4.0 01.722-2.152 4.651 4.651.0 011.948-1.43 6.96 6.96.0 012.67-.5 7.191 7.191.0 013.405.776 4.6 4.6.0 012.125 2.247l-2.615 1.144a2.926 2.926.0 00-2.888-1.608 3.232 3.232.0 00-1.689.409 1.214 1.214.0 00-.681 1.063 1.227 1.227.0 00.518 1.021 4.443 4.443.0 001.526.667l2.043.518a6.576 6.576.0 013.092 1.566 3.5 3.5.0 011.049 2.575 3.719 3.719.0 01-.749 2.3 4.833 4.833.0 01-2.057 1.539 7.44 7.44.0 01-2.888.545A6.781 6.781.0 011737.51 626.817z\" transform=\"translate(-1735.358 -613.101)\" fill=\"#0f2b3c\"/></g><g id=\"Group_167\" data-name=\"Group 167\" transform=\"translate(146.104 6.524)\"><path id=\"Path_253\" data-name=\"Path 253\" d=\"M1613.182 621.145c.017-.232.027-.466.025-.7a7.375 7.375.0 10-14.749.155c0 .236.017.47.04.7a7.254 7.254.0 00.673 2.382 7.375 7.375.0 0013.389-.141l-3.268.034a4.616 4.616.0 01-8.014-2.3zm-11.663-2.266a4.615 4.615.0 018.592-.09z\" transform=\"translate(-1598.458 -613.144)\" fill=\"#0f2b3c\"/></g><g id=\"Group_168\" data-name=\"Group 168\" transform=\"translate(162.554 6.524)\"><path id=\"Path_254\" data-name=\"Path 254\" d=\"M1660.165 621.145c.017-.232.027-.466.024-.7a7.375 7.375.0 10-14.749.155c0 .236.017.47.04.7a7.266 7.266.0 00.673 2.382 7.375 7.375.0 0013.389-.141l-3.268.034a4.616 4.616.0 01-8.014-2.3zm-11.663-2.266a4.614 4.614.0 018.592-.09z\" transform=\"translate(-1645.44 -613.144)\" fill=\"#0f2b3c\"/></g><g id=\"Group_169\" data-name=\"Group 169\" transform=\"translate(123.093)\"><path id=\"Path_255\" data-name=\"Path 255\" d=\"M1554.01 605.147a10.636 10.636.0 11-2.72-7.1l-1.983 1.982a7.837 7.837.0 101.656 7.09h-6.884v-2.851h9.895Q1554.01 604.7 1554.01 605.147z\" transform=\"translate(-1532.736 -594.51)\" fill=\"#0f2b3c\"/></g></g></g></svg></a><div class=footer-wrapper_branding-address><i class=\"gfg-icon gfg-icon_pin\"></i>\\n<span>5th Floor, A-118,<br>Sector-136, Noida, Uttar Pradesh - 201305</span></div><div class=footer-wrapper_branding-email><i class=\"gfg-icon gfg-icon_mail\"></i>\\n<a href=mailto:feedback@geeksforgeeks.org>feedback@geeksforgeeks.org</a></div><div class=footer-wrapper_branding-social><a href=https://www.facebook.com/geeksforgeeks.org/ rel=\"noopener noreferrer\" aria-label=\"GeeksforGeeks Facebook\" target=_blank><div class=facebook></div></a><a href=https://www.instagram.com/geeks_for_geeks/ rel=\"noopener noreferrer\" aria-label=\"GeeksforGeeks Instagram\" target=_blank><div class=instagram></div></a><a href=https://in.linkedin.com/company/geeksforgeeks rel=\"noopener noreferrer\" aria-label=\"GeeksforGeeks LinkedIn\" target=_blank><div class=linkedin></div></a><a href=https://twitter.com/geeksforgeeks rel=\"noopener noreferrer\" aria-label=\"GeeksforGeeks Twitter\" target=_blank><div class=twitter></div></a><a href=https://www.youtube.com/geeksforgeeksvideos rel=\"noopener noreferrer\" aria-label=\"GeeksforGeeks YouTube\" target=_blank><div class=youtube></div></a></div></div><div class=footer-wrapper_links><ul class=footer-wrapper_links-list><li>Company<li><a href=\"https://www.geeksforgeeks.org/about/?ref=footer\">About Us</a><li><a href=\"https://www.geeksforgeeks.org/careers/?ref=footer\">Careers</a><li><a href=\"https://www.geeksforgeeks.org/privacy-policy/?ref=footer\">Privacy Policy</a><li><a href=\"https://www.geeksforgeeks.org/about/contact-us/?ref=footer\">Contact Us</a><li><a href=\"https://www.geeksforgeeks.org/copyright-information/?ref=footer\">Copyright Policy</a></ul><ul class=footer-wrapper_links-list><li>Learn<li><a href=\"https://www.geeksforgeeks.org/fundamentals-of-algorithms/?ref=footer\">Algorithms</a><li><a href=\"https://www.geeksforgeeks.org/data-structures/?ref=footer\">Data Structures</a><li><a href=\"https://www.geeksforgeeks.org/category/program-output/?ref=footer\">Languages</a><li><a href=\"https://www.geeksforgeeks.org/articles-on-computer-science-subjects-gq/?ref=footer\">CS Subjects</a><li><a href=\"https://www.youtube.com/geeksforgeeksvideos/?ref=footer\">Video Tutorials</a></ul><ul class=footer-wrapper_links-list><li>Web Development<li><a href=\"https://www.geeksforgeeks.org/web-development/?ref=footer\">Web Tutorials</a><li><a href=\"https://www.geeksforgeeks.org/html-tutorials/?ref=footer\">HTML</a><li><a href=\"https://www.geeksforgeeks.org/css-tutorials/?ref=footer\">CSS</a><li><a href=\"https://www.geeksforgeeks.org/javascript-tutorial/?ref=footer\">JavaScript</a><li><a href=\"https://www.geeksforgeeks.org/bootstrap-tutorials/?ref=footer\">Bootstrap</a></ul><ul class=footer-wrapper_links-list><li>Contribute<li><a href=\"https://www.geeksforgeeks.org/contribute/?ref=footer\">Write an Article</a><li><a href=\"https://www.geeksforgeeks.org/write-interview-experience/?ref=footer\">Write Interview Experience</a><li><a href=\"https://www.geeksforgeeks.org/careers/?job_type=1&ref=footer\">Internships</a><li><a href=\"https://www.geeksforgeeks.org/videos/?ref=footer\">Videos</a></ul></div></div><div class=footer-strip><div class=copyright><a href=https://www.geeksforgeeks.org/ rel=\"noopener noreferrer\" target=_blank>@geeksforgeeks</a>\\n<span>, <a href=https://www.geeksforgeeks.org/copyright-information/>Some rights reserved</a></span></div><div class=social-links></div></div></footer><div class=darkMode-wrap data-mode=\"Switch to Dark Mode\"><button data-gfg-action=toggleGFGTheme>\\n<i class=\"gfg-icon gfg-icon_dark-mode\"></i></button></div></div><script src=\"https://www.geeksforgeeks.org/wp-includes/js/wp-embed.min.js?ver=4.9.8\"></script><div class=\"cookie-consent hide-consent\"><span class=cookie-text>We use cookies to ensure you have the best browsing experience on our website. By using our site, you\\nacknowledge that you have read and understood our\\n<a href=https://www.geeksforgeeks.org/cookie-policy/ target=_blank><u>Cookie Policy</u></a> &\\r\\n        <a href=https://www.geeksforgeeks.org/privacy-policy/ target=_blank><u>Privacy Policy</u></a></span>\\n<button class=consent-btn>\\nGot It !</button></div><div class=lightbox-target><img id=lightbox-image src alt=Lightbox>\\n<span class=lightbox-close></span></div><div class=shell><div class=shell-container><div class=shell-container_content><h2>Start Your Coding Journey Now!</h2><div class=shell-container_actions><button title=Login data-gfg-action=login-modal>Login</button>\\n<button title=Register data-gfg-action=register-modal>Register</button></div></div></div></div><link rel=stylesheet href=https://use.typekit.net/mrg0hpc.css><script>\\r\\n    try {\\r\\n        var isAdblockEnabled = t =>\\r\\n            fetch(\\r\\n                new Request(\\'https://pagead2.googlesyndication.com/pagead/js/adsbygoogle.js\\', {\\r\\n                    method: \\'HEAD\\',\\r\\n                    mode: \\'no-cors\\'\\r\\n                })\\r\\n            ).catch(t);\\r\\n        isAdblockEnabled(() => {\\r\\n            var scr = window.document.createElement(\\'script\\'),\\r\\n                siteId = 41782;\\r\\n            scr.setAttribute(\\'src\\', \\'https://delivery.adrecover.com/\\'.concat(siteId, \\'/adRecover.js\\'));\\r\\n            scr.setAttribute(\\'type\\', \\'text/javascript\\');\\r\\n            scr.setAttribute(\\'async\\', !0);\\r\\n            window.document.head.append(scr);\\r\\n        });\\r\\n    } catch (err) {console.log(err);}\\r\\n</script><script src=//m.servedby-buysellads.com/monetization.js></script><script>\\r\\n(function(){\\r\\n    if(typeof _bsa !== \\'undefined\\' && _bsa) {\\r\\n        _bsa.init(\\'fancybar\\', \\'C6ADVKE\\', \\'placement:geeksforgeeks\\');\\r\\n    }\\r\\n})();\\r\\n</script>'\n"
          ]
        }
      ]
    },
    {
      "cell_type": "markdown",
      "source": [
        "**XML**<br>\n",
        "eXtensible Markup Language<br>\n",
        "It helps information systems to share structured data.<br>\n",
        "*   Tags\n",
        "*   Attributes\n",
        "*   Serialize/De-Serialize\n",
        "\n",
        "\n",
        "\n"
      ],
      "metadata": {
        "id": "JhoZx4SZRfhr"
      }
    },
    {
      "cell_type": "markdown",
      "source": [
        "**XML example**"
      ],
      "metadata": {
        "id": "dC17WNg2WIoS"
      }
    },
    {
      "cell_type": "code",
      "source": [
        "import xml.etree.ElementTree as ET\n",
        "\n",
        "input = '''\n",
        "<person>\n",
        "  <name>Tim</name>\n",
        "  <id>5</id>\n",
        "  <email hide='yes'/>\n",
        "</person>\n",
        "'''\n",
        "\n",
        "tree = ET.fromstring(input)\n",
        "print('Name:', tree.find('name').text)\n",
        "print('Attr:',tree.find('email').get('hide'))"
      ],
      "metadata": {
        "colab": {
          "base_uri": "https://localhost:8080/"
        },
        "id": "Xx1qzkNfX45p",
        "outputId": "f5c7e083-607a-47ef-ea22-995087d24642"
      },
      "execution_count": null,
      "outputs": [
        {
          "output_type": "stream",
          "name": "stdout",
          "text": [
            "Name: Tim\n",
            "Attr: yes\n"
          ]
        }
      ]
    },
    {
      "cell_type": "code",
      "source": [
        "import xml.etree.ElementTree as ET\n",
        "\n",
        "input = '''\n",
        "<data>\n",
        "  <users>\n",
        "    <user x ='1'>\n",
        "      <id>001</id>\n",
        "      <name>Jane</name>\n",
        "    </user>\n",
        "    <user x = '2'>\n",
        "      <id>002</id>\n",
        "      <name>James</name>\n",
        "    </user>\n",
        "  </users>\n",
        "</data>'''\n",
        "\n",
        "data = ET.fromstring(input)\n",
        "lst = data.findall('users/user')\n",
        "print(\"Count of users: \",len(lst))\n",
        "\n",
        "for item in lst:\n",
        "  print('Name:',item.find('name').text)\n",
        "  print('Id:',item.find('id').text)\n",
        "  print('Attribute:',item.get('x'))"
      ],
      "metadata": {
        "colab": {
          "base_uri": "https://localhost:8080/"
        },
        "id": "n7cdEx9UWDOq",
        "outputId": "e7370db2-ee34-4f5e-c92a-ea349519f183"
      },
      "execution_count": null,
      "outputs": [
        {
          "output_type": "stream",
          "name": "stdout",
          "text": [
            "Count of users:  2\n",
            "Name: Jane\n",
            "Id: 001\n",
            "Attribute: 1\n",
            "Name: James\n",
            "Id: 002\n",
            "Attribute: 2\n"
          ]
        }
      ]
    },
    {
      "cell_type": "markdown",
      "source": [
        "**Json example**"
      ],
      "metadata": {
        "id": "fdDwDiAbfyL9"
      }
    },
    {
      "cell_type": "code",
      "source": [
        "import json\n",
        "\n",
        "data = '''\n",
        "{\n",
        "  \"name\" : \"James\",\n",
        "  \"phone\" : {\n",
        "    \"number\": \"8465078443\"\n",
        "    },\n",
        "   \"email\" :{\n",
        "     \"hide\":\"yes\"\n",
        "   } \n",
        "}'''\n",
        "\n",
        "info = json.loads(data)\n",
        "print('Name:',info[\"name\"])\n",
        "print('Email:',info[\"email\"][\"hide\"])"
      ],
      "metadata": {
        "colab": {
          "base_uri": "https://localhost:8080/"
        },
        "id": "vVX1bt2xf2KE",
        "outputId": "18277593-c71a-4e1c-c338-601eab2796fd"
      },
      "execution_count": null,
      "outputs": [
        {
          "output_type": "stream",
          "name": "stdout",
          "text": [
            "Name: James\n",
            "Email: yes\n"
          ]
        }
      ]
    },
    {
      "cell_type": "markdown",
      "source": [
        "**Python Objects**"
      ],
      "metadata": {
        "id": "1u-Lu5LahrIa"
      }
    },
    {
      "cell_type": "markdown",
      "source": [
        "*   Class - a template\n",
        "*   Method or message - A function within a class\n",
        "*   Field or attribute - A variable within a class\n",
        "*   Object or instance - A particular instance of a class<br>\n",
        "**Constructor**<br>\n",
        "The primary purpose of the constructor is to set up some instance variables to have the proper initial values when the object is created.<br>\n",
        "The constructor in a class is a special block of statements called when an object is created. \n",
        "\n",
        "*   Inheritance - The ability to extend a class to make a new class.\n",
        "\n"
      ],
      "metadata": {
        "id": "2ciMKpjZq8Sa"
      }
    },
    {
      "cell_type": "markdown",
      "source": [
        "**Databases**"
      ],
      "metadata": {
        "id": "GTfqmcB12vuF"
      }
    },
    {
      "cell_type": "markdown",
      "source": [
        "**Databases**: contains many tables<br>\n",
        "Relation or table <br>\n",
        "Tuple or row <br>\n",
        "Attribute(column or field)<br>\n",
        "\n",
        "**SQL**<br>\n",
        "*   Create a table\n",
        "*   Retrieve data\n",
        "*   Insert data\n",
        "*   Delete data\n",
        "\n",
        "\n",
        "\n"
      ],
      "metadata": {
        "id": "yRxJP7CK4tgp"
      }
    },
    {
      "cell_type": "markdown",
      "source": [
        "**Database Model**<br>\n",
        "It is the structure or format of a database."
      ],
      "metadata": {
        "id": "oICGGbrwMQJ1"
      }
    },
    {
      "cell_type": "markdown",
      "source": [
        "**Database Normalization(3NF)**<br>\n",
        "Do not replicate data-reference data-point at data<br>\n",
        "Use integers for keys and for references.<br>\n",
        "Add a special “key” column to each table which we will make references to."
      ],
      "metadata": {
        "id": "aXP2t8ymVxdh"
      }
    },
    {
      "cell_type": "markdown",
      "source": [
        "**Kinds of keys**<br>\n",
        "Primary key - generally an integer auto-increment field<br>\n",
        "Logical key - What the outside world uses for lookup<br>\n",
        "Foreign key - generally an integer key pointing to a row in another table<br>\n",
        "**Key Rules**<br>\n",
        "Never use your logical key as the primary key<br>\n",
        "Logical keys can and do change<br>\n",
        "Relationships that are based on matching string fields are less efficient than integers.<br>\n",
        "**Foreign Key**<br>\n",
        "A foreign key is when a table has a column that contains a key which points to the primary key of another table.<br>\n",
        "When all primary keys are integers, then all foreign keys are integers."
      ],
      "metadata": {
        "id": "ejsz5eT5a51Y"
      }
    },
    {
      "cell_type": "markdown",
      "source": [
        "**Many-to-many relationships**<br>"
      ],
      "metadata": {
        "id": "QrWCPXPqnY0E"
      }
    },
    {
      "cell_type": "markdown",
      "source": [
        "**Data Visualization**\n"
      ],
      "metadata": {
        "id": "-ApTpXXdyKPL"
      }
    },
    {
      "cell_type": "markdown",
      "source": [
        "**Search Engine Architecture**<br>\n",
        "**Web Crawling**<br>\n",
        "A Web crawler is a computer program that browses the World Wide Web in a methodical, automated manner. Web crawlers are mainly used to create a copy of all the visited pages for later processing by a search engine that will index the downloaded pages to provide fast searches.<br>\n",
        "**Index Building**<br>\n",
        "**Search Indexing**"
      ],
      "metadata": {
        "id": "ryoyuEoGyRq1"
      }
    }
  ]
}