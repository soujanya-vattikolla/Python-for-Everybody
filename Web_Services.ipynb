{
  "nbformat": 4,
  "nbformat_minor": 0,
  "metadata": {
    "colab": {
      "name": "Web Services.ipynb",
      "provenance": [],
      "collapsed_sections": [],
      "authorship_tag": "ABX9TyOypg6MnF8Y+365sUNvZb42",
      "include_colab_link": true
    },
    "kernelspec": {
      "name": "python3",
      "display_name": "Python 3"
    },
    "language_info": {
      "name": "python"
    }
  },
  "cells": [
    {
      "cell_type": "markdown",
      "metadata": {
        "id": "view-in-github",
        "colab_type": "text"
      },
      "source": [
        "<a href=\"https://colab.research.google.com/github/soujanya-vattikolla/Python-for-Everybody/blob/main/Web_Services.ipynb\" target=\"_parent\"><img src=\"https://colab.research.google.com/assets/colab-badge.svg\" alt=\"Open In Colab\"/></a>"
      ]
    },
    {
      "cell_type": "markdown",
      "source": [
        "**Representing Strings**<br>\n",
        "\n",
        "*  Each character is represented by a number between 0 and 256 stored in 8 bits of memory.\n",
        "*   8 bits of memory as a **byte** of memory.\n",
        "*   ord()- tell us the numeric value of ASCII character."
      ],
      "metadata": {
        "id": "UuMrXUKJuUyR"
      }
    },
    {
      "cell_type": "markdown",
      "source": [
        "UTF-8 is for encoding data to be exchanged between systems."
      ],
      "metadata": {
        "id": "ZaiaWFEZuXEA"
      }
    },
    {
      "cell_type": "markdown",
      "source": [
        "Using **urllib** in Python"
      ],
      "metadata": {
        "id": "pGAUEyNpuYsw"
      }
    },
    {
      "cell_type": "code",
      "source": [
        "import urllib.request,urllib.parse,urllib.error"
      ],
      "metadata": {
        "id": "K1JpUdcfuaPS"
      },
      "execution_count": 2,
      "outputs": []
    },
    {
      "cell_type": "code",
      "source": [
        "fhand = urllib.request.urlopen('http://data.pr4e.org/clown.txt')\n",
        "for line in fhand:\n",
        "  print(line.decode().strip())"
      ],
      "metadata": {
        "colab": {
          "base_uri": "https://localhost:8080/"
        },
        "id": "yT3jyno9ucFA",
        "outputId": "13f5e1e1-c1e3-4bed-cd6f-45ccba370d42"
      },
      "execution_count": 3,
      "outputs": [
        {
          "output_type": "stream",
          "name": "stdout",
          "text": [
            "the clown ran after the car and the car ran into the tent and the tent fell down on the clown and the car\n"
          ]
        }
      ]
    },
    {
      "cell_type": "markdown",
      "source": [
        "**Reading a web page**"
      ],
      "metadata": {
        "id": "6Fx0A9ujugy8"
      }
    },
    {
      "cell_type": "code",
      "source": [
        "import urllib.request,urllib.parse,urllib.error\n",
        "\n",
        "fhand = urllib.request.urlopen('https://www.dr-chuck.com/page2.htm')\n",
        "for line in fhand:\n",
        "  print(line.decode().strip())"
      ],
      "metadata": {
        "colab": {
          "base_uri": "https://localhost:8080/"
        },
        "id": "GW4lfqMFujnY",
        "outputId": "4e945726-7881-4411-ab57-b07b0c52867a"
      },
      "execution_count": 4,
      "outputs": [
        {
          "output_type": "stream",
          "name": "stdout",
          "text": [
            "<h1>The Second Page</h1>\n",
            "<p>\n",
            "If you like, you can switch back to the\n",
            "<a href=\"page1.htm\">\n",
            "First Page</a>.\n",
            "</p>\n"
          ]
        }
      ]
    },
    {
      "cell_type": "markdown",
      "source": [
        "**Count the words in a webpage**"
      ],
      "metadata": {
        "id": "vGH3UqHLumUK"
      }
    },
    {
      "cell_type": "code",
      "source": [
        "import urllib.request,urllib.parse,urllib.error\n",
        "\n",
        "fhand = urllib.request.urlopen('http://data.pr4e.org/clown.txt')\n",
        "\n",
        "count = dict()\n",
        "for line in fhand:\n",
        "  line = line.decode().split()\n",
        "  for words in line:\n",
        "    count[words] = count.get(words,0)+1\n",
        "print(count)"
      ],
      "metadata": {
        "colab": {
          "base_uri": "https://localhost:8080/"
        },
        "id": "W2eJ91vvuoHF",
        "outputId": "3a928c1e-5979-4554-a36f-ffec28ceea24"
      },
      "execution_count": 5,
      "outputs": [
        {
          "output_type": "stream",
          "name": "stdout",
          "text": [
            "{'the': 7, 'clown': 2, 'ran': 2, 'after': 1, 'car': 3, 'and': 3, 'into': 1, 'tent': 2, 'fell': 1, 'down': 1, 'on': 1}\n"
          ]
        }
      ]
    },
    {
      "cell_type": "markdown",
      "source": [
        "**Web Scraping**<br>\n",
        "We use BeautifulSoup.<br>\n",
        "from bs4 import BeautifulSoup"
      ],
      "metadata": {
        "id": "Z4YjHxPFuqP0"
      }
    },
    {
      "cell_type": "code",
      "source": [
        "# import requests\n",
        "# url = \"https://www.geeksforgeeks.org/data-structures/\"\n",
        "# r = requests.get(url)\n",
        "# print(r.content)"
      ],
      "metadata": {
        "id": "Jw1nkGFhusai"
      },
      "execution_count": null,
      "outputs": []
    },
    {
      "cell_type": "markdown",
      "source": [
        "**XML**<br>\n",
        "eXtensible Markup Language<br>\n",
        "It helps information systems to share structured data.<br>\n",
        "*   Tags\n",
        "*   Attributes\n",
        "*   Serialize/De-Serialize"
      ],
      "metadata": {
        "id": "75kpxtY1uun5"
      }
    },
    {
      "cell_type": "markdown",
      "source": [
        "**XML example**"
      ],
      "metadata": {
        "id": "Ao4Od6EBuxD7"
      }
    },
    {
      "cell_type": "code",
      "source": [
        "import xml.etree.ElementTree as ET\n",
        "\n",
        "input = '''\n",
        "<person>\n",
        "  <name>Tim</name>\n",
        "  <id>5</id>\n",
        "  <email hide='yes'/>\n",
        "</person>\n",
        "'''\n",
        "\n",
        "tree = ET.fromstring(input)\n",
        "print('Name:', tree.find('name').text)\n",
        "print('Attr:',tree.find('email').get('hide'))"
      ],
      "metadata": {
        "colab": {
          "base_uri": "https://localhost:8080/"
        },
        "id": "zk9acw4puy3m",
        "outputId": "a9bb7f38-1422-4742-8c2b-dc814a629097"
      },
      "execution_count": 7,
      "outputs": [
        {
          "output_type": "stream",
          "name": "stdout",
          "text": [
            "Name: Tim\n",
            "Attr: yes\n"
          ]
        }
      ]
    },
    {
      "cell_type": "code",
      "source": [
        "import xml.etree.ElementTree as ET\n",
        "\n",
        "input = '''\n",
        "<data>\n",
        "  <users>\n",
        "    <user x ='1'>\n",
        "      <id>001</id>\n",
        "      <name>Jane</name>\n",
        "    </user>\n",
        "    <user x = '2'>\n",
        "      <id>002</id>\n",
        "      <name>James</name>\n",
        "    </user>\n",
        "  </users>\n",
        "</data>'''\n",
        "\n",
        "data = ET.fromstring(input)\n",
        "lst = data.findall('users/user')\n",
        "print(\"Count of users: \",len(lst))\n",
        "\n",
        "for item in lst:\n",
        "  print('Name:',item.find('name').text)\n",
        "  print('Id:',item.find('id').text)\n",
        "  print('Attribute:',item.get('x'))"
      ],
      "metadata": {
        "colab": {
          "base_uri": "https://localhost:8080/"
        },
        "id": "UjdMtRIdu2dG",
        "outputId": "3e92954b-c842-4299-e112-16c70644c124"
      },
      "execution_count": 8,
      "outputs": [
        {
          "output_type": "stream",
          "name": "stdout",
          "text": [
            "Count of users:  2\n",
            "Name: Jane\n",
            "Id: 001\n",
            "Attribute: 1\n",
            "Name: James\n",
            "Id: 002\n",
            "Attribute: 2\n"
          ]
        }
      ]
    },
    {
      "cell_type": "markdown",
      "source": [
        "**Json example**"
      ],
      "metadata": {
        "id": "hvlcBogPu4aB"
      }
    },
    {
      "cell_type": "code",
      "source": [
        "import json\n",
        "\n",
        "data = '''\n",
        "{\n",
        "  \"name\" : \"James\",\n",
        "  \"phone\" : {\n",
        "    \"number\": \"8465078443\"\n",
        "    },\n",
        "   \"email\" :{\n",
        "     \"hide\":\"yes\"\n",
        "   } \n",
        "}'''\n",
        "\n",
        "info = json.loads(data)\n",
        "print('Name:',info[\"name\"])\n",
        "print('Email:',info[\"email\"][\"hide\"])\n",
        "\n"
      ],
      "metadata": {
        "colab": {
          "base_uri": "https://localhost:8080/"
        },
        "id": "DvYPHQ2Tu6t5",
        "outputId": "efbe3f00-9268-4dc3-9bf7-8ad9dd2ccd02"
      },
      "execution_count": 9,
      "outputs": [
        {
          "output_type": "stream",
          "name": "stdout",
          "text": [
            "Name: James\n",
            "Email: yes\n"
          ]
        }
      ]
    }
  ]
}