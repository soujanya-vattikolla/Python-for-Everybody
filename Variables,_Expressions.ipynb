{
  "nbformat": 4,
  "nbformat_minor": 0,
  "metadata": {
    "colab": {
      "name": "Variables, Expressions.ipynb",
      "provenance": [],
      "collapsed_sections": [],
      "authorship_tag": "ABX9TyNTqHeYG2q3xvDjeRJ9e3hZ",
      "include_colab_link": true
    },
    "kernelspec": {
      "name": "python3",
      "display_name": "Python 3"
    },
    "language_info": {
      "name": "python"
    }
  },
  "cells": [
    {
      "cell_type": "markdown",
      "metadata": {
        "id": "view-in-github",
        "colab_type": "text"
      },
      "source": [
        "<a href=\"https://colab.research.google.com/github/soujanya-vattikolla/Python-for-Everybody/blob/main/Variables%2C_Expressions.ipynb\" target=\"_parent\"><img src=\"https://colab.research.google.com/assets/colab-badge.svg\" alt=\"Open In Colab\"/></a>"
      ]
    },
    {
      "cell_type": "markdown",
      "source": [
        "To know the **version** of python"
      ],
      "metadata": {
        "id": "0oIbX_sMxe78"
      }
    },
    {
      "cell_type": "code",
      "source": [
        "!python --version"
      ],
      "metadata": {
        "colab": {
          "base_uri": "https://localhost:8080/"
        },
        "id": "hu8MjtL39UF7",
        "outputId": "3c87d7dc-7c48-4397-e26b-8d977971c374"
      },
      "execution_count": null,
      "outputs": [
        {
          "output_type": "stream",
          "name": "stdout",
          "text": [
            "Python 3.7.12\n"
          ]
        }
      ]
    },
    {
      "cell_type": "markdown",
      "source": [
        "### What is a Code?<br>\n",
        "Stored set of instructions."
      ],
      "metadata": {
        "id": "0Yn9kuEH-R6u"
      }
    },
    {
      "cell_type": "code",
      "source": [
        ""
      ],
      "metadata": {
        "id": "0y-GPw6RtkiT"
      },
      "execution_count": null,
      "outputs": []
    },
    {
      "cell_type": "markdown",
      "source": [
        "**Features of Python:**\n",
        "\n",
        "Simple and easy to learn.<br>\n",
        "Free and open source.<br>\n",
        "General Purpose and high level programming language.<br>\n",
        "Platform independent.<br>\n",
        "Case Sensitive.<br>\n",
        "Interpreted Language.<br>\n",
        "Dynamically typed."
      ],
      "metadata": {
        "id": "AWs5_J4oEMwf"
      }
    },
    {
      "cell_type": "markdown",
      "source": [
        "**Reserved words** <br>\n",
        "You cannot use reserved words as variable names / identifiers"
      ],
      "metadata": {
        "id": "rFKSi5CXgJi-"
      }
    },
    {
      "cell_type": "markdown",
      "source": [
        "**Constants** <br>\n",
        "Fixed values such as numbers, letters, their value does not change.<br>\n",
        "Nummeric constants and String constants"
      ],
      "metadata": {
        "id": "RjSnFp622C-5"
      }
    },
    {
      "cell_type": "markdown",
      "source": [
        "**Variable** <br>\n",
        "A variable is a container to store data values.<br>\n",
        "**Rules**: <br>\n",
        "Variable should start with a letter or _ <br>\n",
        "Must consist of letters, numbers, underscores <br>\n",
        "Case sensitive"
      ],
      "metadata": {
        "id": "onRgfFeJ2xN2"
      }
    },
    {
      "cell_type": "markdown",
      "source": [
        "**Expressions**<br>\n",
        "Numeric Expressions <br>\n",
        "**Operator Precedence**<br>\n",
        "Parentheses, <br>\n",
        "Exponentiation, <br>\n",
        "Multiplication, <br>\n",
        "Addition and <br>\n",
        "Left to Right"
      ],
      "metadata": {
        "id": "jn6k-aVc3ehD"
      }
    },
    {
      "cell_type": "markdown",
      "source": [
        "**Integer division**<br>\n",
        "It produces a floating point result."
      ],
      "metadata": {
        "id": "AGV8FB85DwYL"
      }
    },
    {
      "cell_type": "markdown",
      "source": [
        "**String conversions**"
      ],
      "metadata": {
        "id": "0UFAyll5_GHl"
      }
    },
    {
      "cell_type": "code",
      "source": [
        "sval = '123'\n",
        "print(type(sval))\n",
        "print(sval+1) # we get a string concantenation error"
      ],
      "metadata": {
        "colab": {
          "base_uri": "https://localhost:8080/",
          "height": 224
        },
        "id": "BBtBk3Ac_TGy",
        "outputId": "a92820b3-801f-4f6a-bb04-49abacc5ae25"
      },
      "execution_count": null,
      "outputs": [
        {
          "output_type": "stream",
          "name": "stdout",
          "text": [
            "<class 'str'>\n"
          ]
        },
        {
          "output_type": "error",
          "ename": "TypeError",
          "evalue": "ignored",
          "traceback": [
            "\u001b[0;31m---------------------------------------------------------------------------\u001b[0m",
            "\u001b[0;31mTypeError\u001b[0m                                 Traceback (most recent call last)",
            "\u001b[0;32m<ipython-input-7-3a261531c981>\u001b[0m in \u001b[0;36m<module>\u001b[0;34m()\u001b[0m\n\u001b[1;32m      1\u001b[0m \u001b[0msval\u001b[0m \u001b[0;34m=\u001b[0m \u001b[0;34m'123'\u001b[0m\u001b[0;34m\u001b[0m\u001b[0;34m\u001b[0m\u001b[0m\n\u001b[1;32m      2\u001b[0m \u001b[0mprint\u001b[0m\u001b[0;34m(\u001b[0m\u001b[0mtype\u001b[0m\u001b[0;34m(\u001b[0m\u001b[0msval\u001b[0m\u001b[0;34m)\u001b[0m\u001b[0;34m)\u001b[0m\u001b[0;34m\u001b[0m\u001b[0;34m\u001b[0m\u001b[0m\n\u001b[0;32m----> 3\u001b[0;31m \u001b[0mprint\u001b[0m\u001b[0;34m(\u001b[0m\u001b[0msval\u001b[0m\u001b[0;34m+\u001b[0m\u001b[0;36m1\u001b[0m\u001b[0;34m)\u001b[0m \u001b[0;31m## we get a string concantenation error\u001b[0m\u001b[0;34m\u001b[0m\u001b[0;34m\u001b[0m\u001b[0m\n\u001b[0m",
            "\u001b[0;31mTypeError\u001b[0m: can only concatenate str (not \"int\") to str"
          ]
        }
      ]
    },
    {
      "cell_type": "code",
      "source": [
        "ival = int(sval)\n",
        "print(type(ival))\n",
        "print(ival+1)"
      ],
      "metadata": {
        "colab": {
          "base_uri": "https://localhost:8080/"
        },
        "id": "zITC1Y9C_YNb",
        "outputId": "ae6680fd-ebe5-4af1-99cf-5db2e8464dec"
      },
      "execution_count": null,
      "outputs": [
        {
          "output_type": "stream",
          "name": "stdout",
          "text": [
            "<class 'int'>\n",
            "124\n"
          ]
        }
      ]
    },
    {
      "cell_type": "markdown",
      "source": [
        "**User Input**"
      ],
      "metadata": {
        "id": "ojZntnz1_1Qt"
      }
    },
    {
      "cell_type": "code",
      "source": [
        "nam = input(\"Enter your name:\")\n",
        "print('Welcome',nam)"
      ],
      "metadata": {
        "colab": {
          "base_uri": "https://localhost:8080/"
        },
        "id": "JpPp1tME_3X9",
        "outputId": "ddf94396-01dc-4756-ee0b-8ecabdd72e7d"
      },
      "execution_count": null,
      "outputs": [
        {
          "output_type": "stream",
          "name": "stdout",
          "text": [
            "Enter your name:Soujanya\n",
            "Welcome Soujanya\n"
          ]
        }
      ]
    },
    {
      "cell_type": "markdown",
      "source": [
        "**Converting user input**"
      ],
      "metadata": {
        "id": "ENv-lD_BAA90"
      }
    },
    {
      "cell_type": "code",
      "source": [
        "inp = input(\"Enter floor \")\n",
        "flr = int(inp)+1\n",
        "print(\"Floor\",flr)"
      ],
      "metadata": {
        "colab": {
          "base_uri": "https://localhost:8080/"
        },
        "id": "mlXi0_96AIX1",
        "outputId": "b74450fd-fc7a-4856-c0de-62858523c570"
      },
      "execution_count": null,
      "outputs": [
        {
          "output_type": "stream",
          "name": "stdout",
          "text": [
            "Enter floor 5\n",
            "Floor 6\n"
          ]
        }
      ]
    },
    {
      "cell_type": "markdown",
      "source": [
        "**Comments**<br>\n",
        "To add description to the code."
      ],
      "metadata": {
        "id": "57yZTfdeAN_k"
      }
    }
  ]
}