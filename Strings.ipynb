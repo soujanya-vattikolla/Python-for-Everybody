{
  "nbformat": 4,
  "nbformat_minor": 0,
  "metadata": {
    "colab": {
      "name": "Strings.ipynb",
      "provenance": [],
      "collapsed_sections": [],
      "authorship_tag": "ABX9TyOiaq6PqEzxgFVwZMpcq7d3",
      "include_colab_link": true
    },
    "kernelspec": {
      "name": "python3",
      "display_name": "Python 3"
    },
    "language_info": {
      "name": "python"
    }
  },
  "cells": [
    {
      "cell_type": "markdown",
      "metadata": {
        "id": "view-in-github",
        "colab_type": "text"
      },
      "source": [
        "<a href=\"https://colab.research.google.com/github/soujanya-vattikolla/Python-for-Everybody/blob/main/Strings.ipynb\" target=\"_parent\"><img src=\"https://colab.research.google.com/assets/colab-badge.svg\" alt=\"Open In Colab\"/></a>"
      ]
    },
    {
      "cell_type": "markdown",
      "source": [
        "**Strings**<br>\n",
        "A string is a sequence of characters.<br>\n",
        "Len: gives us length of the string<br>\n",
        "**Immutable**"
      ],
      "metadata": {
        "id": "tH4g8XV0oJat"
      }
    },
    {
      "cell_type": "markdown",
      "source": [
        "**Looping through strings**<br>\n",
        "Using for and while loops"
      ],
      "metadata": {
        "id": "dpczX4jdoLrz"
      }
    },
    {
      "cell_type": "code",
      "source": [
        "fruit = 'apple'\n",
        "index = 0\n",
        "while index < len(fruit):\n",
        "    letter = fruit[index]\n",
        "    print(index,letter)\n",
        "    index = index+1"
      ],
      "metadata": {
        "colab": {
          "base_uri": "https://localhost:8080/"
        },
        "id": "jNGh6oEuoNYw",
        "outputId": "58b2ff84-14b5-41bc-ca7d-32e2d297a1a7"
      },
      "execution_count": 1,
      "outputs": [
        {
          "output_type": "stream",
          "name": "stdout",
          "text": [
            "0 a\n",
            "1 p\n",
            "2 p\n",
            "3 l\n",
            "4 e\n"
          ]
        }
      ]
    },
    {
      "cell_type": "markdown",
      "source": [
        "**Looping and counting**"
      ],
      "metadata": {
        "id": "w3QezdDMoQcH"
      }
    },
    {
      "cell_type": "code",
      "source": [
        "word = 'apple'\n",
        "count = 0\n",
        "for letter in word:\n",
        "  if letter == 'p':\n",
        "     count = count+1\n",
        "print(count)"
      ],
      "metadata": {
        "colab": {
          "base_uri": "https://localhost:8080/"
        },
        "id": "3P37jV93oRT0",
        "outputId": "d41f2d5d-4212-4f24-a2e6-484b98aa82da"
      },
      "execution_count": 2,
      "outputs": [
        {
          "output_type": "stream",
          "name": "stdout",
          "text": [
            "2\n"
          ]
        }
      ]
    },
    {
      "cell_type": "markdown",
      "source": [
        "**Slicing Strings**<br>\n",
        "Using a colon **:** operator <br>\n",
        "**String concantenation** <br>\n",
        "Using a **+** operator <br>\n",
        "Using **in** as a logical operator <br>\n",
        "**Searching a string**<br>\n",
        "find() <br>\n",
        "**Upper case or Lower case** <br>\n",
        "upper() and lower() <br>\n",
        "**Search and Replace**<br>\n",
        "replace()\n",
        "**Stripping whitespace**<br>\n",
        "lstrip()<br>\n",
        "rstrip()<br>\n",
        "strip()<br>\n",
        "**Prefixes**<br>\n",
        "startswith"
      ],
      "metadata": {
        "id": "ykMqsSvEoVIP"
      }
    }
  ]
}