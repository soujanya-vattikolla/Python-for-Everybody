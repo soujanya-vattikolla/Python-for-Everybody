{
  "nbformat": 4,
  "nbformat_minor": 0,
  "metadata": {
    "colab": {
      "name": "Dictionaries,Tuples,Regular Expressions.ipynb",
      "provenance": [],
      "collapsed_sections": [],
      "authorship_tag": "ABX9TyMfmuiT43PvrtnAV2EYg+SO",
      "include_colab_link": true
    },
    "kernelspec": {
      "name": "python3",
      "display_name": "Python 3"
    },
    "language_info": {
      "name": "python"
    }
  },
  "cells": [
    {
      "cell_type": "markdown",
      "metadata": {
        "id": "view-in-github",
        "colab_type": "text"
      },
      "source": [
        "<a href=\"https://colab.research.google.com/github/soujanya-vattikolla/Python-for-Everybody/blob/main/Dictionaries%2CTuples%2CRegular_Expressions.ipynb\" target=\"_parent\"><img src=\"https://colab.research.google.com/assets/colab-badge.svg\" alt=\"Open In Colab\"/></a>"
      ]
    },
    {
      "cell_type": "markdown",
      "source": [
        "**Dictionaries**"
      ],
      "metadata": {
        "id": "NwCZi3rMpCrL"
      }
    },
    {
      "cell_type": "markdown",
      "source": [
        "A unordered collection of Key-value pairs.<br>\n",
        "Dictionary is represented by {} <br>\n",
        "**Mutable**<br>\n",
        "Keys are unique, values may not be unique."
      ],
      "metadata": {
        "id": "JqsbALoapE90"
      }
    },
    {
      "cell_type": "markdown",
      "source": [
        "To check if the key is present in the dictionary or not<br>\n",
        "**get()**<br>\n",
        "We can retrieve keys,values and items(both) from dictionaries<br>\n",
        "**keys(),values()and items()**<br>"
      ],
      "metadata": {
        "id": "Ya_ZuIWwpG30"
      }
    },
    {
      "cell_type": "code",
      "source": [
        "dict1 = {'jo':1,'jame':2,'sally':3}\n",
        "for ky,val in dict1.items():\n",
        "  print(ky,val)"
      ],
      "metadata": {
        "id": "W0t4Le1kpIcn",
        "colab": {
          "base_uri": "https://localhost:8080/"
        },
        "outputId": "1ef5b9c7-a5c7-472a-ffd4-748206cc9f80"
      },
      "execution_count": 1,
      "outputs": [
        {
          "output_type": "stream",
          "name": "stdout",
          "text": [
            "jo 1\n",
            "jame 2\n",
            "sally 3\n"
          ]
        }
      ]
    },
    {
      "cell_type": "markdown",
      "source": [
        "**Dictionary example**"
      ],
      "metadata": {
        "id": "aXQD1fxusrN5"
      }
    },
    {
      "cell_type": "code",
      "source": [
        "fname = input('Enter file: ')\n",
        "if len(fname) <1 : \n",
        "  fname='clown.txt'\n",
        "hand = open(fname)\n",
        "\n",
        "di = dict()\n",
        "for lin in hand:\n",
        "  lin = lin.rstrip()\n",
        "  #print(lin)\n",
        "  words = lin.split()\n",
        "  #print(words)\n",
        "  for w in words:\n",
        "    di[w] = di.get(w,0)+1\n",
        "print(di)\n",
        "\n",
        "# now we want the most common word\n",
        "largest = -1\n",
        "word = None\n",
        "for k,v in di.items():\n",
        "  #print(k,v)\n",
        "  if v > largest:\n",
        "    largest = v\n",
        "    word = k\n",
        "print(\"The most common word is {} and count of the word is {}\".format(word,largest))"
      ],
      "metadata": {
        "id": "15Im2zqUq8fU",
        "colab": {
          "base_uri": "https://localhost:8080/"
        },
        "outputId": "49c02d3a-9872-4c24-b295-644e2f4b6851"
      },
      "execution_count": 3,
      "outputs": [
        {
          "output_type": "stream",
          "name": "stdout",
          "text": [
            "Enter file: intro.txt\n",
            "{'Why': 1, 'should': 4, 'you': 130, 'learn': 14, 'to': 204, 'write': 22, 'programs?': 1, 'Writing': 2, 'programs': 14, '(or': 4, 'programming)': 1, 'is': 112, 'a': 165, 'very': 20, 'creative': 5, 'and': 160, 'rewarding': 2, 'activity.': 2, 'You': 19, 'can': 22, 'for': 46, 'many': 10, 'reasons,': 1, 'ranging': 2, 'from': 17, 'making': 1, 'your': 37, 'living': 1, 'solving': 3, 'difficult': 1, 'data': 8, 'analysis': 3, 'problem': 10, 'having': 4, 'fun': 1, 'helping': 2, 'someone': 3, 'else': 3, 'solve': 7, 'problem.': 5, 'This': 5, 'book': 5, 'assumes': 1, 'that': 68, 'everyone': 2, 'needs': 5, 'know': 12, 'how': 20, 'program,': 3, 'once': 4, 'program': 29, 'will': 34, 'figure': 3, 'out': 4, 'what': 14, 'want': 6, 'do': 14, 'with': 37, 'newfound': 1, 'skills.': 2, 'We': 16, 'are': 43, 'surrounded': 1, 'in': 66, 'our': 22, 'daily': 1, 'lives': 1, 'computers': 11, 'laptops': 1, 'cell': 1, 'phones.': 1, 'think': 4, 'of': 103, 'these': 14, 'as': 25, 'personal': 2, 'assistants': 1, 'who': 4, 'take': 8, 'care': 1, 'things': 5, 'on': 23, 'behalf.': 1, 'The': 20, 'hardware': 4, 'current-day': 1, 'essentially': 1, 'built': 3, 'continuously': 1, 'ask': 4, 'us': 10, 'the': 226, 'question,': 1, 'What': 7, 'would': 12, 'like': 12, 'me': 5, 'next?': 5, 'Programmers': 1, 'add': 1, 'an': 10, 'operating': 1, 'system': 1, 'set': 3, 'applications': 1, 'we': 51, 'end': 9, 'up': 10, 'Personal': 2, 'Digital': 2, 'Assistant': 2, 'quite': 2, 'helpful': 2, 'capable': 1, 'different': 10, 'things.': 1, 'Our': 3, 'fast': 3, 'have': 27, 'vast': 1, 'amounts': 1, 'memory': 6, 'could': 5, 'be': 40, 'if': 9, 'only': 4, 'knew': 2, 'language': 29, 'speak': 7, 'explain': 2, 'computer': 14, 'it': 57, 'next.': 2, 'If': 6, 'this': 19, 'language,': 4, 'tell': 9, 'tasks': 2, 'behalf': 1, 'were': 8, 'repetitive.': 1, 'Interestingly,': 1, 'kinds': 2, 'best': 4, 'often': 3, 'humans': 4, 'find': 3, 'boring': 1, 'mind-numbing.': 1, 'For': 5, 'example,': 4, 'look': 10, 'at': 28, 'first': 13, 'three': 7, 'paragraphs': 2, 'chapter': 2, 'most': 10, 'commonly': 1, 'used': 10, 'word': 13, 'times': 8, 'used.': 1, 'While': 5, 'able': 6, 'read': 6, 'understand': 7, 'words': 14, 'few': 9, 'seconds,': 1, 'counting': 3, 'them': 8, 'almost': 2, 'painful': 1, 'because': 6, 'not': 18, 'kind': 2, 'human': 2, 'minds': 1, 'designed': 1, 'solve.': 1, 'opposite': 1, 'true,': 2, 'reading': 5, 'understanding': 3, 'text': 8, 'piece': 2, 'paper': 1, 'hard': 1, 'but': 21, 'telling': 3, 'was': 8, 'easy': 3, 'computer:': 1, 'information': 6, 'assistant': 1, 'quickly': 2, 'told': 1, 'sixteen': 1, 'chapter.': 1, 'fact': 2, 'good': 5, 'why': 1, 'need': 16, 'become': 2, 'skilled': 2, 'talking': 4, 'language.': 6, 'Once': 2, 'new': 8, 'delegate': 1, 'mundane': 1, 'partner': 1, '(the': 3, 'computer),': 1, 'leaving': 1, 'more': 17, 'time': 6, 'uniquely': 2, 'suited': 1, 'for.': 1, 'bring': 1, 'creativity,': 1, 'intuition,': 1, 'inventiveness': 1, 'partnership.': 1, 'Creativity': 1, 'motivation': 2, 'intended': 3, 'professional': 3, 'programmers,': 3, 'programming': 14, 'job': 2, 'both': 2, 'financially': 1, 'personally.': 1, 'Building': 1, 'useful,': 2, 'elegant,': 1, 'clever': 1, 'others': 1, 'use': 19, 'Your': 2, 'or': 25, '(PDA)': 1, 'usually': 3, 'contains': 1, 'groups': 2, 'each': 3, 'competing': 1, 'attention': 1, 'interest.': 1, 'They': 2, 'try': 6, 'their': 6, 'meet': 1, 'give': 4, 'great': 3, 'user': 3, 'experience': 1, 'process.': 3, 'In': 13, 'some': 14, 'situations,': 1, 'when': 13, 'choose': 1, 'software,': 2, 'programmers': 6, 'directly': 2, 'compensated': 1, 'choice.': 1, 'output': 1, 'perhaps': 5, 'following': 2, 'sensible': 1, 'version': 2, 'PDA:': 1, 'now,': 1, 'primary': 1, 'make': 5, 'money': 1, 'please': 2, 'users,': 1, 'instead': 3, 'productive': 1, 'handling': 1, 'encounter': 2, 'lives.': 1, 'When': 11, 'start,': 1, 'programmer': 4, 'programs.': 5, 'As': 6, 'gain': 1, 'skill': 3, 'feels': 2, 'you,': 2, 'thoughts': 1, 'may': 2, 'turn': 5, 'toward': 1, 'developing': 1, 'others.': 1, 'Computer': 1, 'architecture': 1, 'Before': 3, 'start': 6, 'learning': 5, 'instructions': 11, 'develop': 2, 'small': 2, 'amount': 1, 'about': 9, 'built.': 1, 'Central': 2, 'Processing': 2, 'Unit': 2, 'CPU)': 1, 'part': 2, 'obsessed': 1, 'rated': 1, 'Gigahertz,': 1, 'means': 2, 'CPU': 5, 'billion': 2, 'per': 2, 'second.': 2, 'going': 3, 'talk': 5, 'keep': 2, 'CPU.': 3, 'Main': 1, 'Memory': 2, 'store': 5, 'hurry.': 1, 'main': 4, 'nearly': 1, 'But': 3, 'stored': 3, 'vanishes': 1, 'turned': 1, 'off.': 1, 'Secondary': 2, 'also': 3, 'information,': 1, 'much': 7, 'slower': 2, 'than': 5, 'memory.': 1, 'advantage': 1, 'secondary': 3, 'even': 10, 'there': 8, 'no': 7, 'power': 1, 'computer.': 4, 'Examples': 1, 'disk': 1, 'drives': 1, 'flash': 1, '(typically': 1, 'found': 1, 'USB': 1, 'sticks': 1, 'portable': 2, 'music': 2, 'players).': 1, 'Input': 1, 'Output': 1, 'Devices': 1, 'simply': 8, 'screen,': 1, 'keyboard,': 1, 'mouse,': 1, 'microphone,': 1, 'speaker,': 1, 'touchpad,': 1, 'etc.': 1, 'all': 8, 'ways': 1, 'interact': 1, 'These': 5, 'days,': 1, 'Network': 1, 'Connection': 1, 'retrieve': 5, 'over': 6, 'network.': 1, 'network': 2, 'slow': 1, 'place': 1, 'might': 6, 'always': 1, 'up.': 1, 'So': 6, 'sense,': 3, 'unreliable': 1, 'form': 1, 'Memory.': 1, 'detail': 2, 'components': 1, 'work': 1, 'left': 4, 'builders,': 1, 'helps': 1, 'terminology': 1, 'so': 11, 'parts': 1, 'programmer,': 4, 'orchestrate': 1, 'resources': 1, 'analyze': 1, 'get': 6, 'solution.': 1, 'mostly': 1, 'Sometimes': 1, 'memory,': 2, 'network,': 1, 'input/output': 1, 'devices.': 1, 'person': 3, 'answers': 1, \"CPU's\": 1, 'question.': 1, 'uncomfortable': 1, 'shrink': 1, 'down': 3, 'five': 2, 'mm': 1, 'tall': 1, 'insert': 1, 'into': 10, 'just': 11, 'issue': 1, 'command': 3, 'instead,': 1, 'must': 3, 'advance.': 1, 'call': 5, 'act': 1, 'writing': 6, 'getting': 2, 'correct': 3, 'programming.': 3, 'Understanding': 1, 'rest': 2, 'book,': 2, 'art': 3, '---': 1, 'least': 1, 'skills': 3, 'data/information': 1, 'two': 3, 'programmer:': 1, 'First,': 1, '(Python)': 1, '-': 1, 'vocabulary': 7, 'grammar.': 1, 'spell': 1, 'properly': 1, 'construct': 2, 'well-formed': 1, 'sentences': 7, 'Second,': 1, 'story.': 1, 'story,': 2, 'combine': 1, 'convey': 1, 'idea': 1, 'reader.': 1, 'There': 3, 'constructing': 1, 'story': 4, 'improved': 1, 'by': 12, 'doing': 4, 'feedback.': 1, 'programming,': 1, 'trying': 3, 'idea.': 1, 'itemize': 1, 'one': 10, 'such': 2, 'Python,': 5, 'easier': 1, 'second': 2, 'JavaScript': 2, 'C++.': 1, 'has': 5, 'grammar': 2, 'problem-solving': 1, 'same': 2, 'across': 2, 'languages.': 3, 'Python': 85, 'pretty': 2, 'quickly.': 1, 'It': 10, 'longer': 1, 'coherent': 1, 'brand-new': 1, 'teach': 3, 'writing.': 1, 'explaining': 1, 'programs,': 4, 'then': 9, 'simple': 12, 'increasingly': 2, 'complex': 4, 'time.': 4, 'At': 3, 'point': 4, 'muse': 1, 'see': 5, 'patterns': 3, 'own': 2, 'naturally': 1, 'solves': 1, 'And': 4, 'point,': 3, 'becomes': 1, 'pleasant': 1, 'structure': 2, 'Be': 1, 'patient': 1, 'examples': 1, 'remind': 1, 'started': 1, 'Words': 1, 'Unlike': 1, 'languages,': 1, 'actually': 4, 'small.': 1, 'reserved': 10, 'words.': 2, 'special': 2, 'meaning': 3, 'Python.': 8, 'sees': 1, 'they': 10, 'Later': 1, 'called': 4, 'variables.': 1, 'latitude': 1, 'choosing': 2, 'names': 2, 'variables,': 1, 'cannot': 2, 'any': 3, \"Python's\": 3, 'name': 5, 'variable.': 1, 'train': 1, 'dog,': 3, 'sit,': 1, 'stay,': 1, 'fetch.': 1, 'dog': 2, \"don't\": 6, 'words,': 1, 'quizzical': 1, 'face': 2, 'until': 1, 'say': 11, 'word.': 1, 'say,': 3, 'I': 11, 'wish': 1, 'people': 1, 'walk': 4, 'improve': 1, 'overall': 1, 'health,': 1, 'dogs': 1, 'likely': 3, 'hear': 1, 'is,': 1, 'blah': 6, 'blah.': 1, 'That': 5, 'where': 5, 'include': 2, 'following:': 1, 'del': 1, 'while': 4, 'elif': 1, 'global': 1, 'assert': 1, 'pass': 1, 'yield': 1, 'break': 1, 'except': 2, 'import': 1, 'print': 4, 'class': 1, 'exec': 1, 'raise': 1, 'continue': 1, 'finally': 1, 'return': 1, 'def': 1, 'lambda': 1, 'it,': 4, 'unlike': 1, 'already': 2, 'completely': 2, 'trained.': 1, 'try,': 1, 'every': 2, 'without': 2, 'fail.': 1, 'time,': 2, 'now': 2, 'focus': 1, 'equivalent': 1, '(in': 1, 'human-to-dog': 1, 'language).': 1, 'nice': 2, 'thing': 1, 'giving': 3, 'message': 1, 'quotes:': 1, 'written': 10, 'syntactically': 3, 'sentence.': 1, 'sentence': 4, 'starts': 1, 'followed': 2, 'string': 1, 'enclosed': 1, 'single': 1, 'quotes.': 1, 'Conversing': 1, 'Now': 2, 'conversation': 7, 'test': 1, 'converse': 1, 'install': 1, 'software': 1, 'too': 2, 'suggest': 1, 'consult': 1, 'www.py4e.com': 1, 'detailed': 1, 'screencasts': 1, 'setting': 1, 'starting': 2, 'Macintosh': 1, 'Windows': 3, 'systems.': 1, 'terminal': 1, 'window': 1, 'type': 6, 'python': 2, 'interpreter': 12, 'executing': 1, 'interactive': 3, 'mode': 2, 'appear': 1, 'somewhat': 1, 'follows:': 2, '>>>': 1, 'prompt': 1, \"interpreter's\": 1, 'way': 6, 'asking': 1, 'ready': 3, 'you.': 1, 'All': 1, \"Let's\": 1, 'example': 4, 'did': 2, 'simplest': 1, 'sentences.': 1, 'standard': 1, 'line': 6, 'astronauts': 1, 'land': 1, 'faraway': 1, 'planet': 2, 'inhabitants': 3, 'planet:': 1, 'well.': 1, 'Unless': 1, 'something': 7, 'quickly,': 1, 'stab': 1, 'spears,': 1, 'put': 4, 'spit,': 1, 'roast': 1, 'fire,': 1, 'eat': 1, 'dinner.': 1, 'realize': 2, 'amazingly': 1, 'powerful': 2, 'picky': 1, 'syntax': 7, 'communicate': 2, 'intelligent.': 1, 'really': 3, 'yourself,': 1, 'using': 4, 'proper': 2, 'syntax.': 1, 'between': 3, 'those': 5, 'other': 2, 'acting': 2, 'intermediary.': 1, 'creators': 1, 'express': 1, 'supposed': 1, 'proceed.': 1, 'chapters,': 2, 'users': 1, 'program.': 8, 'leave': 1, 'interpreter,': 1, 'probably': 1, 'good-bye': 1, 'interacting': 1, 'Planet': 1, 'Python:': 1, 'notice': 2, 'error': 8, 'incorrect': 1, 'attempts.': 1, 'saw': 2, 'thought': 1, 'got': 1, 'wrong.': 1, 'Terminology:': 1, 'compiler': 3, 'high-level': 9, 'relatively': 1, 'straightforward': 1, 'Other': 1, 'languages': 4, 'Java,': 1, 'C++,': 1, 'PHP,': 1, 'Ruby,': 1, 'Basic,': 1, 'Perl,': 1, 'JavaScript,': 1, 'more.': 1, 'actual': 3, 'inside': 1, '(CPU)': 1, 'does': 3, 'understands': 1, 'machine': 14, 'Machine': 2, 'frankly': 1, 'tiresome': 1, 'represented': 1, 'zeros': 2, 'ones.': 1, 'seems': 4, 'surface,': 1, 'given': 1, 'ones,': 1, 'its': 9, 'far': 1, 'intricate': 1, 'ever': 1, 'Instead': 1, 'build': 1, 'various': 1, 'translators': 3, 'allow': 2, 'convert': 1, 'execution': 1, 'Since': 1, 'tied': 1, 'hardware,': 1, 'types': 3, 'hardware.': 1, 'Programs': 1, 'moved': 1, 'recompiling': 1, 'code': 10, 'create': 2, 'machine.': 1, 'fall': 1, 'general': 2, 'categories:': 1, '(one)': 1, 'interpreters': 1, '(two)': 1, 'compilers.': 1, 'An': 1, 'reads': 1, 'source': 8, 'parses': 1, 'code,': 1, 'interprets': 1, 'fly.': 1, 'running': 1, 'interactively,': 1, '(a': 1, 'sentence)': 1, 'processes': 1, 'immediately': 1, 'another': 2, 'Some': 1, 'lines': 3, 'remember': 2, 'value': 9, 'later.': 3, 'pick': 1, 'remembered': 2, 'symbolic': 1, 'term': 1, 'variable': 1, 'refer': 2, 'labels': 1, 'data.': 1, 'six': 3, 'label': 1, 'x': 2, 'verify': 1, 'multiply': 1, 'seven': 1, 'newly': 1, 'computed': 1, 'y.': 2, 'Then': 4, 'currently': 2, 'Even': 2, 'though': 1, 'typing': 2, 'commands': 2, 'treating': 1, 'ordered': 1, 'sequence': 3, 'statements': 7, 'later': 2, 'created': 1, 'earlier': 3, 'statements.': 2, 'paragraph': 2, 'four': 1, 'logical': 1, 'meaningful': 1, 'order.': 1, 'nature': 1, 'shown': 1, 'above.': 1, 'A': 6, 'handed': 1, 'entire': 1, 'file,': 4, 'runs': 1, 'process': 1, 'translate': 1, 'puts': 1, 'resulting': 1, 'file': 6, 'execution.': 1, 'system,': 1, 'executable': 4, 'suffix': 2, '.exe': 1, '.dll': 1, 'which': 2, 'stand': 1, 'dynamic': 1, 'link': 1, 'library': 1, 'respectively.': 1, 'Linux': 1, 'Macintosh,': 1, 'marks': 1, 'executable.': 1, 'open': 1, 'editor,': 1, 'crazy': 1, 'unreadable:': 1, 'compilers': 2, 'C.': 2, 'discussion': 1, 'interpreters,': 1, 'wondering': 1, 'bit': 4, 'itself.': 1, 'in?': 1, 'Is': 1, 'compiled': 2, 'language?': 1, 'python,': 1, 'exactly': 2, 'happening?': 1, 'www.python.org': 1, 'working': 1, 'code.': 3, 'itself': 2, 'installed': 2, 'vendor': 1, 'it),': 1, 'copied': 1, 'machine-code': 1, 'copy': 1, 'translated': 1, 'onto': 1, 'system.': 1, 'Windows,': 1, 'file.': 5, 'sometimes': 2, 'pays': 1, 'answer': 1, 'little': 2, 'nagging': 1, 'questions': 1, 'right': 4, 'beginning.': 1, 'Typing': 1, 'experiment': 1, 'features,': 1, 'recommended': 1, 'problems.': 1, 'editor': 1, 'script.': 2, 'By': 3, 'convention,': 1, 'scripts': 1, '.py.': 1, 'script': 2, 'To': 1, 'execute': 2, 'script,': 1, 'Unix': 1, 'window,': 1, 'hello.py': 3, 'prompting': 1, 'interactively.': 1, 'quit()': 1, 'knows': 2, 'stop': 1, 'reaches': 1, 'program?': 1, 'definition': 1, 'basic': 2, 'been': 1, 'crafted': 1, 'something.': 1, 'one-line': 1, 'particularly': 2, 'strictest': 1, 'definition,': 1, 'easiest': 2, 'thinking': 1, 'solve,': 1, 'looking': 5, 'Lets': 1, 'Social': 1, 'Computing': 1, 'research': 1, 'Facebook': 2, 'posts': 2, 'interested': 1, 'frequently': 1, 'series': 1, 'posts.': 1, 'stream': 1, 'pore': 1, 'common': 4, 'word,': 1, 'long': 1, 'mistake': 6, 'prone.': 1, 'smart': 1, 'handle': 1, 'task': 2, 'accurately': 1, 'spend': 1, 'weekend': 1, 'fun.': 1, 'clown': 1, 'car.': 1, 'Look': 2, 'occurs.': 1, 'imagine': 1, 'millions': 1, 'text.': 2, 'Frankly': 1, 'quicker': 1, 'count': 1, 'manually': 1, 'scan': 1, 'better': 2, 'news': 1, 'came': 1, 'wrote': 1, 'tested': 1, 'am': 2, 'save': 1, 'through': 3, 'Chapter': 1, 'ten': 1, 'fully': 2, 'awesome': 1, 'techniques': 1, 'user,': 1, 'marvel': 1, 'cleverness': 1, 'saved': 1, 'manual': 1, 'effort.': 1, 'words.py': 1, 'run': 2, 'download': 1, 'http://www.py4e.com/code/': 1, 'it.': 4, 'intermediary': 1, 'user)': 1, 'programmer).': 1, 'exchange': 1, 'useful': 3, 'instruction': 1, 'sequences': 1, '(i.e.,': 1, 'programs)': 1, 'anyone': 1, 'installs': 1, 'neither': 1, 'communicating': 1, 'building': 3, 'blocks': 1, 'next': 2, 'vocabulary,': 1, 'structure,': 2, 'capabilities': 2, 'compose': 1, 'together': 3, 'low-level': 1, 'conceptual': 1, 'constructs': 1, 'description': 5, 'Get': 1, 'outside': 1, 'world.': 1, 'sensor': 1, 'microphone': 1, 'GPS.': 1, 'initial': 1, 'input': 1, 'come': 2, 'keyboard.': 1, 'Display': 1, 'results': 1, 'screen': 1, 'device': 1, 'speaker': 1, 'play': 1, 'Perform': 2, 'after': 1, 'order': 2, 'encountered': 1, 'Check': 1, 'certain': 1, 'conditions': 1, 'skip': 1, 'repeatedly,': 1, 'variation.': 1, 'Write': 1, 'reuse': 1, 'needed': 1, 'throughout': 1, 'sounds': 1, 'course': 2, 'never': 1, 'simple.': 1, 'saying': 1, 'walking': 2, 'putting': 1, 'foot': 1, 'front': 1, 'other.': 1, 'composing': 1, 'weaving': 1, 'elements': 1, 'produce': 1, 'users.': 1, 'above': 1, 'uses': 1, 'one.': 1, 'possibly': 1, 'go': 3, 'wrong?': 1, 'earliest': 1, 'conversations': 1, 'precisely': 1, 'smallest': 1, 'deviation': 1, 'cause': 1, 'Beginning': 1, 'leaves': 1, 'room': 1, 'errors': 3, 'evidence': 1, 'mean,': 1, 'hateful,': 1, 'cruel.': 1, 'else,': 1, 'personally': 1, 'holds': 1, 'grudge': 1, 'against': 1, 'them.': 1, 'Because': 1, 'grudge,': 1, 'takes': 2, 'perfectly': 2, 'rejects': 1, 'unfit': 1, 'torment': 1, 'us.': 1, 'gained': 1, 'arguing': 1, 'tool.': 1, 'emotions': 1, 'happy': 1, 'serve': 1, 'whenever': 1, 'Its': 1, 'messages': 1, 'sound': 1, 'harsh,': 1, 'help.': 1, 'looked': 1, 'typed,': 1, 'entered.': 1, 'loving': 1, 'unconditionally,': 1, 'key': 1, 'understands,': 1, 'sweet': 1, '(>>>),': 1, 'waiting': 1, 'understands.': 1, 'says': 2, 'SyntaxError:': 1, 'invalid': 1, 'syntax,': 1, 'wagging': 1, 'tail': 1, 'saying,': 1, 'seemed': 1, 'meant,': 1, '(>>>).': 1, 'sophisticated,': 1, 'errors:': 1, 'fix.': 1, 'violated': 1, 'rules': 1, 'character': 2, 'noticed': 2, 'confused.': 2, 'tricky': 1, 'fixing': 1, 'indicates': 1, 'investigation.': 1, 'logic': 2, 'relate': 1, 'another.': 1, 'be,': 1, 'drink': 1, 'water': 1, 'bottle,': 1, 'backpack,': 1, 'library,': 1, 'top': 1, 'back': 3, 'bottle.': 1, 'semantic': 2, 'steps': 1, 'perfect': 1, 'order,': 1, 'do.': 1, 'directions': 2, 'restaurant': 2, 'said,': 1, '...when': 1, 'reach': 1, 'intersection': 1, 'gas': 3, 'station,': 1, 'mile': 2, 'red': 1, 'left.': 1, 'friend': 1, 'late': 1, 'calls': 1, 'farm': 1, 'around': 1, 'behind': 1, 'barn,': 1, 'sign': 1, 'restaurant.': 1, 'station?': 1, 'perfectly,': 1, 'down,': 1, 'station.': 1, 'sorry,': 1, 'my': 1, 'correct,': 1, 'sadly': 1, 'contained': 1, 'undetected': 1, 'error..': 1, 'Again': 1, 'errors,': 1, 'merely': 1, 'hardest': 1, 'asked.': 1, 'journey': 1, 'progress': 2, 'afraid': 1, 'concepts': 2, 'seem': 1, 'fit': 1, 'well': 1, 'speak,': 1, 'years': 3, 'made': 1, 'cute': 1, 'gurgling': 1, 'noises.': 1, 'OK': 1, 'took': 3, 'months': 1, 'move': 2, 'paragraphs,': 1, 'interesting': 1, 'complete': 1, 'short': 1, 'own.': 1, 'rapidly,': 1, 'chapters.': 1, 'absorb': 2, 'before': 1, 'natural.': 1, 'leads': 1, 'confusion': 1, 'visit': 1, 'revisit': 1, 'topics': 1, 'big': 2, 'picture': 1, 'defining': 1, 'tiny': 1, 'fragments': 1, 'picture.': 1, 'linearly,': 1, 'taking': 1, 'linear': 1, 'fashion,': 1, 'hesitate': 1, 'nonlinear': 1, 'approach': 1, 'material.': 1, 'forwards': 1, 'backwards': 1, 'light': 1, 'touch.': 1, 'skimming': 1, 'advanced': 1, 'material': 4, 'details,': 1, 'why?': 1, 'reviewing': 1, 'previous': 1, 'redoing': 1, 'exercises,': 1, 'learned': 1, 'lot': 1, 'staring': 2, 'impenetrable.': 1, 'Usually': 1, 'wonderful': 1, 'Ah': 1, 'Hah!': 1, 'moments': 1, 'pounding': 1, 'away': 2, 'rock': 1, 'hammer': 1, 'chisel': 1, 'step': 1, 'indeed': 1, 'beautiful': 1, 'sculpture.': 1, 'hard,': 1, 'staying': 1, 'night': 1, 'Take': 1, 'break,': 1, 'nap,': 1, 'snack,': 1, 'dog),': 1, 'fresh': 1, 'eyes.': 1, 'assure': 1, 'elegant': 1}\n",
            "The most common word is the and count of the word is 226\n"
          ]
        }
      ]
    },
    {
      "cell_type": "markdown",
      "source": [
        "**Tuples**"
      ],
      "metadata": {
        "id": "8f4S82O7tDmG"
      }
    },
    {
      "cell_type": "markdown",
      "source": [
        "Tuples are **immutable**<br>\n",
        "Tuples are represented as **()**<br>"
      ],
      "metadata": {
        "id": "hl6MHRFZtFA6"
      }
    },
    {
      "cell_type": "markdown",
      "source": [
        "**Regular Expressions**"
      ],
      "metadata": {
        "id": "htSNZc4HtLuV"
      }
    },
    {
      "cell_type": "markdown",
      "source": [
        "We need to **import re**<br>\n",
        "re.search() is like find()<br>\n",
        "\n",
        "^  match the start of the line<br>\n",
        "$   matches the end of the line<br>\n",
        ".   match any character<br>\n",
        "'* Repeats a character zero or more times<br>\n",
        "'*? Repeats a character zero or more times (non-greedy)<br>\n",
        "'+' Repeats a character one or more times<br>\n",
        "'+?' Repeats a character one or more times(non-greedy)<br>\n",
        "\\s  Matches whitespace<br>\n",
        "\\S  Matches any non-whitespace character<br>\n",
        "[aeiou]  Matches a single character in the listed set<br>\n",
        "[^XYZ]  Matches a single character not in the listed set<br>\n",
        "[a-z0-9]  The set of characters can include a range\n",
        "(        Indicates where string extraction is to start\n",
        ")        Indicates where string extraction is to end"
      ],
      "metadata": {
        "id": "SUo4SchEtNtH"
      }
    },
    {
      "cell_type": "code",
      "source": [
        "import re\n",
        "line = 'From stephen.henry@uct.ac.za sat Feb 19 09:14:16 2022'\n",
        "y = re.findall('@([^ ]*)',line) \n",
        "print(y)"
      ],
      "metadata": {
        "colab": {
          "base_uri": "https://localhost:8080/"
        },
        "id": "4puHozpktQOV",
        "outputId": "2563dc65-d985-47da-ab9c-e32aa1c68144"
      },
      "execution_count": 4,
      "outputs": [
        {
          "output_type": "stream",
          "name": "stdout",
          "text": [
            "['uct.ac.za']\n"
          ]
        }
      ]
    }
  ]
}