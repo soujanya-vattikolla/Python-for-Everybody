{
  "nbformat": 4,
  "nbformat_minor": 0,
  "metadata": {
    "colab": {
      "name": "Files,Lists.ipynb",
      "provenance": [],
      "collapsed_sections": [],
      "authorship_tag": "ABX9TyPm47lExPBnmMI4Od27n53A",
      "include_colab_link": true
    },
    "kernelspec": {
      "name": "python3",
      "display_name": "Python 3"
    },
    "language_info": {
      "name": "python"
    }
  },
  "cells": [
    {
      "cell_type": "markdown",
      "metadata": {
        "id": "view-in-github",
        "colab_type": "text"
      },
      "source": [
        "<a href=\"https://colab.research.google.com/github/soujanya-vattikolla/Python-for-Everybody/blob/main/Files%2CLists.ipynb\" target=\"_parent\"><img src=\"https://colab.research.google.com/assets/colab-badge.svg\" alt=\"Open In Colab\"/></a>"
      ]
    },
    {
      "cell_type": "markdown",
      "source": [
        "**Reading Files**<br>"
      ],
      "metadata": {
        "id": "zdZT1X6UofHj"
      }
    },
    {
      "cell_type": "markdown",
      "source": [
        "**File Processing**<br>\n",
        "A text file is a sequence of lines.<br>\n",
        "**Opening a File**<br>\n",
        "open()<br>\n",
        "handle = open(filename,mode)<br>\n",
        "**Counting lines in a File**<br>\n",
        "Using a for loop<br>\n",
        "**Reading the complete file**<br>\n",
        "read()(newlines and lines in astring)<br>\n",
        "**Skipping the lines**<br>\n",
        "using continue<br>\n",
        "**Stop the execution of the file**<br>\n",
        "quit()"
      ],
      "metadata": {
        "id": "0wu3J0nmogEQ"
      }
    },
    {
      "cell_type": "markdown",
      "source": [
        "**Lists**<br>"
      ],
      "metadata": {
        "id": "a0msHqP6osLJ"
      }
    },
    {
      "cell_type": "markdown",
      "source": [
        "A List is a ordered collection of data.<br>\n",
        "List is represented by [] <br>\n",
        "Lists are **mutable**: we can change an element of the list using the index operator."
      ],
      "metadata": {
        "id": "jioHKHszossp"
      }
    },
    {
      "cell_type": "markdown",
      "source": [
        "**Concantenating Lists using + **<br>\n",
        "**Lists can be sliced using :**<br>\n",
        "**Adding elements**<br>\n",
        "append()\n",
        "**Sorting can be done:**<br>\n",
        "sort()"
      ],
      "metadata": {
        "id": "Wnx861z9oveP"
      }
    },
    {
      "cell_type": "code",
      "source": [
        "lst_one = ['one','two','three']\n",
        "lst_two = ['four','five']\n",
        "lst_one.append(lst_two)\n",
        "print(lst_one)"
      ],
      "metadata": {
        "colab": {
          "base_uri": "https://localhost:8080/"
        },
        "id": "pB0KVOASoyDg",
        "outputId": "8dcdf139-69b9-4d40-8458-d1d5fde1af1b"
      },
      "execution_count": 1,
      "outputs": [
        {
          "output_type": "stream",
          "name": "stdout",
          "text": [
            "['one', 'two', 'three', ['four', 'five']]\n"
          ]
        }
      ]
    },
    {
      "cell_type": "code",
      "source": [
        "lst_one.append([6,7])\n",
        "print(lst_one)"
      ],
      "metadata": {
        "colab": {
          "base_uri": "https://localhost:8080/"
        },
        "id": "4gWXHFMgo0Zi",
        "outputId": "23a8e615-b2fa-42de-b39b-68b04470c66a"
      },
      "execution_count": 2,
      "outputs": [
        {
          "output_type": "stream",
          "name": "stdout",
          "text": [
            "['one', 'two', 'three', ['four', 'five'], [6, 7]]\n"
          ]
        }
      ]
    },
    {
      "cell_type": "code",
      "source": [
        "lst_one.remove([6,7])\n",
        "print(lst_one)"
      ],
      "metadata": {
        "colab": {
          "base_uri": "https://localhost:8080/"
        },
        "id": "VdEZQBrKo17w",
        "outputId": "fba53243-8420-40a8-f564-2f2e760df181"
      },
      "execution_count": 3,
      "outputs": [
        {
          "output_type": "stream",
          "name": "stdout",
          "text": [
            "['one', 'two', 'three', ['four', 'five']]\n"
          ]
        }
      ]
    },
    {
      "cell_type": "code",
      "source": [
        "lst_one.pop()\n",
        "print(lst_one)"
      ],
      "metadata": {
        "colab": {
          "base_uri": "https://localhost:8080/"
        },
        "id": "fhv_iuJXo3VK",
        "outputId": "8604633a-6a1d-4510-ffed-221a714f361e"
      },
      "execution_count": 4,
      "outputs": [
        {
          "output_type": "stream",
          "name": "stdout",
          "text": [
            "['one', 'two', 'three']\n"
          ]
        }
      ]
    },
    {
      "cell_type": "code",
      "source": [
        "lst_one = ['one','two','three']\n",
        "lst_two = ['four','five']\n",
        "lst_one + lst_two"
      ],
      "metadata": {
        "colab": {
          "base_uri": "https://localhost:8080/"
        },
        "id": "2LDuWW6io4ws",
        "outputId": "07529de6-f1c8-499f-eb78-aa0934f75bf5"
      },
      "execution_count": 5,
      "outputs": [
        {
          "output_type": "execute_result",
          "data": {
            "text/plain": [
              "['one', 'two', 'three', 'four', 'five']"
            ]
          },
          "metadata": {},
          "execution_count": 5
        }
      ]
    },
    {
      "cell_type": "code",
      "source": [
        "myStr = 'i want to sort this string'\n",
        "words = myStr.split()\n",
        "print(words)\n",
        "words.sort()\n",
        "print(\" \".join(words))"
      ],
      "metadata": {
        "colab": {
          "base_uri": "https://localhost:8080/"
        },
        "id": "72SnTTR0o6-t",
        "outputId": "c7e71700-d106-413c-fd1d-d95b8f2a889a"
      },
      "execution_count": 6,
      "outputs": [
        {
          "output_type": "stream",
          "name": "stdout",
          "text": [
            "['i', 'want', 'to', 'sort', 'this', 'string']\n",
            "i sort string this to want\n"
          ]
        }
      ]
    }
  ]
}