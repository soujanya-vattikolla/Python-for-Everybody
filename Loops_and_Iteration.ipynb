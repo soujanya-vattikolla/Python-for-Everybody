{
  "nbformat": 4,
  "nbformat_minor": 0,
  "metadata": {
    "colab": {
      "name": "Loops and Iteration.ipynb",
      "provenance": [],
      "collapsed_sections": [],
      "authorship_tag": "ABX9TyPKN9AT+MZktx7xHT+PIESa",
      "include_colab_link": true
    },
    "kernelspec": {
      "name": "python3",
      "display_name": "Python 3"
    },
    "language_info": {
      "name": "python"
    }
  },
  "cells": [
    {
      "cell_type": "markdown",
      "metadata": {
        "id": "view-in-github",
        "colab_type": "text"
      },
      "source": [
        "<a href=\"https://colab.research.google.com/github/soujanya-vattikolla/Python-for-Everybody/blob/main/Loops_and_Iteration.ipynb\" target=\"_parent\"><img src=\"https://colab.research.google.com/assets/colab-badge.svg\" alt=\"Open In Colab\"/></a>"
      ]
    },
    {
      "cell_type": "markdown",
      "source": [
        "**Loops and Iterations**<br>"
      ],
      "metadata": {
        "id": "mzKmdwnXnYb9"
      }
    },
    {
      "cell_type": "code",
      "source": [
        "# Break statement\n",
        "while True:\n",
        "    line = input(\"Enter your name:\")\n",
        "    if line == 'done':\n",
        "        break\n",
        "    print(line)\n",
        "print('Done!')"
      ],
      "metadata": {
        "colab": {
          "base_uri": "https://localhost:8080/"
        },
        "id": "eJE92uFNnc3b",
        "outputId": "52f961ef-898f-4c99-b27e-cb7953c4c5a6"
      },
      "execution_count": null,
      "outputs": [
        {
          "output_type": "stream",
          "name": "stdout",
          "text": [
            "Enter your name:Soujanya\n",
            "Soujanya\n",
            "Enter your name:done\n",
            "Done!\n"
          ]
        }
      ]
    },
    {
      "cell_type": "markdown",
      "source": [
        "**Definite loops:**<br>\n",
        "For loop "
      ],
      "metadata": {
        "id": "g7ZPxZYDnjgT"
      }
    },
    {
      "cell_type": "code",
      "source": [
        "friends = ['Jo','Joey','Sally']\n",
        "for friend in friends:\n",
        "    print(\"Hello\",friend)\n",
        "print(\"Done\")"
      ],
      "metadata": {
        "colab": {
          "base_uri": "https://localhost:8080/"
        },
        "id": "QrkigbJAnmVI",
        "outputId": "bc2a0e69-c139-444e-d41c-89b2b07d0def"
      },
      "execution_count": null,
      "outputs": [
        {
          "output_type": "stream",
          "name": "stdout",
          "text": [
            "Hello Jo\n",
            "Hello Joey\n",
            "Hello Sally\n",
            "Done\n"
          ]
        }
      ]
    },
    {
      "cell_type": "code",
      "source": [
        "for count in range(10):\n",
        "  if count == 5:\n",
        "    break\n",
        "  print(\"The count is : \", count)\n",
        "print(\"END\")\n"
      ],
      "metadata": {
        "colab": {
          "base_uri": "https://localhost:8080/"
        },
        "id": "-hMKiAnLnoRS",
        "outputId": "7fce1838-b837-440b-ccf9-6ed66cf3f576"
      },
      "execution_count": null,
      "outputs": [
        {
          "output_type": "stream",
          "name": "stdout",
          "text": [
            "The count is :  0\n",
            "The count is :  1\n",
            "The count is :  2\n",
            "The count is :  3\n",
            "The count is :  4\n",
            "END\n"
          ]
        }
      ]
    },
    {
      "cell_type": "markdown",
      "source": [
        "**What is the largest number:**"
      ],
      "metadata": {
        "id": "SEdSG64Snvf6"
      }
    },
    {
      "cell_type": "code",
      "source": [
        "largest_num = -1\n",
        "for num in [9,3,21,85,6,55]:\n",
        "    if num > largest_num:\n",
        "        largest_num = num\n",
        "    print(largest_num, num)\n",
        "print(\"largest num is \",largest_num)"
      ],
      "metadata": {
        "colab": {
          "base_uri": "https://localhost:8080/"
        },
        "id": "kN00FEjinv7Y",
        "outputId": "79c0d883-2b49-4d9e-e3ea-58614c777f98"
      },
      "execution_count": null,
      "outputs": [
        {
          "output_type": "stream",
          "name": "stdout",
          "text": [
            "9 9\n",
            "9 3\n",
            "21 21\n",
            "85 85\n",
            "85 6\n",
            "85 55\n",
            "largest num is  85\n"
          ]
        }
      ]
    },
    {
      "cell_type": "markdown",
      "source": [
        "We can use loop in many ways:<br>\n",
        "Count and sum the loop <br>\n",
        "Filtering the loop <br>\n",
        "Searching using a Boolean Variable "
      ],
      "metadata": {
        "id": "rp6ONIhnn0IG"
      }
    },
    {
      "cell_type": "markdown",
      "source": [
        "**What is the smallest number:**"
      ],
      "metadata": {
        "id": "1ABtYozTn1IF"
      }
    },
    {
      "cell_type": "code",
      "source": [
        "small_num = None\n",
        "for num in [9,19,21,3,21,85,6,55]:\n",
        "    if small_num is None:\n",
        "        small_num = num\n",
        "    elif num < small_num:\n",
        "        small_num = num\n",
        "    print(small_num,num)\n",
        "print(small_num)"
      ],
      "metadata": {
        "colab": {
          "base_uri": "https://localhost:8080/"
        },
        "id": "9heA90Kjn4Hw",
        "outputId": "e581126a-de8b-4676-feee-39ab32c2e3c1"
      },
      "execution_count": null,
      "outputs": [
        {
          "output_type": "stream",
          "name": "stdout",
          "text": [
            "9 9\n",
            "9 19\n",
            "9 21\n",
            "3 3\n",
            "3 21\n",
            "3 85\n",
            "3 6\n",
            "3 55\n",
            "3\n"
          ]
        }
      ]
    },
    {
      "cell_type": "markdown",
      "source": [
        "**The \"is\" and \"is not\" Operators** <br>\n",
        "**\"is\"** operator can be used in logical expressions <br>\n",
        "**\"is not\"** is a logical operator"
      ],
      "metadata": {
        "id": "W4OfUw1_n7qm"
      }
    }
  ]
}