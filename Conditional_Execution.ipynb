{
  "nbformat": 4,
  "nbformat_minor": 0,
  "metadata": {
    "colab": {
      "name": "Conditional Execution.ipynb",
      "provenance": [],
      "collapsed_sections": [],
      "authorship_tag": "ABX9TyPkrTOpc0/lGG1cT4ZJQ+Ng",
      "include_colab_link": true
    },
    "kernelspec": {
      "name": "python3",
      "display_name": "Python 3"
    },
    "language_info": {
      "name": "python"
    }
  },
  "cells": [
    {
      "cell_type": "markdown",
      "metadata": {
        "id": "view-in-github",
        "colab_type": "text"
      },
      "source": [
        "<a href=\"https://colab.research.google.com/github/soujanya-vattikolla/Python-for-Everybody/blob/main/Conditional_Execution.ipynb\" target=\"_parent\"><img src=\"https://colab.research.google.com/assets/colab-badge.svg\" alt=\"Open In Colab\"/></a>"
      ]
    },
    {
      "cell_type": "markdown",
      "source": [
        "**Conditional Execution**<br>\n",
        "Comparison operators look at variables but do not change the variables <br>\n",
        "Boolean expressions using comparison operators evaluate to True/False or Yes/No"
      ],
      "metadata": {
        "id": "_5MEG-wZl-ll"
      }
    },
    {
      "cell_type": "markdown",
      "source": [
        "Indentation<br> \n",
        "Indentation in Python refers to the (spaces and tabs) that are used at the beginning of a statement. "
      ],
      "metadata": {
        "id": "XUttvc7cmFe-"
      }
    },
    {
      "cell_type": "markdown",
      "source": [
        "**Conditional Structures**<br>\n",
        "One way decision <br>\n",
        "Two way decision: <br>\n",
        "   If and else   <br>\n",
        "Nested Decisions   <br>\n",
        "Multi way decision using elif"
      ],
      "metadata": {
        "id": "kYkWbid4mIhh"
      }
    },
    {
      "cell_type": "code",
      "source": [
        "x = 1\n",
        "if x<2:\n",
        "    print(\"Below 2\")\n",
        "elif x >= 2:\n",
        "    print(\"Two or more\")\n",
        "else:\n",
        "    print(\"else\")"
      ],
      "metadata": {
        "colab": {
          "base_uri": "https://localhost:8080/"
        },
        "id": "bp8ROaSXmNGf",
        "outputId": "a150289d-4e80-40e3-80aa-35171b5f7119"
      },
      "execution_count": null,
      "outputs": [
        {
          "output_type": "stream",
          "name": "stdout",
          "text": [
            "Below 2\n"
          ]
        }
      ]
    },
    {
      "cell_type": "markdown",
      "source": [
        "**if...elif..else Statement**"
      ],
      "metadata": {
        "id": "xgjXw4mLmPxk"
      }
    },
    {
      "cell_type": "code",
      "source": [
        "marks = int(input(\"Enter the marks:\"))\n",
        "if marks >=90 and marks<=100:\n",
        "  print(\"A grade\")\n",
        "elif marks >=80:\n",
        "  print(\"B grade\")\n",
        "elif marks >=70:\n",
        "  print(\"C grade\")\n",
        "elif marks >=60:\n",
        "  print(\"D grade\")\n",
        "else:\n",
        "  print(\"Fail\")\n"
      ],
      "metadata": {
        "colab": {
          "base_uri": "https://localhost:8080/"
        },
        "id": "o0_lkPFXmQZT",
        "outputId": "e373fb7b-1634-43b0-842b-40a4f8f83b10"
      },
      "execution_count": null,
      "outputs": [
        {
          "output_type": "stream",
          "name": "stdout",
          "text": [
            "Enter the marks:85\n",
            "B grade\n"
          ]
        }
      ]
    },
    {
      "cell_type": "markdown",
      "source": [
        "**Nested if - else Statements**"
      ],
      "metadata": {
        "id": "PdmLjNHAmUYw"
      }
    },
    {
      "cell_type": "code",
      "source": [
        "marks = int(input(\"Enter marks: \"))\n",
        "if marks >= 75:\n",
        "  print(\"Grade: \",end=' ')\n",
        "  if marks >=90:\n",
        "      print(\"A\")\n",
        "  elif marks >=80:\n",
        "      print(\"B\")\n",
        "  elif marks >=70:\n",
        "      print(\"C\")\n",
        "else:\n",
        "  print(\"D\")"
      ],
      "metadata": {
        "colab": {
          "base_uri": "https://localhost:8080/"
        },
        "id": "2gPr4ssOmd0i",
        "outputId": "655dfaab-11c7-4637-ce53-f8687bd31810"
      },
      "execution_count": null,
      "outputs": [
        {
          "output_type": "stream",
          "name": "stdout",
          "text": [
            "Enter marks: 80\n",
            "Grade:  B\n"
          ]
        }
      ]
    },
    {
      "cell_type": "markdown",
      "source": [
        "**Try and except Structure**<br>\n",
        "If the code in try works, then except is skipped <br>\n",
        "If the code in try fails, then except is executed"
      ],
      "metadata": {
        "id": "cwCvYHPBmh0o"
      }
    }
  ]
}