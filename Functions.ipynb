{
  "nbformat": 4,
  "nbformat_minor": 0,
  "metadata": {
    "colab": {
      "name": "Functions.ipynb",
      "provenance": [],
      "collapsed_sections": [],
      "authorship_tag": "ABX9TyOKuVl+DeAHQBC+hdEc8Z8U",
      "include_colab_link": true
    },
    "kernelspec": {
      "name": "python3",
      "display_name": "Python 3"
    },
    "language_info": {
      "name": "python"
    }
  },
  "cells": [
    {
      "cell_type": "markdown",
      "metadata": {
        "id": "view-in-github",
        "colab_type": "text"
      },
      "source": [
        "<a href=\"https://colab.research.google.com/github/soujanya-vattikolla/Python-for-Everybody/blob/main/Functions.ipynb\" target=\"_parent\"><img src=\"https://colab.research.google.com/assets/colab-badge.svg\" alt=\"Open In Colab\"/></a>"
      ]
    },
    {
      "cell_type": "markdown",
      "source": [
        "**Functions** <br>\n",
        "Reusability of Code.<br>\n",
        "There are two kinds of functions: Built-in functions and Functions that we define ourselves and then use <br>\n",
        "We define a function using the def reserved word"
      ],
      "metadata": {
        "id": "mBDFKeqKmzEa"
      }
    },
    {
      "cell_type": "code",
      "source": [
        "def myFirstFunction():\n",
        "  print(\"FirstFunction\")\n",
        "myFirstFunction()"
      ],
      "metadata": {
        "colab": {
          "base_uri": "https://localhost:8080/"
        },
        "id": "PtsyYXRim1va",
        "outputId": "848b306f-b119-462e-d18e-3e8635e9bad5"
      },
      "execution_count": 1,
      "outputs": [
        {
          "output_type": "stream",
          "name": "stdout",
          "text": [
            "FirstFunction\n"
          ]
        }
      ]
    },
    {
      "cell_type": "markdown",
      "source": [
        "**Arguments** <br>\n",
        "An argument is a value we pass into the function as its input when we call the function."
      ],
      "metadata": {
        "id": "ARHm1IzDm8qy"
      }
    },
    {
      "cell_type": "code",
      "source": [
        "def square(num):\n",
        "  print(\"The square of {} is {} \" .format(num, num**2))\n",
        "\n",
        "square(5)\n",
        "square(10)"
      ],
      "metadata": {
        "colab": {
          "base_uri": "https://localhost:8080/"
        },
        "id": "RtLO6HRom-_R",
        "outputId": "b124097a-fcc6-4033-82dc-e5a9859d736d"
      },
      "execution_count": 2,
      "outputs": [
        {
          "output_type": "stream",
          "name": "stdout",
          "text": [
            "The square of 5 is 25 \n",
            "The square of 10 is 100 \n"
          ]
        }
      ]
    },
    {
      "cell_type": "markdown",
      "source": [
        "**Return value**<br>\n",
        "The return statement ends the function execution and send back the result of the function."
      ],
      "metadata": {
        "id": "s0zxQZ8_nCE3"
      }
    },
    {
      "cell_type": "code",
      "source": [
        "def add_sub(a,b):\n",
        "    add = a+b\n",
        "    sub = a-b\n",
        "    return add,sub\n",
        "numbers = add_sub(10,5)\n",
        "print(\"addition and subtraction is: \", numbers)"
      ],
      "metadata": {
        "colab": {
          "base_uri": "https://localhost:8080/"
        },
        "id": "uVahTceFnFcC",
        "outputId": "02ca9aff-4684-4219-a18f-338c8d66d749"
      },
      "execution_count": 3,
      "outputs": [
        {
          "output_type": "stream",
          "name": "stdout",
          "text": [
            "addition and subtraction is:  (15, 5)\n"
          ]
        }
      ]
    },
    {
      "cell_type": "markdown",
      "source": [
        "**Multiple Parameters/Arguments**"
      ],
      "metadata": {
        "id": "I4kPDl4tnHq5"
      }
    },
    {
      "cell_type": "code",
      "source": [
        "def printInfo(marks,name,age,message):\n",
        "    print(\"Name: \", name)\n",
        "    print(\"Age: \",age)\n",
        "    print(\"Marks: \",marks)\n",
        "    print(\"Message: \",message)\n",
        "printInfo(100,\"abc\",16,\"GoodMorning\")"
      ],
      "metadata": {
        "colab": {
          "base_uri": "https://localhost:8080/"
        },
        "id": "GfALCkQbnINC",
        "outputId": "2c79b8bd-8e3b-49d2-ed8a-79ce5dfc668f"
      },
      "execution_count": 4,
      "outputs": [
        {
          "output_type": "stream",
          "name": "stdout",
          "text": [
            "Name:  abc\n",
            "Age:  16\n",
            "Marks:  100\n",
            "Message:  GoodMorning\n"
          ]
        }
      ]
    },
    {
      "cell_type": "markdown",
      "source": [
        "**Void Function**<br>\n",
        "When the function does not return a value, we call it a void function"
      ],
      "metadata": {
        "id": "89vGs_VjnNV9"
      }
    }
  ]
}