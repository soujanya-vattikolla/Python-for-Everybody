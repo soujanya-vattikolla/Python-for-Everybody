{
  "nbformat": 4,
  "nbformat_minor": 0,
  "metadata": {
    "colab": {
      "name": "Networked Programs.ipynb",
      "provenance": [],
      "collapsed_sections": [],
      "authorship_tag": "ABX9TyPNgUKYJD5TL5qzlV9pHia1",
      "include_colab_link": true
    },
    "kernelspec": {
      "name": "python3",
      "display_name": "Python 3"
    },
    "language_info": {
      "name": "python"
    }
  },
  "cells": [
    {
      "cell_type": "markdown",
      "metadata": {
        "id": "view-in-github",
        "colab_type": "text"
      },
      "source": [
        "<a href=\"https://colab.research.google.com/github/soujanya-vattikolla/Python-for-Everybody/blob/main/Networked_Programs.ipynb\" target=\"_parent\"><img src=\"https://colab.research.google.com/assets/colab-badge.svg\" alt=\"Open In Colab\"/></a>"
      ]
    },
    {
      "cell_type": "markdown",
      "source": [
        "**Networked Programs**"
      ],
      "metadata": {
        "id": "671ygrwvtsDb"
      }
    },
    {
      "cell_type": "markdown",
      "source": [
        "**Transport Control Protocol(TCP)**<br>\n",
        "\n",
        "*   Built on top of IP(Internet Protocol)\n",
        "*   Handles flow control using a transmit window\n",
        "*   Provides a nice reliable pipe"
      ],
      "metadata": {
        "id": "xhG7YlGRtuxo"
      }
    },
    {
      "cell_type": "markdown",
      "source": [
        "**Common TCP Ports**\n",
        "\n",
        "*  Telnet (23) - Login\n",
        "*  SSH (22) - Secure Login\n",
        "*  HTTP(80)\n",
        "*  HTTPS(443)- Secure\n",
        "*  SMTP(25) - mail\n",
        "*  IMAP(143/220/993)- Mail Retrieval\n",
        "*  POP(109/110) - Mail Retrieval\n",
        "*  DNS(53) - Domain Name\n",
        "*  FTP(21) - File Transfer\n"
      ],
      "metadata": {
        "id": "jck-MoustwUz"
      }
    },
    {
      "cell_type": "markdown",
      "source": [
        "**Sockets in Python**<br>\n",
        "Python has builtin support for TCP sockets.<br>\n",
        "import socket<br>\n",
        "**Application Protocols**<br>\n",
        "*   Mail\n",
        "*   World Wide Web\n",
        "\n",
        "**HTTP**<br>\n",
        "The Hyper Text Transfer Protocol is the set of rules to allow browsers to retrieve web documents from servers over the internet.<br>\n",
        "\n",
        "\n",
        "**Internet Standards**<br>\n",
        "Standards are called **RFCs**- Request for Comments"
      ],
      "metadata": {
        "id": "vX_Cw4KmtzSL"
      }
    },
    {
      "cell_type": "code",
      "source": [
        "import socket\n",
        "\n",
        "mysock = socket.socket(socket.AF_INET,socket.SOCK_STREAM)\n",
        "mysock.connect(('data.pr4e.org',80))\n",
        "cmd = 'GET http://data.pr4e.org/clown.txt HTTP/1.0\\n\\n'.encode()\n",
        "mysock.send(cmd)\n",
        "\n",
        "while True:\n",
        "  data = mysock.recv(512)\n",
        "  if (len(data) < 1):\n",
        "    break\n",
        "  print(data.decode())\n",
        "mysock.close()"
      ],
      "metadata": {
        "colab": {
          "base_uri": "https://localhost:8080/"
        },
        "id": "Ti3mPLS1t3oT",
        "outputId": "06508212-2af6-4e89-d5ba-aa41b38502d2"
      },
      "execution_count": 1,
      "outputs": [
        {
          "output_type": "stream",
          "name": "stdout",
          "text": [
            "HTTP/1.1 400 Bad Request\r\n",
            "Date: Wed, 23 Feb 2022 17:53:42 GMT\r\n",
            "Server: Apache/2.4.18 (Ubuntu)\r\n",
            "Content-Length: 308\r\n",
            "Connection: close\r\n",
            "Content-Type: text/html; charset=iso-8859-1\r\n",
            "\r\n",
            "<!DOCTYPE HTML PUBLIC \"-//IETF//DTD HTML 2.0//EN\">\n",
            "<html><head>\n",
            "<title>400 Bad Request</title>\n",
            "</head><body>\n",
            "<h1>Bad Request</h1>\n",
            "<p>Your browser sent a request that this server could not understand.<br />\n",
            "</p>\n",
            "<hr>\n",
            "<address>Apache/2.4.18 (Ubuntu) Server at do1.dr-chuck.com Port 80</address>\n",
            "</body></html>\n",
            "\n"
          ]
        }
      ]
    }
  ]
}